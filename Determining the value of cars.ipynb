{
 "cells": [
  {
   "cell_type": "markdown",
   "metadata": {},
   "source": [
    "# Определение стоимости автомобилей"
   ]
  },
  {
   "cell_type": "markdown",
   "metadata": {},
   "source": [
    "Сервис по продаже автомобилей с пробегом «Не бит, не крашен» разрабатывает приложение для привлечения новых клиентов. В нём можно быстро узнать рыночную стоимость своего автомобиля. В вашем распоряжении исторические данные: технические характеристики, комплектации и цены автомобилей. Вам нужно построить модель для определения стоимости. \n",
    "\n",
    "Заказчику важны:\n",
    "\n",
    "- качество предсказания;\n",
    "- скорость предсказания;\n",
    "- время обучения."
   ]
  },
  {
   "cell_type": "markdown",
   "metadata": {},
   "source": [
    "ЦЕЛЬ:\n",
    "- определить рыночную стоимость автомобиля\n",
    "\n",
    "ЗАДАЧА:\n",
    "- разработать модель, которая сможет определять рыночную стоимость автомобиля\n",
    "\n",
    "ХОД РАБОТЫ:\n",
    "\n",
    "1) Загрузка данных\n",
    "\n",
    "2) Изучить данные\n",
    "\n",
    "3) Подготовить выборки для обучения моделей\n",
    "\n",
    "4) Обучить разные модели\n",
    "\n",
    "5) Проанализировать время обучения, время предсказания и качество моделей\n",
    "\n",
    "6) Выбрать лучшую модель \n",
    "\n",
    "Описание данных\n",
    "\n",
    "Данные находятся в файле /datasets/autos.csv.\n",
    "\n",
    "Признаки\n",
    "- DateCrawled — дата скачивания анкеты из базы\n",
    "- VehicleType — тип автомобильного кузова\n",
    "- RegistrationYear — год регистрации автомобиля\n",
    "- Gearbox — тип коробки передач\n",
    "- Power — мощность (л. с.)\n",
    "- Model — модель автомобиля\n",
    "- Kilometer — пробег (км)\n",
    "- RegistrationMonth — месяц регистрации автомобиля\n",
    "- FuelType — тип топлива\n",
    "- Brand — марка автомобиля\n",
    "- Repaired — была машина в ремонте или нет\n",
    "- DateCreated — дата создания анкеты\n",
    "- NumberOfPictures — количество фотографий автомобиля\n",
    "- PostalCode — почтовый индекс владельца анкеты (пользователя)\n",
    "- LastSeen — дата последней активности пользователя\n",
    "\n",
    "Целевой признак\n",
    "- Price — цена (евро)"
   ]
  },
  {
   "cell_type": "code",
   "execution_count": 1,
   "metadata": {},
   "outputs": [
    {
     "name": "stdout",
     "output_type": "stream",
     "text": [
      "Defaulting to user installation because normal site-packages is not writeable\n",
      "Requirement already satisfied: lightgbm in c:\\users\\admin\\appdata\\roaming\\python\\python311\\site-packages (4.5.0)\n",
      "Requirement already satisfied: numpy>=1.17.0 in c:\\programdata\\anaconda3\\lib\\site-packages (from lightgbm) (1.24.3)\n",
      "Requirement already satisfied: scipy in c:\\programdata\\anaconda3\\lib\\site-packages (from lightgbm) (1.11.1)\n"
     ]
    }
   ],
   "source": [
    "!pip install lightgbm"
   ]
  },
  {
   "cell_type": "code",
   "execution_count": 2,
   "metadata": {},
   "outputs": [],
   "source": [
    "!pip install --upgrade scikit-learn==1.2 -q"
   ]
  },
  {
   "cell_type": "code",
   "execution_count": 3,
   "metadata": {},
   "outputs": [],
   "source": [
    "!pip install phik -q"
   ]
  },
  {
   "cell_type": "code",
   "execution_count": 4,
   "metadata": {},
   "outputs": [],
   "source": [
    "# !pip install catboost"
   ]
  },
  {
   "cell_type": "code",
   "execution_count": 5,
   "metadata": {},
   "outputs": [],
   "source": [
    "# !pip install -U scikit-learn"
   ]
  },
  {
   "cell_type": "code",
   "execution_count": 53,
   "metadata": {},
   "outputs": [],
   "source": [
    "import time\n",
    "import lightgbm as lgb\n",
    "\n",
    "from phik import phik_matrix\n",
    "from phik.report import plot_correlation_matrix\n",
    "\n",
    "import pandas as pd\n",
    "import numpy as np\n",
    "import matplotlib.pyplot as plt\n",
    "import seaborn as sns\n",
    "\n",
    "from sklearn.metrics import mean_squared_error\n",
    "from sklearn.linear_model import LinearRegression\n",
    "from sklearn.preprocessing import StandardScaler\n",
    "from sklearn.preprocessing import OneHotEncoder\n",
    "from sklearn.model_selection import GridSearchCV, train_test_split, cross_val_score\n",
    "\n",
    "from catboost import CatBoostRegressor\n",
    "from lightgbm import LGBMRegressor"
   ]
  },
  {
   "cell_type": "markdown",
   "metadata": {},
   "source": [
    "## Подготовка данных"
   ]
  },
  {
   "cell_type": "code",
   "execution_count": 7,
   "metadata": {},
   "outputs": [],
   "source": [
    "data = pd.read_csv('/datasets/autos.csv')"
   ]
  },
  {
   "cell_type": "code",
   "execution_count": 8,
   "metadata": {},
   "outputs": [],
   "source": [
    "def check_data(name):\n",
    "    print('общая информация ***************************************************************************************************')\n",
    "    name.info()\n",
    "    print('первые 5 строк *****************************************************************************************************')\n",
    "    display(name.head())\n",
    "    print('название столбцов **************************************************************************************************')\n",
    "    display(name.columns)\n",
    "    print('количество пропусков ***********************************************************************************************')\n",
    "    print(name.isnull().sum())\n",
    "    print('количество явных дубликатов ********************************************************************************************')\n",
    "    print(name.duplicated().sum())\n",
    "    display(name.describe().T)"
   ]
  },
  {
   "cell_type": "code",
   "execution_count": 9,
   "metadata": {},
   "outputs": [
    {
     "name": "stdout",
     "output_type": "stream",
     "text": [
      "общая информация ***************************************************************************************************\n",
      "<class 'pandas.core.frame.DataFrame'>\n",
      "RangeIndex: 354369 entries, 0 to 354368\n",
      "Data columns (total 16 columns):\n",
      " #   Column             Non-Null Count   Dtype \n",
      "---  ------             --------------   ----- \n",
      " 0   DateCrawled        354369 non-null  object\n",
      " 1   Price              354369 non-null  int64 \n",
      " 2   VehicleType        316879 non-null  object\n",
      " 3   RegistrationYear   354369 non-null  int64 \n",
      " 4   Gearbox            334536 non-null  object\n",
      " 5   Power              354369 non-null  int64 \n",
      " 6   Model              334664 non-null  object\n",
      " 7   Kilometer          354369 non-null  int64 \n",
      " 8   RegistrationMonth  354369 non-null  int64 \n",
      " 9   FuelType           321474 non-null  object\n",
      " 10  Brand              354369 non-null  object\n",
      " 11  Repaired           283215 non-null  object\n",
      " 12  DateCreated        354369 non-null  object\n",
      " 13  NumberOfPictures   354369 non-null  int64 \n",
      " 14  PostalCode         354369 non-null  int64 \n",
      " 15  LastSeen           354369 non-null  object\n",
      "dtypes: int64(7), object(9)\n",
      "memory usage: 43.3+ MB\n",
      "первые 5 строк *****************************************************************************************************\n"
     ]
    },
    {
     "data": {
      "text/html": [
       "<div>\n",
       "<style scoped>\n",
       "    .dataframe tbody tr th:only-of-type {\n",
       "        vertical-align: middle;\n",
       "    }\n",
       "\n",
       "    .dataframe tbody tr th {\n",
       "        vertical-align: top;\n",
       "    }\n",
       "\n",
       "    .dataframe thead th {\n",
       "        text-align: right;\n",
       "    }\n",
       "</style>\n",
       "<table border=\"1\" class=\"dataframe\">\n",
       "  <thead>\n",
       "    <tr style=\"text-align: right;\">\n",
       "      <th></th>\n",
       "      <th>DateCrawled</th>\n",
       "      <th>Price</th>\n",
       "      <th>VehicleType</th>\n",
       "      <th>RegistrationYear</th>\n",
       "      <th>Gearbox</th>\n",
       "      <th>Power</th>\n",
       "      <th>Model</th>\n",
       "      <th>Kilometer</th>\n",
       "      <th>RegistrationMonth</th>\n",
       "      <th>FuelType</th>\n",
       "      <th>Brand</th>\n",
       "      <th>Repaired</th>\n",
       "      <th>DateCreated</th>\n",
       "      <th>NumberOfPictures</th>\n",
       "      <th>PostalCode</th>\n",
       "      <th>LastSeen</th>\n",
       "    </tr>\n",
       "  </thead>\n",
       "  <tbody>\n",
       "    <tr>\n",
       "      <th>0</th>\n",
       "      <td>2016-03-24 11:52:17</td>\n",
       "      <td>480</td>\n",
       "      <td>NaN</td>\n",
       "      <td>1993</td>\n",
       "      <td>manual</td>\n",
       "      <td>0</td>\n",
       "      <td>golf</td>\n",
       "      <td>150000</td>\n",
       "      <td>0</td>\n",
       "      <td>petrol</td>\n",
       "      <td>volkswagen</td>\n",
       "      <td>NaN</td>\n",
       "      <td>2016-03-24 00:00:00</td>\n",
       "      <td>0</td>\n",
       "      <td>70435</td>\n",
       "      <td>2016-04-07 03:16:57</td>\n",
       "    </tr>\n",
       "    <tr>\n",
       "      <th>1</th>\n",
       "      <td>2016-03-24 10:58:45</td>\n",
       "      <td>18300</td>\n",
       "      <td>coupe</td>\n",
       "      <td>2011</td>\n",
       "      <td>manual</td>\n",
       "      <td>190</td>\n",
       "      <td>NaN</td>\n",
       "      <td>125000</td>\n",
       "      <td>5</td>\n",
       "      <td>gasoline</td>\n",
       "      <td>audi</td>\n",
       "      <td>yes</td>\n",
       "      <td>2016-03-24 00:00:00</td>\n",
       "      <td>0</td>\n",
       "      <td>66954</td>\n",
       "      <td>2016-04-07 01:46:50</td>\n",
       "    </tr>\n",
       "    <tr>\n",
       "      <th>2</th>\n",
       "      <td>2016-03-14 12:52:21</td>\n",
       "      <td>9800</td>\n",
       "      <td>suv</td>\n",
       "      <td>2004</td>\n",
       "      <td>auto</td>\n",
       "      <td>163</td>\n",
       "      <td>grand</td>\n",
       "      <td>125000</td>\n",
       "      <td>8</td>\n",
       "      <td>gasoline</td>\n",
       "      <td>jeep</td>\n",
       "      <td>NaN</td>\n",
       "      <td>2016-03-14 00:00:00</td>\n",
       "      <td>0</td>\n",
       "      <td>90480</td>\n",
       "      <td>2016-04-05 12:47:46</td>\n",
       "    </tr>\n",
       "    <tr>\n",
       "      <th>3</th>\n",
       "      <td>2016-03-17 16:54:04</td>\n",
       "      <td>1500</td>\n",
       "      <td>small</td>\n",
       "      <td>2001</td>\n",
       "      <td>manual</td>\n",
       "      <td>75</td>\n",
       "      <td>golf</td>\n",
       "      <td>150000</td>\n",
       "      <td>6</td>\n",
       "      <td>petrol</td>\n",
       "      <td>volkswagen</td>\n",
       "      <td>no</td>\n",
       "      <td>2016-03-17 00:00:00</td>\n",
       "      <td>0</td>\n",
       "      <td>91074</td>\n",
       "      <td>2016-03-17 17:40:17</td>\n",
       "    </tr>\n",
       "    <tr>\n",
       "      <th>4</th>\n",
       "      <td>2016-03-31 17:25:20</td>\n",
       "      <td>3600</td>\n",
       "      <td>small</td>\n",
       "      <td>2008</td>\n",
       "      <td>manual</td>\n",
       "      <td>69</td>\n",
       "      <td>fabia</td>\n",
       "      <td>90000</td>\n",
       "      <td>7</td>\n",
       "      <td>gasoline</td>\n",
       "      <td>skoda</td>\n",
       "      <td>no</td>\n",
       "      <td>2016-03-31 00:00:00</td>\n",
       "      <td>0</td>\n",
       "      <td>60437</td>\n",
       "      <td>2016-04-06 10:17:21</td>\n",
       "    </tr>\n",
       "  </tbody>\n",
       "</table>\n",
       "</div>"
      ],
      "text/plain": [
       "           DateCrawled  Price VehicleType  RegistrationYear Gearbox  Power  \\\n",
       "0  2016-03-24 11:52:17    480         NaN              1993  manual      0   \n",
       "1  2016-03-24 10:58:45  18300       coupe              2011  manual    190   \n",
       "2  2016-03-14 12:52:21   9800         suv              2004    auto    163   \n",
       "3  2016-03-17 16:54:04   1500       small              2001  manual     75   \n",
       "4  2016-03-31 17:25:20   3600       small              2008  manual     69   \n",
       "\n",
       "   Model  Kilometer  RegistrationMonth  FuelType       Brand Repaired  \\\n",
       "0   golf     150000                  0    petrol  volkswagen      NaN   \n",
       "1    NaN     125000                  5  gasoline        audi      yes   \n",
       "2  grand     125000                  8  gasoline        jeep      NaN   \n",
       "3   golf     150000                  6    petrol  volkswagen       no   \n",
       "4  fabia      90000                  7  gasoline       skoda       no   \n",
       "\n",
       "           DateCreated  NumberOfPictures  PostalCode             LastSeen  \n",
       "0  2016-03-24 00:00:00                 0       70435  2016-04-07 03:16:57  \n",
       "1  2016-03-24 00:00:00                 0       66954  2016-04-07 01:46:50  \n",
       "2  2016-03-14 00:00:00                 0       90480  2016-04-05 12:47:46  \n",
       "3  2016-03-17 00:00:00                 0       91074  2016-03-17 17:40:17  \n",
       "4  2016-03-31 00:00:00                 0       60437  2016-04-06 10:17:21  "
      ]
     },
     "metadata": {},
     "output_type": "display_data"
    },
    {
     "name": "stdout",
     "output_type": "stream",
     "text": [
      "название столбцов **************************************************************************************************\n"
     ]
    },
    {
     "data": {
      "text/plain": [
       "Index(['DateCrawled', 'Price', 'VehicleType', 'RegistrationYear', 'Gearbox',\n",
       "       'Power', 'Model', 'Kilometer', 'RegistrationMonth', 'FuelType', 'Brand',\n",
       "       'Repaired', 'DateCreated', 'NumberOfPictures', 'PostalCode',\n",
       "       'LastSeen'],\n",
       "      dtype='object')"
      ]
     },
     "metadata": {},
     "output_type": "display_data"
    },
    {
     "name": "stdout",
     "output_type": "stream",
     "text": [
      "количество пропусков ***********************************************************************************************\n",
      "DateCrawled              0\n",
      "Price                    0\n",
      "VehicleType          37490\n",
      "RegistrationYear         0\n",
      "Gearbox              19833\n",
      "Power                    0\n",
      "Model                19705\n",
      "Kilometer                0\n",
      "RegistrationMonth        0\n",
      "FuelType             32895\n",
      "Brand                    0\n",
      "Repaired             71154\n",
      "DateCreated              0\n",
      "NumberOfPictures         0\n",
      "PostalCode               0\n",
      "LastSeen                 0\n",
      "dtype: int64\n",
      "количество явных дубликатов ********************************************************************************************\n",
      "4\n"
     ]
    },
    {
     "data": {
      "text/html": [
       "<div>\n",
       "<style scoped>\n",
       "    .dataframe tbody tr th:only-of-type {\n",
       "        vertical-align: middle;\n",
       "    }\n",
       "\n",
       "    .dataframe tbody tr th {\n",
       "        vertical-align: top;\n",
       "    }\n",
       "\n",
       "    .dataframe thead th {\n",
       "        text-align: right;\n",
       "    }\n",
       "</style>\n",
       "<table border=\"1\" class=\"dataframe\">\n",
       "  <thead>\n",
       "    <tr style=\"text-align: right;\">\n",
       "      <th></th>\n",
       "      <th>count</th>\n",
       "      <th>mean</th>\n",
       "      <th>std</th>\n",
       "      <th>min</th>\n",
       "      <th>25%</th>\n",
       "      <th>50%</th>\n",
       "      <th>75%</th>\n",
       "      <th>max</th>\n",
       "    </tr>\n",
       "  </thead>\n",
       "  <tbody>\n",
       "    <tr>\n",
       "      <th>Price</th>\n",
       "      <td>354369.0</td>\n",
       "      <td>4416.656776</td>\n",
       "      <td>4514.158514</td>\n",
       "      <td>0.0</td>\n",
       "      <td>1050.0</td>\n",
       "      <td>2700.0</td>\n",
       "      <td>6400.0</td>\n",
       "      <td>20000.0</td>\n",
       "    </tr>\n",
       "    <tr>\n",
       "      <th>RegistrationYear</th>\n",
       "      <td>354369.0</td>\n",
       "      <td>2004.234448</td>\n",
       "      <td>90.227958</td>\n",
       "      <td>1000.0</td>\n",
       "      <td>1999.0</td>\n",
       "      <td>2003.0</td>\n",
       "      <td>2008.0</td>\n",
       "      <td>9999.0</td>\n",
       "    </tr>\n",
       "    <tr>\n",
       "      <th>Power</th>\n",
       "      <td>354369.0</td>\n",
       "      <td>110.094337</td>\n",
       "      <td>189.850405</td>\n",
       "      <td>0.0</td>\n",
       "      <td>69.0</td>\n",
       "      <td>105.0</td>\n",
       "      <td>143.0</td>\n",
       "      <td>20000.0</td>\n",
       "    </tr>\n",
       "    <tr>\n",
       "      <th>Kilometer</th>\n",
       "      <td>354369.0</td>\n",
       "      <td>128211.172535</td>\n",
       "      <td>37905.341530</td>\n",
       "      <td>5000.0</td>\n",
       "      <td>125000.0</td>\n",
       "      <td>150000.0</td>\n",
       "      <td>150000.0</td>\n",
       "      <td>150000.0</td>\n",
       "    </tr>\n",
       "    <tr>\n",
       "      <th>RegistrationMonth</th>\n",
       "      <td>354369.0</td>\n",
       "      <td>5.714645</td>\n",
       "      <td>3.726421</td>\n",
       "      <td>0.0</td>\n",
       "      <td>3.0</td>\n",
       "      <td>6.0</td>\n",
       "      <td>9.0</td>\n",
       "      <td>12.0</td>\n",
       "    </tr>\n",
       "    <tr>\n",
       "      <th>NumberOfPictures</th>\n",
       "      <td>354369.0</td>\n",
       "      <td>0.000000</td>\n",
       "      <td>0.000000</td>\n",
       "      <td>0.0</td>\n",
       "      <td>0.0</td>\n",
       "      <td>0.0</td>\n",
       "      <td>0.0</td>\n",
       "      <td>0.0</td>\n",
       "    </tr>\n",
       "    <tr>\n",
       "      <th>PostalCode</th>\n",
       "      <td>354369.0</td>\n",
       "      <td>50508.689087</td>\n",
       "      <td>25783.096248</td>\n",
       "      <td>1067.0</td>\n",
       "      <td>30165.0</td>\n",
       "      <td>49413.0</td>\n",
       "      <td>71083.0</td>\n",
       "      <td>99998.0</td>\n",
       "    </tr>\n",
       "  </tbody>\n",
       "</table>\n",
       "</div>"
      ],
      "text/plain": [
       "                      count           mean           std     min       25%  \\\n",
       "Price              354369.0    4416.656776   4514.158514     0.0    1050.0   \n",
       "RegistrationYear   354369.0    2004.234448     90.227958  1000.0    1999.0   \n",
       "Power              354369.0     110.094337    189.850405     0.0      69.0   \n",
       "Kilometer          354369.0  128211.172535  37905.341530  5000.0  125000.0   \n",
       "RegistrationMonth  354369.0       5.714645      3.726421     0.0       3.0   \n",
       "NumberOfPictures   354369.0       0.000000      0.000000     0.0       0.0   \n",
       "PostalCode         354369.0   50508.689087  25783.096248  1067.0   30165.0   \n",
       "\n",
       "                        50%       75%       max  \n",
       "Price                2700.0    6400.0   20000.0  \n",
       "RegistrationYear     2003.0    2008.0    9999.0  \n",
       "Power                 105.0     143.0   20000.0  \n",
       "Kilometer          150000.0  150000.0  150000.0  \n",
       "RegistrationMonth       6.0       9.0      12.0  \n",
       "NumberOfPictures        0.0       0.0       0.0  \n",
       "PostalCode          49413.0   71083.0   99998.0  "
      ]
     },
     "metadata": {},
     "output_type": "display_data"
    }
   ],
   "source": [
    "check_data(data)"
   ]
  },
  {
   "cell_type": "markdown",
   "metadata": {},
   "source": [
    "Данные выгружены, однако были обнаружены пропуски и дубликаты, будем разбираться) Также, мне не нравится как выглядят названия столбцов, исправим сначала это)"
   ]
  },
  {
   "cell_type": "markdown",
   "metadata": {},
   "source": [
    "сразу удалим явные дубликаты)"
   ]
  },
  {
   "cell_type": "code",
   "execution_count": 10,
   "metadata": {},
   "outputs": [],
   "source": [
    "data = data.drop_duplicates()\n",
    "# data.duplicated().sum()"
   ]
  },
  {
   "cell_type": "code",
   "execution_count": 11,
   "metadata": {},
   "outputs": [
    {
     "data": {
      "text/plain": [
       "Index(['date_crawled', 'price', 'vehicle_type', 'registration_year', 'gearbox',\n",
       "       'power', 'model', 'kilometer', 'registration_month', 'fuel_type',\n",
       "       'brand', 'repaired', 'date_created', 'number_of_pictures',\n",
       "       'postal_code', 'last_seen'],\n",
       "      dtype='object')"
      ]
     },
     "metadata": {},
     "output_type": "display_data"
    }
   ],
   "source": [
    "data.columns = (\n",
    "    data.columns\n",
    "    .str.replace(r\"([A-Z])\", r\" \\1\", regex=True)\n",
    "    .str.lower() \n",
    "    .str.replace(' ', '_') \n",
    ")\n",
    "\n",
    "if data.columns[0].startswith('_'):\n",
    "    data.columns = data.columns.str[1:]\n",
    "\n",
    "display(data.columns)"
   ]
  },
  {
   "cell_type": "markdown",
   "metadata": {},
   "source": [
    "Если удалить все пропуски, то это будет слишком рискованно, так как их большое количество, что в дальнейшем может повлиять на обучение нашей модели, поэтому: \n",
    "\n",
    "1)заменим пропуски в столбцах на моды()\n",
    "\n",
    "2)заменим пропуски на unknown()\n",
    "\n",
    "3)удалим пропуски ()\n",
    "\n",
    "Конечно можно постараться вручную гуглить и узнавать про тип коробки, кузова и тд, однако времени это займет большое количество, поэтому тратить на это время мы не будем. Заменять все на моды - не вижу смысла, есть большая вероятность сильно исказить данные, ошибочно определив большое количество данных в признаках, тем более у нас нет возможности быстро по другим признакам восстановить отстутствующие, заменить все пропуски на unknown - тоже плохая идея, поэтому решения для каждого столбца подберем отдельно, в зависимости от количества пропусков и значимости признака)\n",
    "\n",
    "Логично также будет предположить, что если есть пропуск в колонке \"была машина в ремонте или нет\", то вероятнее всего заполнявший оставил пропуск, по причине того, что машина в ремонте не была, однако мы не будем рисковать и брать на себя лишнюю ответсвенность, просто добавим новое значение в столбец и скажем unknown). Как говорилось ранее сложно угадать тип кузова и коробку у машины, поэтому заменим тип кузова уже на имеющееся в признаке значение \"other\", а коробку на unknown. Далее модель, модель решает многое, да и отношение количства пропусков ко всем значениям в признака всего 5%, поэтому просто удалим). В fuel_type можно заменить пропуски на уже имеющийся \"other\"), и также заменить gasoline на petrol, так как это одно и тоже просто название разные (Для США и Великобритании)"
   ]
  },
  {
   "cell_type": "code",
   "execution_count": 12,
   "metadata": {},
   "outputs": [
    {
     "name": "stdout",
     "output_type": "stream",
     "text": [
      "repaired\n",
      "no         238852\n",
      "unknown     62100\n",
      "yes         33708\n",
      "Name: count, dtype: int64\n",
      "vehicle_type\n",
      "sedan          88119\n",
      "small          76493\n",
      "wagon          62995\n",
      "other          33466\n",
      "bus            27794\n",
      "convertible    19319\n",
      "coupe          15237\n",
      "suv            11237\n",
      "Name: count, dtype: int64\n",
      "gearbox\n",
      "manual     255922\n",
      "auto        63036\n",
      "unknown     15702\n",
      "Name: count, dtype: int64\n",
      "model\n",
      "golf                  29232\n",
      "other                 24420\n",
      "3er                   19761\n",
      "polo                  13066\n",
      "corsa                 12570\n",
      "                      ...  \n",
      "i3                        8\n",
      "serie_3                   4\n",
      "rangerover                4\n",
      "range_rover_evoque        2\n",
      "serie_1                   2\n",
      "Name: count, Length: 250, dtype: int64\n",
      "fuel_type\n",
      "petrol      303015\n",
      "other        25865\n",
      "lpg           4962\n",
      "cng            544\n",
      "hybrid         208\n",
      "electric        66\n",
      "Name: count, dtype: int64\n"
     ]
    }
   ],
   "source": [
    "data['fuel_type'] = data['fuel_type'].replace(['gasoline'],'petrol')\n",
    "data.fillna({\"vehicle_type\":'other', \"gearbox\":'unknown', 'fuel_type': 'other', 'repaired': \"unknown\"}, inplace=True)\n",
    "data.dropna(subset=['model'], inplace=True)\n",
    "data = data.reset_index(drop=True)\n",
    "\n",
    "print(data.repaired.value_counts())\n",
    "print(data.vehicle_type.value_counts())\n",
    "print(data.gearbox.value_counts())\n",
    "print(data.model.value_counts())\n",
    "print(data.fuel_type.value_counts())"
   ]
  },
  {
   "cell_type": "markdown",
   "metadata": {},
   "source": [
    "Займемся выбросами и аномалиями, для этого проведем анализ признаков)"
   ]
  },
  {
   "cell_type": "code",
   "execution_count": 13,
   "metadata": {},
   "outputs": [],
   "source": [
    "def bxplt(DATA, name):\n",
    "    sns.boxplot(data = DATA, y = name)\n",
    "    plt.ylabel(name)\n",
    "    plt.title('Ящик с усами')\n",
    "    \n",
    "def hst(DATA, name):\n",
    "    DATA[name].hist(color='green', bins=60, edgecolor = 'black')\n",
    "    plt.title('Распределение признака', fontsize=15)\n",
    "    plt.xlabel(name, fontsize=12)\n",
    "    plt.ylabel('Количеcтво',fontsize=12)\n",
    "    print(DATA[name].describe())"
   ]
  },
  {
   "cell_type": "code",
   "execution_count": 14,
   "metadata": {},
   "outputs": [
    {
     "name": "stdout",
     "output_type": "stream",
     "text": [
      "count    334660.000000\n",
      "mean       4504.372249\n",
      "std        4531.457109\n",
      "min           0.000000\n",
      "25%        1150.000000\n",
      "50%        2800.000000\n",
      "75%        6500.000000\n",
      "max       20000.000000\n",
      "Name: price, dtype: float64\n"
     ]
    },
    {
     "data": {
      "image/png": "[encoded data removed]",
      "text/plain": [
       "<Figure size 640x480 with 1 Axes>"
      ]
     },
     "metadata": {},
     "output_type": "display_data"
    }
   ],
   "source": [
    "hst(data, 'price')"
   ]
  },
  {
   "cell_type": "code",
   "execution_count": 15,
   "metadata": {},
   "outputs": [
    {
     "data": {
      "image/png": "[encoded data removed]",
      "text/plain": [
       "<Figure size 640x480 with 1 Axes>"
      ]
     },
     "metadata": {},
     "output_type": "display_data"
    }
   ],
   "source": [
    "bxplt(data, 'price')"
   ]
  },
  {
   "cell_type": "code",
   "execution_count": 16,
   "metadata": {},
   "outputs": [
    {
     "name": "stdout",
     "output_type": "stream",
     "text": [
      "count    334660.000000\n",
      "mean       2003.924024\n",
      "std          69.377633\n",
      "min        1000.000000\n",
      "25%        1999.000000\n",
      "50%        2003.000000\n",
      "75%        2008.000000\n",
      "max        9999.000000\n",
      "Name: registration_year, dtype: float64\n"
     ]
    },
    {
     "data": {
      "image/png": "[encoded data removed]",
      "text/plain": [
       "<Figure size 640x480 with 1 Axes>"
      ]
     },
     "metadata": {},
     "output_type": "display_data"
    }
   ],
   "source": [
    "hst(data, 'registration_year')"
   ]
  },
  {
   "cell_type": "code",
   "execution_count": 17,
   "metadata": {},
   "outputs": [
    {
     "data": {
      "image/png": "[encoded data removed]",
      "text/plain": [
       "<Figure size 640x480 with 1 Axes>"
      ]
     },
     "metadata": {},
     "output_type": "display_data"
    }
   ],
   "source": [
    "bxplt(data, 'registration_year')"
   ]
  },
  {
   "cell_type": "code",
   "execution_count": 18,
   "metadata": {},
   "outputs": [
    {
     "data": {
      "text/plain": [
       "registration_year\n",
       "2007    16716\n",
       "1998    16834\n",
       "2002    18325\n",
       "2004    19094\n",
       "2003    19120\n",
       "2001    19282\n",
       "2006    19332\n",
       "2005    21003\n",
       "1999    21605\n",
       "2000    22248\n",
       "Name: count, dtype: int64"
      ]
     },
     "execution_count": 18,
     "metadata": {},
     "output_type": "execute_result"
    }
   ],
   "source": [
    "data.registration_year.value_counts().sort_values().tail(10)"
   ]
  },
  {
   "cell_type": "code",
   "execution_count": 19,
   "metadata": {},
   "outputs": [
    {
     "name": "stdout",
     "output_type": "stream",
     "text": [
      "count    334660.000000\n",
      "mean     128562.795076\n",
      "std       37205.638630\n",
      "min        5000.000000\n",
      "25%      125000.000000\n",
      "50%      150000.000000\n",
      "75%      150000.000000\n",
      "max      150000.000000\n",
      "Name: kilometer, dtype: float64\n"
     ]
    },
    {
     "data": {
      "image/png": "[encoded data removed]",
      "text/plain": [
       "<Figure size 640x480 with 1 Axes>"
      ]
     },
     "metadata": {},
     "output_type": "display_data"
    }
   ],
   "source": [
    "hst(data, 'kilometer')"
   ]
  },
  {
   "cell_type": "code",
   "execution_count": 20,
   "metadata": {},
   "outputs": [
    {
     "data": {
      "text/plain": [
       "kilometer\n",
       "10000       1045\n",
       "20000       3616\n",
       "30000       4199\n",
       "40000       4706\n",
       "5000        4887\n",
       "50000       5975\n",
       "60000       7177\n",
       "70000       8252\n",
       "80000       9682\n",
       "90000      11151\n",
       "100000     14069\n",
       "125000     34952\n",
       "150000    224949\n",
       "Name: count, dtype: int64"
      ]
     },
     "execution_count": 20,
     "metadata": {},
     "output_type": "execute_result"
    }
   ],
   "source": [
    "data.kilometer.value_counts().sort_values()"
   ]
  },
  {
   "cell_type": "code",
   "execution_count": 21,
   "metadata": {},
   "outputs": [
    {
     "data": {
      "image/png": "[encoded data removed]",
      "text/plain": [
       "<Figure size 640x480 with 1 Axes>"
      ]
     },
     "metadata": {},
     "output_type": "display_data"
    }
   ],
   "source": [
    "bxplt(data, 'kilometer')"
   ]
  },
  {
   "cell_type": "code",
   "execution_count": 22,
   "metadata": {},
   "outputs": [
    {
     "name": "stdout",
     "output_type": "stream",
     "text": [
      "count    334660.000000\n",
      "mean          5.806075\n",
      "std           3.689157\n",
      "min           0.000000\n",
      "25%           3.000000\n",
      "50%           6.000000\n",
      "75%           9.000000\n",
      "max          12.000000\n",
      "Name: registration_month, dtype: float64\n"
     ]
    },
    {
     "data": {
      "image/png": "[encoded data removed]",
      "text/plain": [
       "<Figure size 640x480 with 1 Axes>"
      ]
     },
     "metadata": {},
     "output_type": "display_data"
    }
   ],
   "source": [
    "hst(data, 'registration_month')"
   ]
  },
  {
   "cell_type": "code",
   "execution_count": 23,
   "metadata": {},
   "outputs": [
    {
     "data": {
      "image/png": "[encoded data removed]",
      "text/plain": [
       "<Figure size 640x480 with 1 Axes>"
      ]
     },
     "metadata": {},
     "output_type": "display_data"
    }
   ],
   "source": [
    "bxplt(data, 'registration_month')"
   ]
  },
  {
   "cell_type": "code",
   "execution_count": 24,
   "metadata": {},
   "outputs": [
    {
     "name": "stdout",
     "output_type": "stream",
     "text": [
      "count    334660.0\n",
      "mean          0.0\n",
      "std           0.0\n",
      "min           0.0\n",
      "25%           0.0\n",
      "50%           0.0\n",
      "75%           0.0\n",
      "max           0.0\n",
      "Name: number_of_pictures, dtype: float64\n"
     ]
    },
    {
     "data": {
      "image/png": "[encoded data removed]",
      "text/plain": [
       "<Figure size 640x480 with 1 Axes>"
      ]
     },
     "metadata": {},
     "output_type": "display_data"
    }
   ],
   "source": [
    "hst(data, 'number_of_pictures')"
   ]
  },
  {
   "cell_type": "code",
   "execution_count": 25,
   "metadata": {},
   "outputs": [
    {
     "data": {
      "image/png": "[encoded data removed]",
      "text/plain": [
       "<Figure size 640x480 with 1 Axes>"
      ]
     },
     "metadata": {},
     "output_type": "display_data"
    }
   ],
   "source": [
    "bxplt(data, 'number_of_pictures')"
   ]
  },
  {
   "cell_type": "code",
   "execution_count": 26,
   "metadata": {},
   "outputs": [
    {
     "name": "stdout",
     "output_type": "stream",
     "text": [
      "count    334660.000000\n",
      "mean      50671.327365\n",
      "std       25754.527341\n",
      "min        1067.000000\n",
      "25%       30419.000000\n",
      "50%       49525.000000\n",
      "75%       71229.000000\n",
      "max       99998.000000\n",
      "Name: postal_code, dtype: float64\n"
     ]
    },
    {
     "data": {
      "image/png": "[encoded data removed]",
      "text/plain": [
       "<Figure size 640x480 with 1 Axes>"
      ]
     },
     "metadata": {},
     "output_type": "display_data"
    }
   ],
   "source": [
    "hst(data, 'postal_code')"
   ]
  },
  {
   "cell_type": "code",
   "execution_count": 27,
   "metadata": {},
   "outputs": [
    {
     "data": {
      "image/png": "[encoded data removed]",
      "text/plain": [
       "<Figure size 640x480 with 1 Axes>"
      ]
     },
     "metadata": {},
     "output_type": "display_data"
    }
   ],
   "source": [
    "bxplt(data, 'postal_code')"
   ]
  },
  {
   "cell_type": "code",
   "execution_count": 28,
   "metadata": {},
   "outputs": [
    {
     "name": "stdout",
     "output_type": "stream",
     "text": [
      "count    334660.000000\n",
      "mean        111.372659\n",
      "std         185.157391\n",
      "min           0.000000\n",
      "25%          70.000000\n",
      "50%         105.000000\n",
      "75%         143.000000\n",
      "max       20000.000000\n",
      "Name: power, dtype: float64\n"
     ]
    },
    {
     "data": {
      "image/png": "[encoded data removed]",
      "text/plain": [
       "<Figure size 640x480 with 1 Axes>"
      ]
     },
     "metadata": {},
     "output_type": "display_data"
    }
   ],
   "source": [
    "hst(data, 'power')"
   ]
  },
  {
   "cell_type": "code",
   "execution_count": 29,
   "metadata": {},
   "outputs": [
    {
     "data": {
      "image/png": "[encoded data removed]",
      "text/plain": [
       "<Figure size 640x480 with 1 Axes>"
      ]
     },
     "metadata": {},
     "output_type": "display_data"
    }
   ],
   "source": [
    "bxplt(data, 'power')"
   ]
  },
  {
   "cell_type": "markdown",
   "metadata": {},
   "source": [
    "удалим выбросы и аномалии)"
   ]
  },
  {
   "cell_type": "code",
   "execution_count": 30,
   "metadata": {},
   "outputs": [],
   "source": [
    "data = data.query('price > 0')"
   ]
  },
  {
   "cell_type": "code",
   "execution_count": 31,
   "metadata": {},
   "outputs": [],
   "source": [
    "data = data.query('1990 <= registration_year <= 2016')"
   ]
  },
  {
   "cell_type": "code",
   "execution_count": 32,
   "metadata": {},
   "outputs": [],
   "source": [
    "data = data.query('50 <= power <= 500')"
   ]
  },
  {
   "cell_type": "code",
   "execution_count": 33,
   "metadata": {},
   "outputs": [
    {
     "name": "stdout",
     "output_type": "stream",
     "text": [
      "count    275149.000000\n",
      "mean        122.106495\n",
      "std          52.478526\n",
      "min          50.000000\n",
      "25%          80.000000\n",
      "50%         115.000000\n",
      "75%         150.000000\n",
      "max         500.000000\n",
      "Name: power, dtype: float64\n"
     ]
    },
    {
     "data": {
      "image/png": "[encoded data removed]",
      "text/plain": [
       "<Figure size 640x480 with 1 Axes>"
      ]
     },
     "metadata": {},
     "output_type": "display_data"
    }
   ],
   "source": [
    "hst(data, 'power')"
   ]
  },
  {
   "cell_type": "code",
   "execution_count": 34,
   "metadata": {},
   "outputs": [
    {
     "data": {
      "image/png": "[encoded data removed]",
      "text/plain": [
       "<Figure size 640x480 with 1 Axes>"
      ]
     },
     "metadata": {},
     "output_type": "display_data"
    }
   ],
   "source": [
    "bxplt(data, 'power')"
   ]
  },
  {
   "cell_type": "code",
   "execution_count": 35,
   "metadata": {},
   "outputs": [
    {
     "name": "stdout",
     "output_type": "stream",
     "text": [
      "count    275149.000000\n",
      "mean       2003.451970\n",
      "std           5.454107\n",
      "min        1990.000000\n",
      "25%        1999.000000\n",
      "50%        2003.000000\n",
      "75%        2007.000000\n",
      "max        2016.000000\n",
      "Name: registration_year, dtype: float64\n"
     ]
    },
    {
     "data": {
      "image/png": "[encoded data removed]",
      "text/plain": [
       "<Figure size 640x480 with 1 Axes>"
      ]
     },
     "metadata": {},
     "output_type": "display_data"
    }
   ],
   "source": [
    "hst(data, 'registration_year')"
   ]
  },
  {
   "cell_type": "code",
   "execution_count": 36,
   "metadata": {},
   "outputs": [
    {
     "data": {
      "image/png": "[encoded data removed]",
      "text/plain": [
       "<Figure size 640x480 with 1 Axes>"
      ]
     },
     "metadata": {},
     "output_type": "display_data"
    }
   ],
   "source": [
    "bxplt(data, 'registration_year')"
   ]
  },
  {
   "cell_type": "markdown",
   "metadata": {},
   "source": [
    "Теперь с данными все в порядке)"
   ]
  },
  {
   "cell_type": "markdown",
   "metadata": {},
   "source": [
    "Сейчас проведем корреляционный анализ, избавимся от ненужных признаков и подготовим данные к обучению модели) Сразу удалим 'number_of_pictures' "
   ]
  },
  {
   "cell_type": "code",
   "execution_count": 37,
   "metadata": {},
   "outputs": [],
   "source": [
    "data = data.drop('number_of_pictures', axis=1)"
   ]
  },
  {
   "cell_type": "code",
   "execution_count": 38,
   "metadata": {},
   "outputs": [
    {
     "data": {
      "text/html": [
       "<div>\n",
       "<style scoped>\n",
       "    .dataframe tbody tr th:only-of-type {\n",
       "        vertical-align: middle;\n",
       "    }\n",
       "\n",
       "    .dataframe tbody tr th {\n",
       "        vertical-align: top;\n",
       "    }\n",
       "\n",
       "    .dataframe thead th {\n",
       "        text-align: right;\n",
       "    }\n",
       "</style>\n",
       "<table border=\"1\" class=\"dataframe\">\n",
       "  <thead>\n",
       "    <tr style=\"text-align: right;\">\n",
       "      <th></th>\n",
       "      <th>price</th>\n",
       "      <th>registration_year</th>\n",
       "      <th>power</th>\n",
       "      <th>kilometer</th>\n",
       "      <th>registration_month</th>\n",
       "      <th>postal_code</th>\n",
       "    </tr>\n",
       "  </thead>\n",
       "  <tbody>\n",
       "    <tr>\n",
       "      <th>price</th>\n",
       "      <td>1.000000</td>\n",
       "      <td>0.620802</td>\n",
       "      <td>0.508000</td>\n",
       "      <td>-0.401732</td>\n",
       "      <td>0.064290</td>\n",
       "      <td>0.062123</td>\n",
       "    </tr>\n",
       "    <tr>\n",
       "      <th>registration_year</th>\n",
       "      <td>0.620802</td>\n",
       "      <td>1.000000</td>\n",
       "      <td>0.120626</td>\n",
       "      <td>-0.427425</td>\n",
       "      <td>0.031987</td>\n",
       "      <td>0.033384</td>\n",
       "    </tr>\n",
       "    <tr>\n",
       "      <th>power</th>\n",
       "      <td>0.508000</td>\n",
       "      <td>0.120626</td>\n",
       "      <td>1.000000</td>\n",
       "      <td>0.102782</td>\n",
       "      <td>0.037830</td>\n",
       "      <td>0.050922</td>\n",
       "    </tr>\n",
       "    <tr>\n",
       "      <th>kilometer</th>\n",
       "      <td>-0.401732</td>\n",
       "      <td>-0.427425</td>\n",
       "      <td>0.102782</td>\n",
       "      <td>1.000000</td>\n",
       "      <td>-0.018731</td>\n",
       "      <td>-0.012880</td>\n",
       "    </tr>\n",
       "    <tr>\n",
       "      <th>registration_month</th>\n",
       "      <td>0.064290</td>\n",
       "      <td>0.031987</td>\n",
       "      <td>0.037830</td>\n",
       "      <td>-0.018731</td>\n",
       "      <td>1.000000</td>\n",
       "      <td>0.001016</td>\n",
       "    </tr>\n",
       "    <tr>\n",
       "      <th>postal_code</th>\n",
       "      <td>0.062123</td>\n",
       "      <td>0.033384</td>\n",
       "      <td>0.050922</td>\n",
       "      <td>-0.012880</td>\n",
       "      <td>0.001016</td>\n",
       "      <td>1.000000</td>\n",
       "    </tr>\n",
       "  </tbody>\n",
       "</table>\n",
       "</div>"
      ],
      "text/plain": [
       "                       price  registration_year     power  kilometer  \\\n",
       "price               1.000000           0.620802  0.508000  -0.401732   \n",
       "registration_year   0.620802           1.000000  0.120626  -0.427425   \n",
       "power               0.508000           0.120626  1.000000   0.102782   \n",
       "kilometer          -0.401732          -0.427425  0.102782   1.000000   \n",
       "registration_month  0.064290           0.031987  0.037830  -0.018731   \n",
       "postal_code         0.062123           0.033384  0.050922  -0.012880   \n",
       "\n",
       "                    registration_month  postal_code  \n",
       "price                         0.064290     0.062123  \n",
       "registration_year             0.031987     0.033384  \n",
       "power                         0.037830     0.050922  \n",
       "kilometer                    -0.018731    -0.012880  \n",
       "registration_month            1.000000     0.001016  \n",
       "postal_code                   0.001016     1.000000  "
      ]
     },
     "metadata": {},
     "output_type": "display_data"
    }
   ],
   "source": [
    "data['date_crawled'] = pd.to_datetime(data['date_crawled'])\n",
    "\n",
    "# Удаляем текстовые столбцы, чтобы оставить только числовые\n",
    "numeric_data = data.select_dtypes(include=['number'])\n",
    "\n",
    "# Вычисляем корреляционную матрицу\n",
    "correlation_matrix = numeric_data.corr()\n",
    "\n",
    "# Вывод корреляционной матрицы\n",
    "display(correlation_matrix)"
   ]
  },
  {
   "cell_type": "markdown",
   "metadata": {},
   "source": [
    "Смело выбрасываем признаки registration_month и postal_code, также если подумать нам не понадобяться такие признаки как, дата скачивания анкеты из базы, дата создания анкеты, почтовый индекс владельца анкеты (пользователя), дата последней активности пользователя, то есть признаки никак не касаются самого авто)"
   ]
  },
  {
   "cell_type": "code",
   "execution_count": 39,
   "metadata": {},
   "outputs": [],
   "source": [
    "data = data.drop(['postal_code', 'date_created', 'last_seen', 'registration_month', 'date_crawled'], axis=1)"
   ]
  },
  {
   "cell_type": "code",
   "execution_count": 40,
   "metadata": {},
   "outputs": [],
   "source": [
    "# создаём список с наименованиями непрерывных признаков\n",
    "interval_cols = ['power', 'price']"
   ]
  },
  {
   "cell_type": "code",
   "execution_count": 41,
   "metadata": {},
   "outputs": [
    {
     "name": "stdout",
     "output_type": "stream",
     "text": [
      "(10, 10)\n"
     ]
    }
   ],
   "source": [
    "# считаем корреляции на тренировочной выборке\n",
    "phik_overview = phik_matrix(data, interval_cols=interval_cols)\n",
    "print(phik_overview.shape) "
   ]
  },
  {
   "cell_type": "code",
   "execution_count": 42,
   "metadata": {},
   "outputs": [
    {
     "data": {
      "image/png": "[encoded data removed]",
      "text/plain": [
       "<Figure size 2000x1500 with 2 Axes>"
      ]
     },
     "metadata": {},
     "output_type": "display_data"
    }
   ],
   "source": [
    "# Функции передаём значения матрицы корреляции phik_overview.values.\n",
    "# Указываем наименования столбцов x_labels=phik_overview.columns.\n",
    "# Указываем наименования строк y_labels=phik_overview.index.\n",
    "# Указываем цвет градиентной отрисовки vmin=0, vmax=1, color_map='Greens'.\n",
    "# Добавляем заголовок title=r'correlation $\\phi_K$'.\n",
    "# Увеличиваем размер шрифта fontsize_factor=1.5.\n",
    "# Увеличиваем размер графика figsize=(20, 15).\n",
    "\n",
    "plot_correlation_matrix(\n",
    "    phik_overview.values,\n",
    "    x_labels=phik_overview.columns,\n",
    "    y_labels=phik_overview.index,\n",
    "    vmin=0, vmax=1, color_map='Greens',\n",
    "    title=r'correlation $\\phi_K$',\n",
    "    fontsize_factor=1.5,\n",
    "    figsize=(20, 15)\n",
    ") "
   ]
  },
  {
   "cell_type": "code",
   "execution_count": 43,
   "metadata": {},
   "outputs": [],
   "source": [
    "data = data.drop(['brand'], axis=1)"
   ]
  },
  {
   "cell_type": "code",
   "execution_count": 44,
   "metadata": {},
   "outputs": [
    {
     "name": "stdout",
     "output_type": "stream",
     "text": [
      "общая информация ***************************************************************************************************\n",
      "<class 'pandas.core.frame.DataFrame'>\n",
      "Index: 275149 entries, 1 to 334659\n",
      "Data columns (total 9 columns):\n",
      " #   Column             Non-Null Count   Dtype \n",
      "---  ------             --------------   ----- \n",
      " 0   price              275149 non-null  int64 \n",
      " 1   vehicle_type       275149 non-null  object\n",
      " 2   registration_year  275149 non-null  int64 \n",
      " 3   gearbox            275149 non-null  object\n",
      " 4   power              275149 non-null  int64 \n",
      " 5   model              275149 non-null  object\n",
      " 6   kilometer          275149 non-null  int64 \n",
      " 7   fuel_type          275149 non-null  object\n",
      " 8   repaired           275149 non-null  object\n",
      "dtypes: int64(4), object(5)\n",
      "memory usage: 21.0+ MB\n",
      "первые 5 строк *****************************************************************************************************\n"
     ]
    },
    {
     "data": {
      "text/html": [
       "<div>\n",
       "<style scoped>\n",
       "    .dataframe tbody tr th:only-of-type {\n",
       "        vertical-align: middle;\n",
       "    }\n",
       "\n",
       "    .dataframe tbody tr th {\n",
       "        vertical-align: top;\n",
       "    }\n",
       "\n",
       "    .dataframe thead th {\n",
       "        text-align: right;\n",
       "    }\n",
       "</style>\n",
       "<table border=\"1\" class=\"dataframe\">\n",
       "  <thead>\n",
       "    <tr style=\"text-align: right;\">\n",
       "      <th></th>\n",
       "      <th>price</th>\n",
       "      <th>vehicle_type</th>\n",
       "      <th>registration_year</th>\n",
       "      <th>gearbox</th>\n",
       "      <th>power</th>\n",
       "      <th>model</th>\n",
       "      <th>kilometer</th>\n",
       "      <th>fuel_type</th>\n",
       "      <th>repaired</th>\n",
       "    </tr>\n",
       "  </thead>\n",
       "  <tbody>\n",
       "    <tr>\n",
       "      <th>1</th>\n",
       "      <td>9800</td>\n",
       "      <td>suv</td>\n",
       "      <td>2004</td>\n",
       "      <td>auto</td>\n",
       "      <td>163</td>\n",
       "      <td>grand</td>\n",
       "      <td>125000</td>\n",
       "      <td>petrol</td>\n",
       "      <td>unknown</td>\n",
       "    </tr>\n",
       "    <tr>\n",
       "      <th>2</th>\n",
       "      <td>1500</td>\n",
       "      <td>small</td>\n",
       "      <td>2001</td>\n",
       "      <td>manual</td>\n",
       "      <td>75</td>\n",
       "      <td>golf</td>\n",
       "      <td>150000</td>\n",
       "      <td>petrol</td>\n",
       "      <td>no</td>\n",
       "    </tr>\n",
       "    <tr>\n",
       "      <th>3</th>\n",
       "      <td>3600</td>\n",
       "      <td>small</td>\n",
       "      <td>2008</td>\n",
       "      <td>manual</td>\n",
       "      <td>69</td>\n",
       "      <td>fabia</td>\n",
       "      <td>90000</td>\n",
       "      <td>petrol</td>\n",
       "      <td>no</td>\n",
       "    </tr>\n",
       "    <tr>\n",
       "      <th>4</th>\n",
       "      <td>650</td>\n",
       "      <td>sedan</td>\n",
       "      <td>1995</td>\n",
       "      <td>manual</td>\n",
       "      <td>102</td>\n",
       "      <td>3er</td>\n",
       "      <td>150000</td>\n",
       "      <td>petrol</td>\n",
       "      <td>yes</td>\n",
       "    </tr>\n",
       "    <tr>\n",
       "      <th>5</th>\n",
       "      <td>2200</td>\n",
       "      <td>convertible</td>\n",
       "      <td>2004</td>\n",
       "      <td>manual</td>\n",
       "      <td>109</td>\n",
       "      <td>2_reihe</td>\n",
       "      <td>150000</td>\n",
       "      <td>petrol</td>\n",
       "      <td>no</td>\n",
       "    </tr>\n",
       "  </tbody>\n",
       "</table>\n",
       "</div>"
      ],
      "text/plain": [
       "   price vehicle_type  registration_year gearbox  power    model  kilometer  \\\n",
       "1   9800          suv               2004    auto    163    grand     125000   \n",
       "2   1500        small               2001  manual     75     golf     150000   \n",
       "3   3600        small               2008  manual     69    fabia      90000   \n",
       "4    650        sedan               1995  manual    102      3er     150000   \n",
       "5   2200  convertible               2004  manual    109  2_reihe     150000   \n",
       "\n",
       "  fuel_type repaired  \n",
       "1    petrol  unknown  \n",
       "2    petrol       no  \n",
       "3    petrol       no  \n",
       "4    petrol      yes  \n",
       "5    petrol       no  "
      ]
     },
     "metadata": {},
     "output_type": "display_data"
    },
    {
     "name": "stdout",
     "output_type": "stream",
     "text": [
      "название столбцов **************************************************************************************************\n"
     ]
    },
    {
     "data": {
      "text/plain": [
       "Index(['price', 'vehicle_type', 'registration_year', 'gearbox', 'power',\n",
       "       'model', 'kilometer', 'fuel_type', 'repaired'],\n",
       "      dtype='object')"
      ]
     },
     "metadata": {},
     "output_type": "display_data"
    },
    {
     "name": "stdout",
     "output_type": "stream",
     "text": [
      "количество пропусков ***********************************************************************************************\n",
      "price                0\n",
      "vehicle_type         0\n",
      "registration_year    0\n",
      "gearbox              0\n",
      "power                0\n",
      "model                0\n",
      "kilometer            0\n",
      "fuel_type            0\n",
      "repaired             0\n",
      "dtype: int64\n",
      "количество явных дубликатов ********************************************************************************************\n",
      "38500\n"
     ]
    },
    {
     "data": {
      "text/html": [
       "<div>\n",
       "<style scoped>\n",
       "    .dataframe tbody tr th:only-of-type {\n",
       "        vertical-align: middle;\n",
       "    }\n",
       "\n",
       "    .dataframe tbody tr th {\n",
       "        vertical-align: top;\n",
       "    }\n",
       "\n",
       "    .dataframe thead th {\n",
       "        text-align: right;\n",
       "    }\n",
       "</style>\n",
       "<table border=\"1\" class=\"dataframe\">\n",
       "  <thead>\n",
       "    <tr style=\"text-align: right;\">\n",
       "      <th></th>\n",
       "      <th>count</th>\n",
       "      <th>mean</th>\n",
       "      <th>std</th>\n",
       "      <th>min</th>\n",
       "      <th>25%</th>\n",
       "      <th>50%</th>\n",
       "      <th>75%</th>\n",
       "      <th>max</th>\n",
       "    </tr>\n",
       "  </thead>\n",
       "  <tbody>\n",
       "    <tr>\n",
       "      <th>price</th>\n",
       "      <td>275149.0</td>\n",
       "      <td>4944.665269</td>\n",
       "      <td>4623.284828</td>\n",
       "      <td>1.0</td>\n",
       "      <td>1400.0</td>\n",
       "      <td>3300.0</td>\n",
       "      <td>7000.0</td>\n",
       "      <td>20000.0</td>\n",
       "    </tr>\n",
       "    <tr>\n",
       "      <th>registration_year</th>\n",
       "      <td>275149.0</td>\n",
       "      <td>2003.451970</td>\n",
       "      <td>5.454107</td>\n",
       "      <td>1990.0</td>\n",
       "      <td>1999.0</td>\n",
       "      <td>2003.0</td>\n",
       "      <td>2007.0</td>\n",
       "      <td>2016.0</td>\n",
       "    </tr>\n",
       "    <tr>\n",
       "      <th>power</th>\n",
       "      <td>275149.0</td>\n",
       "      <td>122.106495</td>\n",
       "      <td>52.478526</td>\n",
       "      <td>50.0</td>\n",
       "      <td>80.0</td>\n",
       "      <td>115.0</td>\n",
       "      <td>150.0</td>\n",
       "      <td>500.0</td>\n",
       "    </tr>\n",
       "    <tr>\n",
       "      <th>kilometer</th>\n",
       "      <td>275149.0</td>\n",
       "      <td>128549.513173</td>\n",
       "      <td>36362.081897</td>\n",
       "      <td>5000.0</td>\n",
       "      <td>125000.0</td>\n",
       "      <td>150000.0</td>\n",
       "      <td>150000.0</td>\n",
       "      <td>150000.0</td>\n",
       "    </tr>\n",
       "  </tbody>\n",
       "</table>\n",
       "</div>"
      ],
      "text/plain": [
       "                      count           mean           std     min       25%  \\\n",
       "price              275149.0    4944.665269   4623.284828     1.0    1400.0   \n",
       "registration_year  275149.0    2003.451970      5.454107  1990.0    1999.0   \n",
       "power              275149.0     122.106495     52.478526    50.0      80.0   \n",
       "kilometer          275149.0  128549.513173  36362.081897  5000.0  125000.0   \n",
       "\n",
       "                        50%       75%       max  \n",
       "price                3300.0    7000.0   20000.0  \n",
       "registration_year    2003.0    2007.0    2016.0  \n",
       "power                 115.0     150.0     500.0  \n",
       "kilometer          150000.0  150000.0  150000.0  "
      ]
     },
     "metadata": {},
     "output_type": "display_data"
    }
   ],
   "source": [
    "check_data(data)"
   ]
  },
  {
   "cell_type": "markdown",
   "metadata": {},
   "source": [
    "Проведем последние шаги по подготовке данных и самих тренировочных и тестовых выборок"
   ]
  },
  {
   "cell_type": "code",
   "execution_count": 45,
   "metadata": {},
   "outputs": [],
   "source": [
    "data = data.drop_duplicates().reset_index(drop=True)"
   ]
  },
  {
   "cell_type": "code",
   "execution_count": 46,
   "metadata": {},
   "outputs": [],
   "source": [
    "X = data.drop('price', axis=1)\n",
    "y = data['price']\n",
    "X_train, X_test, y_train, y_test = train_test_split(X, y, test_size=0.25, random_state=42) "
   ]
  },
  {
   "cell_type": "markdown",
   "metadata": {},
   "source": [
    "На данном этапе была проделана следующая работа:\n",
    "- Выгружены данные\n",
    "- Данные изучены, заполнены пропущенные значения и обработаны аномалии в столбцах, удалены неинформативные признаки\n",
    "- Подготовлены выборки для обучения моделей."
   ]
  },
  {
   "cell_type": "markdown",
   "metadata": {},
   "source": [
    "## Обучение моделей"
   ]
  },
  {
   "cell_type": "markdown",
   "metadata": {},
   "source": [
    "Были выбраны 2 модели для обучения =>  LinearRegression() и LightGBM()"
   ]
  },
  {
   "cell_type": "markdown",
   "metadata": {},
   "source": [
    "### Линейная регрессия"
   ]
  },
  {
   "cell_type": "code",
   "execution_count": 47,
   "metadata": {},
   "outputs": [],
   "source": [
    "# Кодируем категориальные признаки с помощью OneHotEncoder.\n",
    "encoder = OneHotEncoder(drop='first', sparse=False, handle_unknown='ignore')"
   ]
  },
  {
   "cell_type": "code",
   "execution_count": 48,
   "metadata": {},
   "outputs": [
    {
     "name": "stderr",
     "output_type": "stream",
     "text": [
      "C:\\Users\\admin\\AppData\\Roaming\\Python\\Python311\\site-packages\\sklearn\\preprocessing\\_encoders.py:808: FutureWarning: `sparse` was renamed to `sparse_output` in version 1.2 and will be removed in 1.4. `sparse_output` is ignored unless you leave `sparse` to its default value.\n",
      "  warnings.warn(\n"
     ]
    }
   ],
   "source": [
    "cat_col_names = ['vehicle_type', 'model', 'fuel_type', 'gearbox', 'repaired']\n",
    "\n",
    "X_train_ohe = encoder.fit_transform(X_train[cat_col_names])\n",
    "X_test_ohe = encoder.transform(X_test[cat_col_names])\n",
    "\n",
    "encoder_col_names = encoder.get_feature_names_out()\n",
    "\n",
    "# Масштабируем количественные признаки с помощью StandardScaler.\n",
    "scaler = StandardScaler()\n",
    "num_col_names = ['registration_year', 'power', 'kilometer']\n",
    "\n",
    "X_train_scaled = scaler.fit_transform(X_train[num_col_names])\n",
    "X_test_scaled = scaler.transform(X_test[num_col_names])\n",
    "\n",
    "# создаём тренировочный и тестовый датафреймы из закодированных и отмасштабированных данных\n",
    "\n",
    "X_train_ohe = pd.DataFrame(X_train_ohe, columns=encoder_col_names)\n",
    "X_test_ohe = pd.DataFrame(X_test_ohe, columns=encoder_col_names)\n",
    "\n",
    "X_train_scaled = pd.DataFrame(X_train_scaled, columns = num_col_names)\n",
    "X_test_scaled = pd.DataFrame(X_test_scaled, columns = num_col_names)\n",
    "\n",
    "# объединяем все преобразованные данные в тренировочный и тестовый датафреймы\n",
    "# сбрасываем индексы в датафрейме с числовыми индексами, чтобы избежать ошибок\n",
    "\n",
    "X_train = pd.concat([X_train_ohe, X_train_scaled], axis=1)\n",
    "X_test = pd.concat([X_test_ohe, X_test_scaled], axis=1)"
   ]
  },
  {
   "cell_type": "code",
   "execution_count": 49,
   "metadata": {},
   "outputs": [],
   "source": [
    "model_lr = LinearRegression()\n",
    "param_grid = {'fit_intercept': [True, False], 'copy_X': [True, False], 'n_jobs': [1, -1]}"
   ]
  },
  {
   "cell_type": "code",
   "execution_count": 50,
   "metadata": {},
   "outputs": [],
   "source": [
    "gs= GridSearchCV(estimator=model_lr, param_grid=param_grid, cv=3, scoring='neg_mean_squared_error')\n",
    "gs.fit(X_train, y_train)\n",
    "\n",
    "best_params_lr = gs.best_params_\n",
    "\n",
    "# Создаем новую модель с лучшими гиперпараметрами\n",
    "best_model_lr = LinearRegression(**best_params_lr)\n",
    "\n",
    "start_fit_time = time.time()\n",
    "# Обучаем модель на всем обучающем наборе данных\n",
    "best_model_lr.fit(X_train, y_train)\n",
    "\n",
    "fit_time_lr = time.time() - start_fit_time"
   ]
  },
  {
   "cell_type": "code",
   "execution_count": 51,
   "metadata": {},
   "outputs": [],
   "source": [
    "start_predict_time = time.time()\n",
    "predictions_lr = best_model_lr.predict(X_train)\n",
    "predict_time_lr = time.time() - start_predict_time"
   ]
  },
  {
   "cell_type": "code",
   "execution_count": 55,
   "metadata": {},
   "outputs": [
    {
     "name": "stdout",
     "output_type": "stream",
     "text": [
      "Лучшие гиперпараметры модели LinearRegression:  {'copy_X': True, 'fit_intercept': True, 'n_jobs': 1}\n",
      "RMSE LinearRegression (кросс-валидация): 2384.03\n"
     ]
    }
   ],
   "source": [
    "# Оценка RMSE с кросс-валидацией\n",
    "cv_rmse_lr = cross_val_score(best_model_lr, X_train, y_train, scoring='neg_mean_squared_error', cv=3)\n",
    "rmse_lr = np.sqrt(-cv_rmse_lr)\n",
    "\n",
    "print(\"Лучшие гиперпараметры модели LinearRegression: \", best_params_lr)\n",
    "print(\"RMSE LinearRegression (кросс-валидация): %.2f\" % rmse_lr.mean())"
   ]
  },
  {
   "cell_type": "markdown",
   "metadata": {},
   "source": [
    "Значение метрики меньше 2500"
   ]
  },
  {
   "cell_type": "markdown",
   "metadata": {},
   "source": [
    "### LightGBM"
   ]
  },
  {
   "cell_type": "code",
   "execution_count": 56,
   "metadata": {},
   "outputs": [
    {
     "name": "stdout",
     "output_type": "stream",
     "text": [
      "(177486, 8)\n",
      "(59163, 8)\n"
     ]
    }
   ],
   "source": [
    "y_lgb = data['price']\n",
    "X_lgb = data.drop('price', axis=1)\n",
    "\n",
    "for column in X_lgb.columns:\n",
    "  col_type = X_lgb[column].dtype\n",
    "  if col_type == 'object':\n",
    "    X_lgb[column] = X_lgb[column].astype('category')\n",
    "\n",
    "X_lgb_train, X_lgb_test, y_lgb_train, y_lgb_test = train_test_split(X_lgb, y_lgb, test_size=0.25, random_state=42) \n",
    "\n",
    "print(X_lgb_train.shape)\n",
    "print(X_lgb_test.shape)"
   ]
  },
  {
   "cell_type": "code",
   "execution_count": 57,
   "metadata": {
    "scrolled": true
   },
   "outputs": [
    {
     "name": "stdout",
     "output_type": "stream",
     "text": [
      "Fitting 3 folds for each of 42 candidates, totalling 126 fits\n",
      "[LightGBM] [Info] Auto-choosing row-wise multi-threading, the overhead of testing was 0.003333 seconds.\n",
      "You can set `force_row_wise=true` to remove the overhead.\n",
      "And if memory is not enough, you can set `force_col_wise=true`.\n",
      "[LightGBM] [Info] Total Bins 515\n",
      "[LightGBM] [Info] Number of data points in the train set: 118324, number of used features: 8\n",
      "[LightGBM] [Info] Start training from score 5050.109192\n",
      "[CV 1/3] END n_estimators=100, num_leaves=20;, score=-1596.657 total time=   0.6s\n",
      "[LightGBM] [Info] Auto-choosing row-wise multi-threading, the overhead of testing was 0.002845 seconds.\n",
      "You can set `force_row_wise=true` to remove the overhead.\n",
      "And if memory is not enough, you can set `force_col_wise=true`.\n",
      "[LightGBM] [Info] Total Bins 518\n",
      "[LightGBM] [Info] Number of data points in the train set: 118324, number of used features: 8\n",
      "[LightGBM] [Info] Start training from score 5060.723818\n",
      "[CV 2/3] END n_estimators=100, num_leaves=20;, score=-1606.862 total time=   0.3s\n",
      "[LightGBM] [Info] Auto-choosing col-wise multi-threading, the overhead of testing was 0.006905 seconds.\n",
      "You can set `force_col_wise=true` to remove the overhead.\n",
      "[LightGBM] [Info] Total Bins 516\n",
      "[LightGBM] [Info] Number of data points in the train set: 118324, number of used features: 8\n",
      "[LightGBM] [Info] Start training from score 5053.982193\n",
      "[CV 3/3] END n_estimators=100, num_leaves=20;, score=-1616.118 total time=   0.3s\n",
      "[LightGBM] [Info] Auto-choosing row-wise multi-threading, the overhead of testing was 0.002741 seconds.\n",
      "You can set `force_row_wise=true` to remove the overhead.\n",
      "And if memory is not enough, you can set `force_col_wise=true`.\n",
      "[LightGBM] [Info] Total Bins 515\n",
      "[LightGBM] [Info] Number of data points in the train set: 118324, number of used features: 8\n",
      "[LightGBM] [Info] Start training from score 5050.109192\n",
      "[CV 1/3] END n_estimators=100, num_leaves=40;, score=-1570.727 total time=   0.5s\n",
      "[LightGBM] [Info] Auto-choosing row-wise multi-threading, the overhead of testing was 0.002719 seconds.\n",
      "You can set `force_row_wise=true` to remove the overhead.\n",
      "And if memory is not enough, you can set `force_col_wise=true`.\n",
      "[LightGBM] [Info] Total Bins 518\n",
      "[LightGBM] [Info] Number of data points in the train set: 118324, number of used features: 8\n",
      "[LightGBM] [Info] Start training from score 5060.723818\n",
      "[CV 2/3] END n_estimators=100, num_leaves=40;, score=-1580.687 total time=   0.4s\n",
      "[LightGBM] [Info] Auto-choosing row-wise multi-threading, the overhead of testing was 0.002943 seconds.\n",
      "You can set `force_row_wise=true` to remove the overhead.\n",
      "And if memory is not enough, you can set `force_col_wise=true`.\n",
      "[LightGBM] [Info] Total Bins 516\n",
      "[LightGBM] [Info] Number of data points in the train set: 118324, number of used features: 8\n",
      "[LightGBM] [Info] Start training from score 5053.982193\n",
      "[CV 3/3] END n_estimators=100, num_leaves=40;, score=-1585.601 total time=   0.4s\n",
      "[LightGBM] [Info] Auto-choosing row-wise multi-threading, the overhead of testing was 0.002856 seconds.\n",
      "You can set `force_row_wise=true` to remove the overhead.\n",
      "And if memory is not enough, you can set `force_col_wise=true`.\n",
      "[LightGBM] [Info] Total Bins 515\n",
      "[LightGBM] [Info] Number of data points in the train set: 118324, number of used features: 8\n",
      "[LightGBM] [Info] Start training from score 5050.109192\n",
      "[CV 1/3] END n_estimators=100, num_leaves=60;, score=-1555.686 total time=   0.5s\n",
      "[LightGBM] [Info] Auto-choosing row-wise multi-threading, the overhead of testing was 0.002769 seconds.\n",
      "You can set `force_row_wise=true` to remove the overhead.\n",
      "And if memory is not enough, you can set `force_col_wise=true`.\n",
      "[LightGBM] [Info] Total Bins 518\n",
      "[LightGBM] [Info] Number of data points in the train set: 118324, number of used features: 8\n",
      "[LightGBM] [Info] Start training from score 5060.723818\n",
      "[CV 2/3] END n_estimators=100, num_leaves=60;, score=-1565.764 total time=   0.5s\n",
      "[LightGBM] [Info] Auto-choosing row-wise multi-threading, the overhead of testing was 0.003209 seconds.\n",
      "You can set `force_row_wise=true` to remove the overhead.\n",
      "And if memory is not enough, you can set `force_col_wise=true`.\n",
      "[LightGBM] [Info] Total Bins 516\n",
      "[LightGBM] [Info] Number of data points in the train set: 118324, number of used features: 8\n",
      "[LightGBM] [Info] Start training from score 5053.982193\n",
      "[CV 3/3] END n_estimators=100, num_leaves=60;, score=-1573.774 total time=   0.5s\n",
      "[LightGBM] [Info] Auto-choosing row-wise multi-threading, the overhead of testing was 0.002821 seconds.\n",
      "You can set `force_row_wise=true` to remove the overhead.\n",
      "And if memory is not enough, you can set `force_col_wise=true`.\n",
      "[LightGBM] [Info] Total Bins 515\n",
      "[LightGBM] [Info] Number of data points in the train set: 118324, number of used features: 8\n",
      "[LightGBM] [Info] Start training from score 5050.109192\n",
      "[CV 1/3] END n_estimators=100, num_leaves=80;, score=-1546.457 total time=   0.6s\n",
      "[LightGBM] [Info] Auto-choosing row-wise multi-threading, the overhead of testing was 0.003359 seconds.\n",
      "You can set `force_row_wise=true` to remove the overhead.\n",
      "And if memory is not enough, you can set `force_col_wise=true`.\n",
      "[LightGBM] [Info] Total Bins 518\n",
      "[LightGBM] [Info] Number of data points in the train set: 118324, number of used features: 8\n",
      "[LightGBM] [Info] Start training from score 5060.723818\n",
      "[CV 2/3] END n_estimators=100, num_leaves=80;, score=-1564.603 total time=   0.5s\n",
      "[LightGBM] [Info] Auto-choosing row-wise multi-threading, the overhead of testing was 0.003138 seconds.\n",
      "You can set `force_row_wise=true` to remove the overhead.\n",
      "And if memory is not enough, you can set `force_col_wise=true`.\n",
      "[LightGBM] [Info] Total Bins 516\n",
      "[LightGBM] [Info] Number of data points in the train set: 118324, number of used features: 8\n",
      "[LightGBM] [Info] Start training from score 5053.982193\n",
      "[CV 3/3] END n_estimators=100, num_leaves=80;, score=-1566.623 total time=   0.6s\n",
      "[LightGBM] [Info] Auto-choosing row-wise multi-threading, the overhead of testing was 0.003230 seconds.\n",
      "You can set `force_row_wise=true` to remove the overhead.\n",
      "And if memory is not enough, you can set `force_col_wise=true`.\n",
      "[LightGBM] [Info] Total Bins 515\n",
      "[LightGBM] [Info] Number of data points in the train set: 118324, number of used features: 8\n",
      "[LightGBM] [Info] Start training from score 5050.109192\n",
      "[CV 1/3] END n_estimators=100, num_leaves=100;, score=-1537.884 total time=   0.7s\n",
      "[LightGBM] [Info] Auto-choosing row-wise multi-threading, the overhead of testing was 0.003460 seconds.\n",
      "You can set `force_row_wise=true` to remove the overhead.\n",
      "And if memory is not enough, you can set `force_col_wise=true`.\n",
      "[LightGBM] [Info] Total Bins 518\n",
      "[LightGBM] [Info] Number of data points in the train set: 118324, number of used features: 8\n",
      "[LightGBM] [Info] Start training from score 5060.723818\n",
      "[CV 2/3] END n_estimators=100, num_leaves=100;, score=-1556.751 total time=   0.7s\n",
      "[LightGBM] [Info] Auto-choosing row-wise multi-threading, the overhead of testing was 0.002671 seconds.\n",
      "You can set `force_row_wise=true` to remove the overhead.\n",
      "And if memory is not enough, you can set `force_col_wise=true`.\n",
      "[LightGBM] [Info] Total Bins 516\n",
      "[LightGBM] [Info] Number of data points in the train set: 118324, number of used features: 8\n",
      "[LightGBM] [Info] Start training from score 5053.982193\n",
      "[CV 3/3] END n_estimators=100, num_leaves=100;, score=-1564.232 total time=   0.7s\n",
      "[LightGBM] [Info] Auto-choosing row-wise multi-threading, the overhead of testing was 0.003216 seconds.\n",
      "You can set `force_row_wise=true` to remove the overhead.\n",
      "And if memory is not enough, you can set `force_col_wise=true`.\n",
      "[LightGBM] [Info] Total Bins 515\n",
      "[LightGBM] [Info] Number of data points in the train set: 118324, number of used features: 8\n",
      "[LightGBM] [Info] Start training from score 5050.109192\n",
      "[CV 1/3] END n_estimators=100, num_leaves=120;, score=-1537.998 total time=   0.7s\n",
      "[LightGBM] [Info] Auto-choosing row-wise multi-threading, the overhead of testing was 0.003313 seconds.\n",
      "You can set `force_row_wise=true` to remove the overhead.\n",
      "And if memory is not enough, you can set `force_col_wise=true`.\n",
      "[LightGBM] [Info] Total Bins 518\n",
      "[LightGBM] [Info] Number of data points in the train set: 118324, number of used features: 8\n",
      "[LightGBM] [Info] Start training from score 5060.723818\n",
      "[CV 2/3] END n_estimators=100, num_leaves=120;, score=-1553.798 total time=   0.8s\n",
      "[LightGBM] [Info] Auto-choosing row-wise multi-threading, the overhead of testing was 0.004368 seconds.\n",
      "You can set `force_row_wise=true` to remove the overhead.\n",
      "And if memory is not enough, you can set `force_col_wise=true`.\n",
      "[LightGBM] [Info] Total Bins 516\n",
      "[LightGBM] [Info] Number of data points in the train set: 118324, number of used features: 8\n",
      "[LightGBM] [Info] Start training from score 5053.982193\n",
      "[CV 3/3] END n_estimators=100, num_leaves=120;, score=-1557.326 total time=   1.1s\n",
      "[LightGBM] [Info] Auto-choosing row-wise multi-threading, the overhead of testing was 0.003886 seconds.\n",
      "You can set `force_row_wise=true` to remove the overhead.\n",
      "And if memory is not enough, you can set `force_col_wise=true`.\n",
      "[LightGBM] [Info] Total Bins 515\n",
      "[LightGBM] [Info] Number of data points in the train set: 118324, number of used features: 8\n",
      "[LightGBM] [Info] Start training from score 5050.109192\n",
      "[CV 1/3] END n_estimators=100, num_leaves=140;, score=-1532.174 total time=   1.2s\n",
      "[LightGBM] [Info] Auto-choosing row-wise multi-threading, the overhead of testing was 0.003003 seconds.\n",
      "You can set `force_row_wise=true` to remove the overhead.\n",
      "And if memory is not enough, you can set `force_col_wise=true`.\n",
      "[LightGBM] [Info] Total Bins 518\n",
      "[LightGBM] [Info] Number of data points in the train set: 118324, number of used features: 8\n",
      "[LightGBM] [Info] Start training from score 5060.723818\n",
      "[CV 2/3] END n_estimators=100, num_leaves=140;, score=-1551.847 total time=   0.8s\n",
      "[LightGBM] [Info] Auto-choosing row-wise multi-threading, the overhead of testing was 0.002694 seconds.\n",
      "You can set `force_row_wise=true` to remove the overhead.\n",
      "And if memory is not enough, you can set `force_col_wise=true`.\n",
      "[LightGBM] [Info] Total Bins 516\n",
      "[LightGBM] [Info] Number of data points in the train set: 118324, number of used features: 8\n",
      "[LightGBM] [Info] Start training from score 5053.982193\n",
      "[CV 3/3] END n_estimators=100, num_leaves=140;, score=-1555.341 total time=   0.8s\n",
      "[LightGBM] [Info] Auto-choosing row-wise multi-threading, the overhead of testing was 0.003330 seconds.\n",
      "You can set `force_row_wise=true` to remove the overhead.\n",
      "And if memory is not enough, you can set `force_col_wise=true`.\n",
      "[LightGBM] [Info] Total Bins 515\n",
      "[LightGBM] [Info] Number of data points in the train set: 118324, number of used features: 8\n",
      "[LightGBM] [Info] Start training from score 5050.109192\n",
      "[CV 1/3] END n_estimators=100, num_leaves=160;, score=-1528.695 total time=   0.8s\n",
      "[LightGBM] [Info] Auto-choosing row-wise multi-threading, the overhead of testing was 0.003796 seconds.\n",
      "You can set `force_row_wise=true` to remove the overhead.\n",
      "And if memory is not enough, you can set `force_col_wise=true`.\n",
      "[LightGBM] [Info] Total Bins 518\n",
      "[LightGBM] [Info] Number of data points in the train set: 118324, number of used features: 8\n",
      "[LightGBM] [Info] Start training from score 5060.723818\n",
      "[CV 2/3] END n_estimators=100, num_leaves=160;, score=-1546.106 total time=   0.8s\n",
      "[LightGBM] [Info] Auto-choosing row-wise multi-threading, the overhead of testing was 0.003376 seconds.\n",
      "You can set `force_row_wise=true` to remove the overhead.\n",
      "And if memory is not enough, you can set `force_col_wise=true`.\n",
      "[LightGBM] [Info] Total Bins 516\n",
      "[LightGBM] [Info] Number of data points in the train set: 118324, number of used features: 8\n",
      "[LightGBM] [Info] Start training from score 5053.982193\n",
      "[CV 3/3] END n_estimators=100, num_leaves=160;, score=-1555.366 total time=   0.8s\n",
      "[LightGBM] [Info] Auto-choosing row-wise multi-threading, the overhead of testing was 0.003435 seconds.\n",
      "You can set `force_row_wise=true` to remove the overhead.\n",
      "And if memory is not enough, you can set `force_col_wise=true`.\n",
      "[LightGBM] [Info] Total Bins 515\n",
      "[LightGBM] [Info] Number of data points in the train set: 118324, number of used features: 8\n",
      "[LightGBM] [Info] Start training from score 5050.109192\n",
      "[CV 1/3] END n_estimators=100, num_leaves=180;, score=-1529.717 total time=   0.9s\n",
      "[LightGBM] [Info] Auto-choosing row-wise multi-threading, the overhead of testing was 0.002728 seconds.\n",
      "You can set `force_row_wise=true` to remove the overhead.\n",
      "And if memory is not enough, you can set `force_col_wise=true`.\n",
      "[LightGBM] [Info] Total Bins 518\n",
      "[LightGBM] [Info] Number of data points in the train set: 118324, number of used features: 8\n",
      "[LightGBM] [Info] Start training from score 5060.723818\n",
      "[CV 2/3] END n_estimators=100, num_leaves=180;, score=-1544.404 total time=   0.8s\n",
      "[LightGBM] [Info] Auto-choosing row-wise multi-threading, the overhead of testing was 0.002573 seconds.\n",
      "You can set `force_row_wise=true` to remove the overhead.\n",
      "And if memory is not enough, you can set `force_col_wise=true`.\n",
      "[LightGBM] [Info] Total Bins 516\n",
      "[LightGBM] [Info] Number of data points in the train set: 118324, number of used features: 8\n",
      "[LightGBM] [Info] Start training from score 5053.982193\n",
      "[CV 3/3] END n_estimators=100, num_leaves=180;, score=-1555.043 total time=   0.8s\n",
      "[LightGBM] [Info] Auto-choosing row-wise multi-threading, the overhead of testing was 0.002793 seconds.\n",
      "You can set `force_row_wise=true` to remove the overhead.\n",
      "And if memory is not enough, you can set `force_col_wise=true`.\n",
      "[LightGBM] [Info] Total Bins 515\n",
      "[LightGBM] [Info] Number of data points in the train set: 118324, number of used features: 8\n",
      "[LightGBM] [Info] Start training from score 5050.109192\n",
      "[CV 1/3] END n_estimators=100, num_leaves=200;, score=-1527.085 total time=   0.9s\n",
      "[LightGBM] [Info] Auto-choosing row-wise multi-threading, the overhead of testing was 0.002733 seconds.\n",
      "You can set `force_row_wise=true` to remove the overhead.\n",
      "And if memory is not enough, you can set `force_col_wise=true`.\n",
      "[LightGBM] [Info] Total Bins 518\n",
      "[LightGBM] [Info] Number of data points in the train set: 118324, number of used features: 8\n",
      "[LightGBM] [Info] Start training from score 5060.723818\n",
      "[CV 2/3] END n_estimators=100, num_leaves=200;, score=-1545.115 total time=   0.9s\n",
      "[LightGBM] [Info] Auto-choosing row-wise multi-threading, the overhead of testing was 0.002554 seconds.\n",
      "You can set `force_row_wise=true` to remove the overhead.\n",
      "And if memory is not enough, you can set `force_col_wise=true`.\n",
      "[LightGBM] [Info] Total Bins 516\n",
      "[LightGBM] [Info] Number of data points in the train set: 118324, number of used features: 8\n",
      "[LightGBM] [Info] Start training from score 5053.982193\n",
      "[CV 3/3] END n_estimators=100, num_leaves=200;, score=-1551.528 total time=   0.9s\n",
      "[LightGBM] [Info] Auto-choosing row-wise multi-threading, the overhead of testing was 0.002525 seconds.\n",
      "You can set `force_row_wise=true` to remove the overhead.\n",
      "And if memory is not enough, you can set `force_col_wise=true`.\n",
      "[LightGBM] [Info] Total Bins 515\n",
      "[LightGBM] [Info] Number of data points in the train set: 118324, number of used features: 8\n",
      "[LightGBM] [Info] Start training from score 5050.109192\n",
      "[CV 1/3] END n_estimators=100, num_leaves=220;, score=-1526.812 total time=   1.0s\n",
      "[LightGBM] [Info] Auto-choosing row-wise multi-threading, the overhead of testing was 0.003191 seconds.\n",
      "You can set `force_row_wise=true` to remove the overhead.\n",
      "And if memory is not enough, you can set `force_col_wise=true`.\n",
      "[LightGBM] [Info] Total Bins 518\n",
      "[LightGBM] [Info] Number of data points in the train set: 118324, number of used features: 8\n",
      "[LightGBM] [Info] Start training from score 5060.723818\n",
      "[CV 2/3] END n_estimators=100, num_leaves=220;, score=-1544.172 total time=   1.1s\n",
      "[LightGBM] [Info] Auto-choosing row-wise multi-threading, the overhead of testing was 0.002657 seconds.\n",
      "You can set `force_row_wise=true` to remove the overhead.\n",
      "And if memory is not enough, you can set `force_col_wise=true`.\n",
      "[LightGBM] [Info] Total Bins 516\n",
      "[LightGBM] [Info] Number of data points in the train set: 118324, number of used features: 8\n",
      "[LightGBM] [Info] Start training from score 5053.982193\n",
      "[CV 3/3] END n_estimators=100, num_leaves=220;, score=-1549.967 total time=   1.0s\n",
      "[LightGBM] [Info] Auto-choosing row-wise multi-threading, the overhead of testing was 0.003955 seconds.\n",
      "You can set `force_row_wise=true` to remove the overhead.\n",
      "And if memory is not enough, you can set `force_col_wise=true`.\n",
      "[LightGBM] [Info] Total Bins 515\n",
      "[LightGBM] [Info] Number of data points in the train set: 118324, number of used features: 8\n",
      "[LightGBM] [Info] Start training from score 5050.109192\n",
      "[CV 1/3] END n_estimators=100, num_leaves=240;, score=-1525.644 total time=   1.5s\n",
      "[LightGBM] [Info] Auto-choosing row-wise multi-threading, the overhead of testing was 0.003363 seconds.\n",
      "You can set `force_row_wise=true` to remove the overhead.\n",
      "And if memory is not enough, you can set `force_col_wise=true`.\n",
      "[LightGBM] [Info] Total Bins 518\n",
      "[LightGBM] [Info] Number of data points in the train set: 118324, number of used features: 8\n",
      "[LightGBM] [Info] Start training from score 5060.723818\n",
      "[CV 2/3] END n_estimators=100, num_leaves=240;, score=-1544.161 total time=   1.0s\n",
      "[LightGBM] [Info] Auto-choosing row-wise multi-threading, the overhead of testing was 0.002784 seconds.\n",
      "You can set `force_row_wise=true` to remove the overhead.\n",
      "And if memory is not enough, you can set `force_col_wise=true`.\n",
      "[LightGBM] [Info] Total Bins 516\n",
      "[LightGBM] [Info] Number of data points in the train set: 118324, number of used features: 8\n",
      "[LightGBM] [Info] Start training from score 5053.982193\n",
      "[CV 3/3] END n_estimators=100, num_leaves=240;, score=-1545.844 total time=   1.1s\n",
      "[LightGBM] [Info] Auto-choosing row-wise multi-threading, the overhead of testing was 0.002844 seconds.\n",
      "You can set `force_row_wise=true` to remove the overhead.\n",
      "And if memory is not enough, you can set `force_col_wise=true`.\n",
      "[LightGBM] [Info] Total Bins 515\n",
      "[LightGBM] [Info] Number of data points in the train set: 118324, number of used features: 8\n",
      "[LightGBM] [Info] Start training from score 5050.109192\n",
      "[CV 1/3] END n_estimators=100, num_leaves=260;, score=-1527.782 total time=   1.1s\n",
      "[LightGBM] [Info] Auto-choosing row-wise multi-threading, the overhead of testing was 0.003572 seconds.\n",
      "You can set `force_row_wise=true` to remove the overhead.\n",
      "And if memory is not enough, you can set `force_col_wise=true`.\n",
      "[LightGBM] [Info] Total Bins 518\n",
      "[LightGBM] [Info] Number of data points in the train set: 118324, number of used features: 8\n",
      "[LightGBM] [Info] Start training from score 5060.723818\n",
      "[CV 2/3] END n_estimators=100, num_leaves=260;, score=-1540.290 total time=   1.1s\n",
      "[LightGBM] [Info] Auto-choosing row-wise multi-threading, the overhead of testing was 0.002515 seconds.\n",
      "You can set `force_row_wise=true` to remove the overhead.\n",
      "And if memory is not enough, you can set `force_col_wise=true`.\n",
      "[LightGBM] [Info] Total Bins 516\n",
      "[LightGBM] [Info] Number of data points in the train set: 118324, number of used features: 8\n",
      "[LightGBM] [Info] Start training from score 5053.982193\n",
      "[CV 3/3] END n_estimators=100, num_leaves=260;, score=-1547.102 total time=   1.0s\n",
      "[LightGBM] [Info] Auto-choosing row-wise multi-threading, the overhead of testing was 0.002754 seconds.\n",
      "You can set `force_row_wise=true` to remove the overhead.\n",
      "And if memory is not enough, you can set `force_col_wise=true`.\n",
      "[LightGBM] [Info] Total Bins 515\n",
      "[LightGBM] [Info] Number of data points in the train set: 118324, number of used features: 8\n",
      "[LightGBM] [Info] Start training from score 5050.109192\n",
      "[CV 1/3] END n_estimators=100, num_leaves=280;, score=-1524.660 total time=   1.1s\n",
      "[LightGBM] [Info] Auto-choosing row-wise multi-threading, the overhead of testing was 0.002738 seconds.\n",
      "You can set `force_row_wise=true` to remove the overhead.\n",
      "And if memory is not enough, you can set `force_col_wise=true`.\n",
      "[LightGBM] [Info] Total Bins 518\n",
      "[LightGBM] [Info] Number of data points in the train set: 118324, number of used features: 8\n",
      "[LightGBM] [Info] Start training from score 5060.723818\n",
      "[CV 2/3] END n_estimators=100, num_leaves=280;, score=-1542.775 total time=   1.1s\n",
      "[LightGBM] [Info] Auto-choosing row-wise multi-threading, the overhead of testing was 0.002557 seconds.\n",
      "You can set `force_row_wise=true` to remove the overhead.\n",
      "And if memory is not enough, you can set `force_col_wise=true`.\n",
      "[LightGBM] [Info] Total Bins 516\n",
      "[LightGBM] [Info] Number of data points in the train set: 118324, number of used features: 8\n",
      "[LightGBM] [Info] Start training from score 5053.982193\n",
      "[CV 3/3] END n_estimators=100, num_leaves=280;, score=-1546.537 total time=   1.1s\n",
      "[LightGBM] [Info] Auto-choosing row-wise multi-threading, the overhead of testing was 0.002873 seconds.\n",
      "You can set `force_row_wise=true` to remove the overhead.\n",
      "And if memory is not enough, you can set `force_col_wise=true`.\n",
      "[LightGBM] [Info] Total Bins 515\n",
      "[LightGBM] [Info] Number of data points in the train set: 118324, number of used features: 8\n",
      "[LightGBM] [Info] Start training from score 5050.109192\n",
      "[CV 1/3] END n_estimators=500, num_leaves=20;, score=-1545.499 total time=   1.2s\n",
      "[LightGBM] [Info] Auto-choosing row-wise multi-threading, the overhead of testing was 0.002839 seconds.\n",
      "You can set `force_row_wise=true` to remove the overhead.\n",
      "And if memory is not enough, you can set `force_col_wise=true`.\n",
      "[LightGBM] [Info] Total Bins 518\n",
      "[LightGBM] [Info] Number of data points in the train set: 118324, number of used features: 8\n",
      "[LightGBM] [Info] Start training from score 5060.723818\n",
      "[CV 2/3] END n_estimators=500, num_leaves=20;, score=-1556.416 total time=   1.2s\n",
      "[LightGBM] [Info] Auto-choosing row-wise multi-threading, the overhead of testing was 0.002916 seconds.\n",
      "You can set `force_row_wise=true` to remove the overhead.\n",
      "And if memory is not enough, you can set `force_col_wise=true`.\n",
      "[LightGBM] [Info] Total Bins 516\n",
      "[LightGBM] [Info] Number of data points in the train set: 118324, number of used features: 8\n",
      "[LightGBM] [Info] Start training from score 5053.982193\n",
      "[CV 3/3] END n_estimators=500, num_leaves=20;, score=-1566.375 total time=   1.2s\n",
      "[LightGBM] [Info] Auto-choosing row-wise multi-threading, the overhead of testing was 0.002745 seconds.\n",
      "You can set `force_row_wise=true` to remove the overhead.\n",
      "And if memory is not enough, you can set `force_col_wise=true`.\n",
      "[LightGBM] [Info] Total Bins 515\n",
      "[LightGBM] [Info] Number of data points in the train set: 118324, number of used features: 8\n",
      "[LightGBM] [Info] Start training from score 5050.109192\n",
      "[CV 1/3] END n_estimators=500, num_leaves=40;, score=-1533.345 total time=   1.9s\n",
      "[LightGBM] [Info] Auto-choosing row-wise multi-threading, the overhead of testing was 0.003860 seconds.\n",
      "You can set `force_row_wise=true` to remove the overhead.\n",
      "And if memory is not enough, you can set `force_col_wise=true`.\n",
      "[LightGBM] [Info] Total Bins 518\n",
      "[LightGBM] [Info] Number of data points in the train set: 118324, number of used features: 8\n",
      "[LightGBM] [Info] Start training from score 5060.723818\n",
      "[CV 2/3] END n_estimators=500, num_leaves=40;, score=-1544.196 total time=   1.8s\n",
      "[LightGBM] [Info] Auto-choosing row-wise multi-threading, the overhead of testing was 0.002515 seconds.\n",
      "You can set `force_row_wise=true` to remove the overhead.\n",
      "And if memory is not enough, you can set `force_col_wise=true`.\n",
      "[LightGBM] [Info] Total Bins 516\n",
      "[LightGBM] [Info] Number of data points in the train set: 118324, number of used features: 8\n",
      "[LightGBM] [Info] Start training from score 5053.982193\n",
      "[CV 3/3] END n_estimators=500, num_leaves=40;, score=-1549.541 total time=   1.5s\n",
      "[LightGBM] [Info] Auto-choosing row-wise multi-threading, the overhead of testing was 0.003390 seconds.\n",
      "You can set `force_row_wise=true` to remove the overhead.\n",
      "And if memory is not enough, you can set `force_col_wise=true`.\n",
      "[LightGBM] [Info] Total Bins 515\n",
      "[LightGBM] [Info] Number of data points in the train set: 118324, number of used features: 8\n",
      "[LightGBM] [Info] Start training from score 5050.109192\n",
      "[CV 1/3] END n_estimators=500, num_leaves=60;, score=-1528.170 total time=   1.7s\n",
      "[LightGBM] [Info] Auto-choosing row-wise multi-threading, the overhead of testing was 0.003038 seconds.\n",
      "You can set `force_row_wise=true` to remove the overhead.\n",
      "And if memory is not enough, you can set `force_col_wise=true`.\n",
      "[LightGBM] [Info] Total Bins 518\n",
      "[LightGBM] [Info] Number of data points in the train set: 118324, number of used features: 8\n",
      "[LightGBM] [Info] Start training from score 5060.723818\n",
      "[CV 2/3] END n_estimators=500, num_leaves=60;, score=-1537.301 total time=   1.8s\n",
      "[LightGBM] [Info] Auto-choosing row-wise multi-threading, the overhead of testing was 0.003319 seconds.\n",
      "You can set `force_row_wise=true` to remove the overhead.\n",
      "And if memory is not enough, you can set `force_col_wise=true`.\n",
      "[LightGBM] [Info] Total Bins 516\n",
      "[LightGBM] [Info] Number of data points in the train set: 118324, number of used features: 8\n",
      "[LightGBM] [Info] Start training from score 5053.982193\n",
      "[CV 3/3] END n_estimators=500, num_leaves=60;, score=-1546.788 total time=   1.8s\n",
      "[LightGBM] [Info] Auto-choosing row-wise multi-threading, the overhead of testing was 0.002976 seconds.\n",
      "You can set `force_row_wise=true` to remove the overhead.\n",
      "And if memory is not enough, you can set `force_col_wise=true`.\n",
      "[LightGBM] [Info] Total Bins 515\n",
      "[LightGBM] [Info] Number of data points in the train set: 118324, number of used features: 8\n",
      "[LightGBM] [Info] Start training from score 5050.109192\n",
      "[CV 1/3] END n_estimators=500, num_leaves=80;, score=-1525.831 total time=   2.0s\n",
      "[LightGBM] [Info] Auto-choosing row-wise multi-threading, the overhead of testing was 0.003042 seconds.\n",
      "You can set `force_row_wise=true` to remove the overhead.\n",
      "And if memory is not enough, you can set `force_col_wise=true`.\n",
      "[LightGBM] [Info] Total Bins 518\n",
      "[LightGBM] [Info] Number of data points in the train set: 118324, number of used features: 8\n",
      "[LightGBM] [Info] Start training from score 5060.723818\n",
      "[CV 2/3] END n_estimators=500, num_leaves=80;, score=-1540.618 total time=   2.0s\n",
      "[LightGBM] [Info] Auto-choosing row-wise multi-threading, the overhead of testing was 0.002621 seconds.\n",
      "You can set `force_row_wise=true` to remove the overhead.\n",
      "And if memory is not enough, you can set `force_col_wise=true`.\n",
      "[LightGBM] [Info] Total Bins 516\n",
      "[LightGBM] [Info] Number of data points in the train set: 118324, number of used features: 8\n",
      "[LightGBM] [Info] Start training from score 5053.982193\n",
      "[CV 3/3] END n_estimators=500, num_leaves=80;, score=-1544.363 total time=   2.2s\n",
      "[LightGBM] [Info] Auto-choosing row-wise multi-threading, the overhead of testing was 0.003394 seconds.\n",
      "You can set `force_row_wise=true` to remove the overhead.\n",
      "And if memory is not enough, you can set `force_col_wise=true`.\n",
      "[LightGBM] [Info] Total Bins 515\n",
      "[LightGBM] [Info] Number of data points in the train set: 118324, number of used features: 8\n",
      "[LightGBM] [Info] Start training from score 5050.109192\n",
      "[CV 1/3] END n_estimators=500, num_leaves=100;, score=-1523.085 total time=   3.3s\n",
      "[LightGBM] [Info] Auto-choosing row-wise multi-threading, the overhead of testing was 0.002891 seconds.\n",
      "You can set `force_row_wise=true` to remove the overhead.\n",
      "And if memory is not enough, you can set `force_col_wise=true`.\n",
      "[LightGBM] [Info] Total Bins 518\n",
      "[LightGBM] [Info] Number of data points in the train set: 118324, number of used features: 8\n",
      "[LightGBM] [Info] Start training from score 5060.723818\n",
      "[CV 2/3] END n_estimators=500, num_leaves=100;, score=-1537.600 total time=   2.6s\n",
      "[LightGBM] [Info] Auto-choosing row-wise multi-threading, the overhead of testing was 0.003790 seconds.\n",
      "You can set `force_row_wise=true` to remove the overhead.\n",
      "And if memory is not enough, you can set `force_col_wise=true`.\n",
      "[LightGBM] [Info] Total Bins 516\n",
      "[LightGBM] [Info] Number of data points in the train set: 118324, number of used features: 8\n",
      "[LightGBM] [Info] Start training from score 5053.982193\n",
      "[CV 3/3] END n_estimators=500, num_leaves=100;, score=-1544.214 total time=   2.4s\n",
      "[LightGBM] [Info] Auto-choosing row-wise multi-threading, the overhead of testing was 0.002619 seconds.\n",
      "You can set `force_row_wise=true` to remove the overhead.\n",
      "And if memory is not enough, you can set `force_col_wise=true`.\n",
      "[LightGBM] [Info] Total Bins 515\n",
      "[LightGBM] [Info] Number of data points in the train set: 118324, number of used features: 8\n",
      "[LightGBM] [Info] Start training from score 5050.109192\n",
      "[CV 1/3] END n_estimators=500, num_leaves=120;, score=-1529.002 total time=   2.5s\n",
      "[LightGBM] [Info] Auto-choosing row-wise multi-threading, the overhead of testing was 0.002574 seconds.\n",
      "You can set `force_row_wise=true` to remove the overhead.\n",
      "And if memory is not enough, you can set `force_col_wise=true`.\n",
      "[LightGBM] [Info] Total Bins 518\n",
      "[LightGBM] [Info] Number of data points in the train set: 118324, number of used features: 8\n",
      "[LightGBM] [Info] Start training from score 5060.723818\n",
      "[CV 2/3] END n_estimators=500, num_leaves=120;, score=-1539.798 total time=   2.5s\n",
      "[LightGBM] [Info] Auto-choosing row-wise multi-threading, the overhead of testing was 0.003197 seconds.\n",
      "You can set `force_row_wise=true` to remove the overhead.\n",
      "And if memory is not enough, you can set `force_col_wise=true`.\n",
      "[LightGBM] [Info] Total Bins 516\n",
      "[LightGBM] [Info] Number of data points in the train set: 118324, number of used features: 8\n",
      "[LightGBM] [Info] Start training from score 5053.982193\n",
      "[CV 3/3] END n_estimators=500, num_leaves=120;, score=-1544.095 total time=   3.2s\n",
      "[LightGBM] [Info] Auto-choosing row-wise multi-threading, the overhead of testing was 0.003132 seconds.\n",
      "You can set `force_row_wise=true` to remove the overhead.\n",
      "And if memory is not enough, you can set `force_col_wise=true`.\n",
      "[LightGBM] [Info] Total Bins 515\n",
      "[LightGBM] [Info] Number of data points in the train set: 118324, number of used features: 8\n",
      "[LightGBM] [Info] Start training from score 5050.109192\n",
      "[CV 1/3] END n_estimators=500, num_leaves=140;, score=-1526.738 total time=   2.8s\n",
      "[LightGBM] [Info] Auto-choosing row-wise multi-threading, the overhead of testing was 0.003026 seconds.\n",
      "You can set `force_row_wise=true` to remove the overhead.\n",
      "And if memory is not enough, you can set `force_col_wise=true`.\n",
      "[LightGBM] [Info] Total Bins 518\n",
      "[LightGBM] [Info] Number of data points in the train set: 118324, number of used features: 8\n",
      "[LightGBM] [Info] Start training from score 5060.723818\n",
      "[CV 2/3] END n_estimators=500, num_leaves=140;, score=-1540.862 total time=   2.8s\n",
      "[LightGBM] [Info] Auto-choosing row-wise multi-threading, the overhead of testing was 0.003164 seconds.\n",
      "You can set `force_row_wise=true` to remove the overhead.\n",
      "And if memory is not enough, you can set `force_col_wise=true`.\n",
      "[LightGBM] [Info] Total Bins 516\n",
      "[LightGBM] [Info] Number of data points in the train set: 118324, number of used features: 8\n",
      "[LightGBM] [Info] Start training from score 5053.982193\n",
      "[CV 3/3] END n_estimators=500, num_leaves=140;, score=-1546.173 total time=   2.8s\n",
      "[LightGBM] [Info] Auto-choosing row-wise multi-threading, the overhead of testing was 0.003060 seconds.\n",
      "You can set `force_row_wise=true` to remove the overhead.\n",
      "And if memory is not enough, you can set `force_col_wise=true`.\n",
      "[LightGBM] [Info] Total Bins 515\n",
      "[LightGBM] [Info] Number of data points in the train set: 118324, number of used features: 8\n",
      "[LightGBM] [Info] Start training from score 5050.109192\n",
      "[CV 1/3] END n_estimators=500, num_leaves=160;, score=-1528.156 total time=   3.0s\n",
      "[LightGBM] [Info] Auto-choosing row-wise multi-threading, the overhead of testing was 0.002744 seconds.\n",
      "You can set `force_row_wise=true` to remove the overhead.\n",
      "And if memory is not enough, you can set `force_col_wise=true`.\n",
      "[LightGBM] [Info] Total Bins 518\n",
      "[LightGBM] [Info] Number of data points in the train set: 118324, number of used features: 8\n",
      "[LightGBM] [Info] Start training from score 5060.723818\n",
      "[CV 2/3] END n_estimators=500, num_leaves=160;, score=-1538.898 total time=   3.4s\n",
      "[LightGBM] [Info] Auto-choosing row-wise multi-threading, the overhead of testing was 0.003969 seconds.\n",
      "You can set `force_row_wise=true` to remove the overhead.\n",
      "And if memory is not enough, you can set `force_col_wise=true`.\n",
      "[LightGBM] [Info] Total Bins 516\n",
      "[LightGBM] [Info] Number of data points in the train set: 118324, number of used features: 8\n",
      "[LightGBM] [Info] Start training from score 5053.982193\n",
      "[CV 3/3] END n_estimators=500, num_leaves=160;, score=-1549.533 total time=   3.5s\n",
      "[LightGBM] [Info] Auto-choosing row-wise multi-threading, the overhead of testing was 0.003530 seconds.\n",
      "You can set `force_row_wise=true` to remove the overhead.\n",
      "And if memory is not enough, you can set `force_col_wise=true`.\n",
      "[LightGBM] [Info] Total Bins 515\n",
      "[LightGBM] [Info] Number of data points in the train set: 118324, number of used features: 8\n",
      "[LightGBM] [Info] Start training from score 5050.109192\n",
      "[CV 1/3] END n_estimators=500, num_leaves=180;, score=-1534.650 total time=   3.4s\n",
      "[LightGBM] [Info] Auto-choosing col-wise multi-threading, the overhead of testing was 0.006324 seconds.\n",
      "You can set `force_col_wise=true` to remove the overhead.\n",
      "[LightGBM] [Info] Total Bins 518\n",
      "[LightGBM] [Info] Number of data points in the train set: 118324, number of used features: 8\n",
      "[LightGBM] [Info] Start training from score 5060.723818\n",
      "[CV 2/3] END n_estimators=500, num_leaves=180;, score=-1541.129 total time=   3.4s\n",
      "[LightGBM] [Info] Auto-choosing row-wise multi-threading, the overhead of testing was 0.002904 seconds.\n",
      "You can set `force_row_wise=true` to remove the overhead.\n",
      "And if memory is not enough, you can set `force_col_wise=true`.\n",
      "[LightGBM] [Info] Total Bins 516\n",
      "[LightGBM] [Info] Number of data points in the train set: 118324, number of used features: 8\n",
      "[LightGBM] [Info] Start training from score 5053.982193\n",
      "[CV 3/3] END n_estimators=500, num_leaves=180;, score=-1550.986 total time=   3.4s\n",
      "[LightGBM] [Info] Auto-choosing row-wise multi-threading, the overhead of testing was 0.003649 seconds.\n",
      "You can set `force_row_wise=true` to remove the overhead.\n",
      "And if memory is not enough, you can set `force_col_wise=true`.\n",
      "[LightGBM] [Info] Total Bins 515\n",
      "[LightGBM] [Info] Number of data points in the train set: 118324, number of used features: 8\n",
      "[LightGBM] [Info] Start training from score 5050.109192\n",
      "[CV 1/3] END n_estimators=500, num_leaves=200;, score=-1533.248 total time=   4.2s\n",
      "[LightGBM] [Info] Auto-choosing row-wise multi-threading, the overhead of testing was 0.002923 seconds.\n",
      "You can set `force_row_wise=true` to remove the overhead.\n",
      "And if memory is not enough, you can set `force_col_wise=true`.\n",
      "[LightGBM] [Info] Total Bins 518\n",
      "[LightGBM] [Info] Number of data points in the train set: 118324, number of used features: 8\n",
      "[LightGBM] [Info] Start training from score 5060.723818\n",
      "[CV 2/3] END n_estimators=500, num_leaves=200;, score=-1543.252 total time=   3.6s\n",
      "[LightGBM] [Info] Auto-choosing row-wise multi-threading, the overhead of testing was 0.003661 seconds.\n",
      "You can set `force_row_wise=true` to remove the overhead.\n",
      "And if memory is not enough, you can set `force_col_wise=true`.\n",
      "[LightGBM] [Info] Total Bins 516\n",
      "[LightGBM] [Info] Number of data points in the train set: 118324, number of used features: 8\n",
      "[LightGBM] [Info] Start training from score 5053.982193\n",
      "[CV 3/3] END n_estimators=500, num_leaves=200;, score=-1549.429 total time=   3.6s\n",
      "[LightGBM] [Info] Auto-choosing row-wise multi-threading, the overhead of testing was 0.003107 seconds.\n",
      "You can set `force_row_wise=true` to remove the overhead.\n",
      "And if memory is not enough, you can set `force_col_wise=true`.\n",
      "[LightGBM] [Info] Total Bins 515\n",
      "[LightGBM] [Info] Number of data points in the train set: 118324, number of used features: 8\n",
      "[LightGBM] [Info] Start training from score 5050.109192\n",
      "[CV 1/3] END n_estimators=500, num_leaves=220;, score=-1533.956 total time=   3.7s\n",
      "[LightGBM] [Info] Auto-choosing row-wise multi-threading, the overhead of testing was 0.002542 seconds.\n",
      "You can set `force_row_wise=true` to remove the overhead.\n",
      "And if memory is not enough, you can set `force_col_wise=true`.\n",
      "[LightGBM] [Info] Total Bins 518\n",
      "[LightGBM] [Info] Number of data points in the train set: 118324, number of used features: 8\n",
      "[LightGBM] [Info] Start training from score 5060.723818\n",
      "[CV 2/3] END n_estimators=500, num_leaves=220;, score=-1548.936 total time=   4.6s\n",
      "[LightGBM] [Info] Auto-choosing row-wise multi-threading, the overhead of testing was 0.002919 seconds.\n",
      "You can set `force_row_wise=true` to remove the overhead.\n",
      "And if memory is not enough, you can set `force_col_wise=true`.\n",
      "[LightGBM] [Info] Total Bins 516\n",
      "[LightGBM] [Info] Number of data points in the train set: 118324, number of used features: 8\n",
      "[LightGBM] [Info] Start training from score 5053.982193\n",
      "[CV 3/3] END n_estimators=500, num_leaves=220;, score=-1552.336 total time=   3.8s\n",
      "[LightGBM] [Info] Auto-choosing row-wise multi-threading, the overhead of testing was 0.003660 seconds.\n",
      "You can set `force_row_wise=true` to remove the overhead.\n",
      "And if memory is not enough, you can set `force_col_wise=true`.\n",
      "[LightGBM] [Info] Total Bins 515\n",
      "[LightGBM] [Info] Number of data points in the train set: 118324, number of used features: 8\n",
      "[LightGBM] [Info] Start training from score 5050.109192\n",
      "[CV 1/3] END n_estimators=500, num_leaves=240;, score=-1534.557 total time=   4.1s\n",
      "[LightGBM] [Info] Auto-choosing row-wise multi-threading, the overhead of testing was 0.002506 seconds.\n",
      "You can set `force_row_wise=true` to remove the overhead.\n",
      "And if memory is not enough, you can set `force_col_wise=true`.\n",
      "[LightGBM] [Info] Total Bins 518\n",
      "[LightGBM] [Info] Number of data points in the train set: 118324, number of used features: 8\n",
      "[LightGBM] [Info] Start training from score 5060.723818\n",
      "[CV 2/3] END n_estimators=500, num_leaves=240;, score=-1549.345 total time=   4.1s\n",
      "[LightGBM] [Info] Auto-choosing col-wise multi-threading, the overhead of testing was 0.006147 seconds.\n",
      "You can set `force_col_wise=true` to remove the overhead.\n",
      "[LightGBM] [Info] Total Bins 516\n",
      "[LightGBM] [Info] Number of data points in the train set: 118324, number of used features: 8\n",
      "[LightGBM] [Info] Start training from score 5053.982193\n",
      "[CV 3/3] END n_estimators=500, num_leaves=240;, score=-1550.275 total time=   4.8s\n",
      "[LightGBM] [Info] Auto-choosing row-wise multi-threading, the overhead of testing was 0.002970 seconds.\n",
      "You can set `force_row_wise=true` to remove the overhead.\n",
      "And if memory is not enough, you can set `force_col_wise=true`.\n",
      "[LightGBM] [Info] Total Bins 515\n",
      "[LightGBM] [Info] Number of data points in the train set: 118324, number of used features: 8\n",
      "[LightGBM] [Info] Start training from score 5050.109192\n",
      "[CV 1/3] END n_estimators=500, num_leaves=260;, score=-1540.712 total time=   4.3s\n",
      "[LightGBM] [Info] Auto-choosing row-wise multi-threading, the overhead of testing was 0.003459 seconds.\n",
      "You can set `force_row_wise=true` to remove the overhead.\n",
      "And if memory is not enough, you can set `force_col_wise=true`.\n",
      "[LightGBM] [Info] Total Bins 518\n",
      "[LightGBM] [Info] Number of data points in the train set: 118324, number of used features: 8\n",
      "[LightGBM] [Info] Start training from score 5060.723818\n",
      "[CV 2/3] END n_estimators=500, num_leaves=260;, score=-1546.102 total time=   4.4s\n",
      "[LightGBM] [Info] Auto-choosing row-wise multi-threading, the overhead of testing was 0.002633 seconds.\n",
      "You can set `force_row_wise=true` to remove the overhead.\n",
      "And if memory is not enough, you can set `force_col_wise=true`.\n",
      "[LightGBM] [Info] Total Bins 516\n",
      "[LightGBM] [Info] Number of data points in the train set: 118324, number of used features: 8\n",
      "[LightGBM] [Info] Start training from score 5053.982193\n",
      "[CV 3/3] END n_estimators=500, num_leaves=260;, score=-1556.132 total time=   5.1s\n",
      "[LightGBM] [Info] Auto-choosing row-wise multi-threading, the overhead of testing was 0.002643 seconds.\n",
      "You can set `force_row_wise=true` to remove the overhead.\n",
      "And if memory is not enough, you can set `force_col_wise=true`.\n",
      "[LightGBM] [Info] Total Bins 515\n",
      "[LightGBM] [Info] Number of data points in the train set: 118324, number of used features: 8\n",
      "[LightGBM] [Info] Start training from score 5050.109192\n",
      "[CV 1/3] END n_estimators=500, num_leaves=280;, score=-1537.865 total time=   4.5s\n",
      "[LightGBM] [Info] Auto-choosing row-wise multi-threading, the overhead of testing was 0.003534 seconds.\n",
      "You can set `force_row_wise=true` to remove the overhead.\n",
      "And if memory is not enough, you can set `force_col_wise=true`.\n",
      "[LightGBM] [Info] Total Bins 518\n",
      "[LightGBM] [Info] Number of data points in the train set: 118324, number of used features: 8\n",
      "[LightGBM] [Info] Start training from score 5060.723818\n",
      "[CV 2/3] END n_estimators=500, num_leaves=280;, score=-1551.057 total time=   4.6s\n",
      "[LightGBM] [Info] Auto-choosing row-wise multi-threading, the overhead of testing was 0.002798 seconds.\n",
      "You can set `force_row_wise=true` to remove the overhead.\n",
      "And if memory is not enough, you can set `force_col_wise=true`.\n",
      "[LightGBM] [Info] Total Bins 516\n",
      "[LightGBM] [Info] Number of data points in the train set: 118324, number of used features: 8\n",
      "[LightGBM] [Info] Start training from score 5053.982193\n",
      "[CV 3/3] END n_estimators=500, num_leaves=280;, score=-1556.506 total time=   4.9s\n",
      "[LightGBM] [Info] Auto-choosing row-wise multi-threading, the overhead of testing was 0.003942 seconds.\n",
      "You can set `force_row_wise=true` to remove the overhead.\n",
      "And if memory is not enough, you can set `force_col_wise=true`.\n",
      "[LightGBM] [Info] Total Bins 515\n",
      "[LightGBM] [Info] Number of data points in the train set: 118324, number of used features: 8\n",
      "[LightGBM] [Info] Start training from score 5050.109192\n",
      "[CV 1/3] END n_estimators=1000, num_leaves=20;, score=-1534.912 total time=   2.7s\n",
      "[LightGBM] [Info] Auto-choosing row-wise multi-threading, the overhead of testing was 0.002627 seconds.\n",
      "You can set `force_row_wise=true` to remove the overhead.\n",
      "And if memory is not enough, you can set `force_col_wise=true`.\n",
      "[LightGBM] [Info] Total Bins 518\n",
      "[LightGBM] [Info] Number of data points in the train set: 118324, number of used features: 8\n",
      "[LightGBM] [Info] Start training from score 5060.723818\n",
      "[CV 2/3] END n_estimators=1000, num_leaves=20;, score=-1544.223 total time=   2.1s\n",
      "[LightGBM] [Info] Auto-choosing row-wise multi-threading, the overhead of testing was 0.002581 seconds.\n",
      "You can set `force_row_wise=true` to remove the overhead.\n",
      "And if memory is not enough, you can set `force_col_wise=true`.\n",
      "[LightGBM] [Info] Total Bins 516\n",
      "[LightGBM] [Info] Number of data points in the train set: 118324, number of used features: 8\n",
      "[LightGBM] [Info] Start training from score 5053.982193\n",
      "[CV 3/3] END n_estimators=1000, num_leaves=20;, score=-1552.699 total time=   2.1s\n",
      "[LightGBM] [Info] Auto-choosing row-wise multi-threading, the overhead of testing was 0.002607 seconds.\n",
      "You can set `force_row_wise=true` to remove the overhead.\n",
      "And if memory is not enough, you can set `force_col_wise=true`.\n",
      "[LightGBM] [Info] Total Bins 515\n",
      "[LightGBM] [Info] Number of data points in the train set: 118324, number of used features: 8\n",
      "[LightGBM] [Info] Start training from score 5050.109192\n",
      "[CV 1/3] END n_estimators=1000, num_leaves=40;, score=-1529.454 total time=   2.6s\n",
      "[LightGBM] [Info] Auto-choosing row-wise multi-threading, the overhead of testing was 0.002582 seconds.\n",
      "You can set `force_row_wise=true` to remove the overhead.\n",
      "And if memory is not enough, you can set `force_col_wise=true`.\n",
      "[LightGBM] [Info] Total Bins 518\n",
      "[LightGBM] [Info] Number of data points in the train set: 118324, number of used features: 8\n",
      "[LightGBM] [Info] Start training from score 5060.723818\n",
      "[CV 2/3] END n_estimators=1000, num_leaves=40;, score=-1538.557 total time=   3.6s\n",
      "[LightGBM] [Info] Auto-choosing row-wise multi-threading, the overhead of testing was 0.002919 seconds.\n",
      "You can set `force_row_wise=true` to remove the overhead.\n",
      "And if memory is not enough, you can set `force_col_wise=true`.\n",
      "[LightGBM] [Info] Total Bins 516\n",
      "[LightGBM] [Info] Number of data points in the train set: 118324, number of used features: 8\n",
      "[LightGBM] [Info] Start training from score 5053.982193\n",
      "[CV 3/3] END n_estimators=1000, num_leaves=40;, score=-1543.805 total time=   3.7s\n",
      "[LightGBM] [Info] Auto-choosing row-wise multi-threading, the overhead of testing was 0.002544 seconds.\n",
      "You can set `force_row_wise=true` to remove the overhead.\n",
      "And if memory is not enough, you can set `force_col_wise=true`.\n",
      "[LightGBM] [Info] Total Bins 515\n",
      "[LightGBM] [Info] Number of data points in the train set: 118324, number of used features: 8\n",
      "[LightGBM] [Info] Start training from score 5050.109192\n",
      "[CV 1/3] END n_estimators=1000, num_leaves=60;, score=-1528.156 total time=   3.1s\n",
      "[LightGBM] [Info] Auto-choosing row-wise multi-threading, the overhead of testing was 0.002554 seconds.\n",
      "You can set `force_row_wise=true` to remove the overhead.\n",
      "And if memory is not enough, you can set `force_col_wise=true`.\n",
      "[LightGBM] [Info] Total Bins 518\n",
      "[LightGBM] [Info] Number of data points in the train set: 118324, number of used features: 8\n",
      "[LightGBM] [Info] Start training from score 5060.723818\n",
      "[CV 2/3] END n_estimators=1000, num_leaves=60;, score=-1536.377 total time=   3.3s\n",
      "[LightGBM] [Info] Auto-choosing row-wise multi-threading, the overhead of testing was 0.002805 seconds.\n",
      "You can set `force_row_wise=true` to remove the overhead.\n",
      "And if memory is not enough, you can set `force_col_wise=true`.\n",
      "[LightGBM] [Info] Total Bins 516\n",
      "[LightGBM] [Info] Number of data points in the train set: 118324, number of used features: 8\n",
      "[LightGBM] [Info] Start training from score 5053.982193\n",
      "[CV 3/3] END n_estimators=1000, num_leaves=60;, score=-1546.149 total time=   3.2s\n",
      "[LightGBM] [Info] Auto-choosing row-wise multi-threading, the overhead of testing was 0.003196 seconds.\n",
      "You can set `force_row_wise=true` to remove the overhead.\n",
      "And if memory is not enough, you can set `force_col_wise=true`.\n",
      "[LightGBM] [Info] Total Bins 515\n",
      "[LightGBM] [Info] Number of data points in the train set: 118324, number of used features: 8\n",
      "[LightGBM] [Info] Start training from score 5050.109192\n",
      "[CV 1/3] END n_estimators=1000, num_leaves=80;, score=-1530.598 total time=   3.8s\n",
      "[LightGBM] [Info] Auto-choosing row-wise multi-threading, the overhead of testing was 0.003577 seconds.\n",
      "You can set `force_row_wise=true` to remove the overhead.\n",
      "And if memory is not enough, you can set `force_col_wise=true`.\n",
      "[LightGBM] [Info] Total Bins 518\n",
      "[LightGBM] [Info] Number of data points in the train set: 118324, number of used features: 8\n",
      "[LightGBM] [Info] Start training from score 5060.723818\n",
      "[CV 2/3] END n_estimators=1000, num_leaves=80;, score=-1543.418 total time=   4.4s\n",
      "[LightGBM] [Info] Auto-choosing row-wise multi-threading, the overhead of testing was 0.003798 seconds.\n",
      "You can set `force_row_wise=true` to remove the overhead.\n",
      "And if memory is not enough, you can set `force_col_wise=true`.\n",
      "[LightGBM] [Info] Total Bins 516\n",
      "[LightGBM] [Info] Number of data points in the train set: 118324, number of used features: 8\n",
      "[LightGBM] [Info] Start training from score 5053.982193\n",
      "[CV 3/3] END n_estimators=1000, num_leaves=80;, score=-1546.469 total time=   3.8s\n",
      "[LightGBM] [Info] Auto-choosing row-wise multi-threading, the overhead of testing was 0.003498 seconds.\n",
      "You can set `force_row_wise=true` to remove the overhead.\n",
      "And if memory is not enough, you can set `force_col_wise=true`.\n",
      "[LightGBM] [Info] Total Bins 515\n",
      "[LightGBM] [Info] Number of data points in the train set: 118324, number of used features: 8\n",
      "[LightGBM] [Info] Start training from score 5050.109192\n",
      "[CV 1/3] END n_estimators=1000, num_leaves=100;, score=-1531.779 total time=   4.5s\n",
      "[LightGBM] [Info] Auto-choosing row-wise multi-threading, the overhead of testing was 0.002721 seconds.\n",
      "You can set `force_row_wise=true` to remove the overhead.\n",
      "And if memory is not enough, you can set `force_col_wise=true`.\n",
      "[LightGBM] [Info] Total Bins 518\n",
      "[LightGBM] [Info] Number of data points in the train set: 118324, number of used features: 8\n",
      "[LightGBM] [Info] Start training from score 5060.723818\n",
      "[CV 2/3] END n_estimators=1000, num_leaves=100;, score=-1542.688 total time=   5.1s\n",
      "[LightGBM] [Info] Auto-choosing col-wise multi-threading, the overhead of testing was 0.011047 seconds.\n",
      "You can set `force_col_wise=true` to remove the overhead.\n",
      "[LightGBM] [Info] Total Bins 516\n",
      "[LightGBM] [Info] Number of data points in the train set: 118324, number of used features: 8\n",
      "[LightGBM] [Info] Start training from score 5053.982193\n",
      "[CV 3/3] END n_estimators=1000, num_leaves=100;, score=-1550.044 total time=   4.6s\n",
      "[LightGBM] [Info] Auto-choosing row-wise multi-threading, the overhead of testing was 0.003207 seconds.\n",
      "You can set `force_row_wise=true` to remove the overhead.\n",
      "And if memory is not enough, you can set `force_col_wise=true`.\n",
      "[LightGBM] [Info] Total Bins 515\n",
      "[LightGBM] [Info] Number of data points in the train set: 118324, number of used features: 8\n",
      "[LightGBM] [Info] Start training from score 5050.109192\n",
      "[CV 1/3] END n_estimators=1000, num_leaves=120;, score=-1539.907 total time=   4.9s\n",
      "[LightGBM] [Info] Auto-choosing row-wise multi-threading, the overhead of testing was 0.002861 seconds.\n",
      "You can set `force_row_wise=true` to remove the overhead.\n",
      "And if memory is not enough, you can set `force_col_wise=true`.\n",
      "[LightGBM] [Info] Total Bins 518\n",
      "[LightGBM] [Info] Number of data points in the train set: 118324, number of used features: 8\n",
      "[LightGBM] [Info] Start training from score 5060.723818\n",
      "[CV 2/3] END n_estimators=1000, num_leaves=120;, score=-1549.709 total time=   5.0s\n",
      "[LightGBM] [Info] Auto-choosing row-wise multi-threading, the overhead of testing was 0.003496 seconds.\n",
      "You can set `force_row_wise=true` to remove the overhead.\n",
      "And if memory is not enough, you can set `force_col_wise=true`.\n",
      "[LightGBM] [Info] Total Bins 516\n",
      "[LightGBM] [Info] Number of data points in the train set: 118324, number of used features: 8\n",
      "[LightGBM] [Info] Start training from score 5053.982193\n",
      "[CV 3/3] END n_estimators=1000, num_leaves=120;, score=-1550.975 total time=   5.2s\n",
      "[LightGBM] [Info] Auto-choosing row-wise multi-threading, the overhead of testing was 0.002950 seconds.\n",
      "You can set `force_row_wise=true` to remove the overhead.\n",
      "And if memory is not enough, you can set `force_col_wise=true`.\n",
      "[LightGBM] [Info] Total Bins 515\n",
      "[LightGBM] [Info] Number of data points in the train set: 118324, number of used features: 8\n",
      "[LightGBM] [Info] Start training from score 5050.109192\n",
      "[CV 1/3] END n_estimators=1000, num_leaves=140;, score=-1540.532 total time=   5.4s\n",
      "[LightGBM] [Info] Auto-choosing row-wise multi-threading, the overhead of testing was 0.003931 seconds.\n",
      "You can set `force_row_wise=true` to remove the overhead.\n",
      "And if memory is not enough, you can set `force_col_wise=true`.\n",
      "[LightGBM] [Info] Total Bins 518\n",
      "[LightGBM] [Info] Number of data points in the train set: 118324, number of used features: 8\n",
      "[LightGBM] [Info] Start training from score 5060.723818\n",
      "[CV 2/3] END n_estimators=1000, num_leaves=140;, score=-1552.577 total time=   5.7s\n",
      "[LightGBM] [Info] Auto-choosing row-wise multi-threading, the overhead of testing was 0.003577 seconds.\n",
      "You can set `force_row_wise=true` to remove the overhead.\n",
      "And if memory is not enough, you can set `force_col_wise=true`.\n",
      "[LightGBM] [Info] Total Bins 516\n",
      "[LightGBM] [Info] Number of data points in the train set: 118324, number of used features: 8\n",
      "[LightGBM] [Info] Start training from score 5053.982193\n",
      "[CV 3/3] END n_estimators=1000, num_leaves=140;, score=-1556.745 total time=   5.6s\n",
      "[LightGBM] [Info] Auto-choosing row-wise multi-threading, the overhead of testing was 0.003351 seconds.\n",
      "You can set `force_row_wise=true` to remove the overhead.\n",
      "And if memory is not enough, you can set `force_col_wise=true`.\n",
      "[LightGBM] [Info] Total Bins 515\n",
      "[LightGBM] [Info] Number of data points in the train set: 118324, number of used features: 8\n",
      "[LightGBM] [Info] Start training from score 5050.109192\n",
      "[CV 1/3] END n_estimators=1000, num_leaves=160;, score=-1544.270 total time=   6.2s\n",
      "[LightGBM] [Info] Auto-choosing row-wise multi-threading, the overhead of testing was 0.003350 seconds.\n",
      "You can set `force_row_wise=true` to remove the overhead.\n",
      "And if memory is not enough, you can set `force_col_wise=true`.\n",
      "[LightGBM] [Info] Total Bins 518\n",
      "[LightGBM] [Info] Number of data points in the train set: 118324, number of used features: 8\n",
      "[LightGBM] [Info] Start training from score 5060.723818\n",
      "[CV 2/3] END n_estimators=1000, num_leaves=160;, score=-1550.878 total time=   6.6s\n",
      "[LightGBM] [Info] Auto-choosing row-wise multi-threading, the overhead of testing was 0.002816 seconds.\n",
      "You can set `force_row_wise=true` to remove the overhead.\n",
      "And if memory is not enough, you can set `force_col_wise=true`.\n",
      "[LightGBM] [Info] Total Bins 516\n",
      "[LightGBM] [Info] Number of data points in the train set: 118324, number of used features: 8\n",
      "[LightGBM] [Info] Start training from score 5053.982193\n",
      "[CV 3/3] END n_estimators=1000, num_leaves=160;, score=-1560.957 total time=   5.8s\n",
      "[LightGBM] [Info] Auto-choosing row-wise multi-threading, the overhead of testing was 0.002682 seconds.\n",
      "You can set `force_row_wise=true` to remove the overhead.\n",
      "And if memory is not enough, you can set `force_col_wise=true`.\n",
      "[LightGBM] [Info] Total Bins 515\n",
      "[LightGBM] [Info] Number of data points in the train set: 118324, number of used features: 8\n",
      "[LightGBM] [Info] Start training from score 5050.109192\n",
      "[CV 1/3] END n_estimators=1000, num_leaves=180;, score=-1550.197 total time=   6.4s\n",
      "[LightGBM] [Info] Auto-choosing row-wise multi-threading, the overhead of testing was 0.003847 seconds.\n",
      "You can set `force_row_wise=true` to remove the overhead.\n",
      "And if memory is not enough, you can set `force_col_wise=true`.\n",
      "[LightGBM] [Info] Total Bins 518\n",
      "[LightGBM] [Info] Number of data points in the train set: 118324, number of used features: 8\n",
      "[LightGBM] [Info] Start training from score 5060.723818\n",
      "[CV 2/3] END n_estimators=1000, num_leaves=180;, score=-1555.041 total time=   6.8s\n",
      "[LightGBM] [Info] Auto-choosing row-wise multi-threading, the overhead of testing was 0.003562 seconds.\n",
      "You can set `force_row_wise=true` to remove the overhead.\n",
      "And if memory is not enough, you can set `force_col_wise=true`.\n",
      "[LightGBM] [Info] Total Bins 516\n",
      "[LightGBM] [Info] Number of data points in the train set: 118324, number of used features: 8\n",
      "[LightGBM] [Info] Start training from score 5053.982193\n",
      "[CV 3/3] END n_estimators=1000, num_leaves=180;, score=-1565.157 total time=   6.3s\n",
      "[LightGBM] [Info] Auto-choosing row-wise multi-threading, the overhead of testing was 0.002872 seconds.\n",
      "You can set `force_row_wise=true` to remove the overhead.\n",
      "And if memory is not enough, you can set `force_col_wise=true`.\n",
      "[LightGBM] [Info] Total Bins 515\n",
      "[LightGBM] [Info] Number of data points in the train set: 118324, number of used features: 8\n",
      "[LightGBM] [Info] Start training from score 5050.109192\n",
      "[CV 1/3] END n_estimators=1000, num_leaves=200;, score=-1551.444 total time=   7.5s\n",
      "[LightGBM] [Info] Auto-choosing row-wise multi-threading, the overhead of testing was 0.003447 seconds.\n",
      "You can set `force_row_wise=true` to remove the overhead.\n",
      "And if memory is not enough, you can set `force_col_wise=true`.\n",
      "[LightGBM] [Info] Total Bins 518\n",
      "[LightGBM] [Info] Number of data points in the train set: 118324, number of used features: 8\n",
      "[LightGBM] [Info] Start training from score 5060.723818\n",
      "[CV 2/3] END n_estimators=1000, num_leaves=200;, score=-1558.936 total time=   6.8s\n",
      "[LightGBM] [Info] Auto-choosing row-wise multi-threading, the overhead of testing was 0.002575 seconds.\n",
      "You can set `force_row_wise=true` to remove the overhead.\n",
      "And if memory is not enough, you can set `force_col_wise=true`.\n",
      "[LightGBM] [Info] Total Bins 516\n",
      "[LightGBM] [Info] Number of data points in the train set: 118324, number of used features: 8\n",
      "[LightGBM] [Info] Start training from score 5053.982193\n",
      "[CV 3/3] END n_estimators=1000, num_leaves=200;, score=-1567.119 total time=   7.5s\n",
      "[LightGBM] [Info] Auto-choosing row-wise multi-threading, the overhead of testing was 0.003074 seconds.\n",
      "You can set `force_row_wise=true` to remove the overhead.\n",
      "And if memory is not enough, you can set `force_col_wise=true`.\n",
      "[LightGBM] [Info] Total Bins 515\n",
      "[LightGBM] [Info] Number of data points in the train set: 118324, number of used features: 8\n",
      "[LightGBM] [Info] Start training from score 5050.109192\n",
      "[CV 1/3] END n_estimators=1000, num_leaves=220;, score=-1552.804 total time=   7.2s\n",
      "[LightGBM] [Info] Auto-choosing row-wise multi-threading, the overhead of testing was 0.003041 seconds.\n",
      "You can set `force_row_wise=true` to remove the overhead.\n",
      "And if memory is not enough, you can set `force_col_wise=true`.\n",
      "[LightGBM] [Info] Total Bins 518\n",
      "[LightGBM] [Info] Number of data points in the train set: 118324, number of used features: 8\n",
      "[LightGBM] [Info] Start training from score 5060.723818\n",
      "[CV 2/3] END n_estimators=1000, num_leaves=220;, score=-1566.594 total time=   8.2s\n",
      "[LightGBM] [Info] Auto-choosing row-wise multi-threading, the overhead of testing was 0.002663 seconds.\n",
      "You can set `force_row_wise=true` to remove the overhead.\n",
      "And if memory is not enough, you can set `force_col_wise=true`.\n",
      "[LightGBM] [Info] Total Bins 516\n",
      "[LightGBM] [Info] Number of data points in the train set: 118324, number of used features: 8\n",
      "[LightGBM] [Info] Start training from score 5053.982193\n",
      "[CV 3/3] END n_estimators=1000, num_leaves=220;, score=-1570.526 total time=   7.5s\n",
      "[LightGBM] [Info] Auto-choosing row-wise multi-threading, the overhead of testing was 0.003044 seconds.\n",
      "You can set `force_row_wise=true` to remove the overhead.\n",
      "And if memory is not enough, you can set `force_col_wise=true`.\n",
      "[LightGBM] [Info] Total Bins 515\n",
      "[LightGBM] [Info] Number of data points in the train set: 118324, number of used features: 8\n",
      "[LightGBM] [Info] Start training from score 5050.109192\n",
      "[CV 1/3] END n_estimators=1000, num_leaves=240;, score=-1555.837 total time=   8.7s\n",
      "[LightGBM] [Info] Auto-choosing row-wise multi-threading, the overhead of testing was 0.003635 seconds.\n",
      "You can set `force_row_wise=true` to remove the overhead.\n",
      "And if memory is not enough, you can set `force_col_wise=true`.\n",
      "[LightGBM] [Info] Total Bins 518\n",
      "[LightGBM] [Info] Number of data points in the train set: 118324, number of used features: 8\n",
      "[LightGBM] [Info] Start training from score 5060.723818\n",
      "[CV 2/3] END n_estimators=1000, num_leaves=240;, score=-1569.080 total time=   8.6s\n",
      "[LightGBM] [Info] Auto-choosing row-wise multi-threading, the overhead of testing was 0.002598 seconds.\n",
      "You can set `force_row_wise=true` to remove the overhead.\n",
      "And if memory is not enough, you can set `force_col_wise=true`.\n",
      "[LightGBM] [Info] Total Bins 516\n",
      "[LightGBM] [Info] Number of data points in the train set: 118324, number of used features: 8\n",
      "[LightGBM] [Info] Start training from score 5053.982193\n",
      "[CV 3/3] END n_estimators=1000, num_leaves=240;, score=-1566.796 total time=   8.7s\n",
      "[LightGBM] [Info] Auto-choosing row-wise multi-threading, the overhead of testing was 0.002543 seconds.\n",
      "You can set `force_row_wise=true` to remove the overhead.\n",
      "And if memory is not enough, you can set `force_col_wise=true`.\n",
      "[LightGBM] [Info] Total Bins 515\n",
      "[LightGBM] [Info] Number of data points in the train set: 118324, number of used features: 8\n",
      "[LightGBM] [Info] Start training from score 5050.109192\n",
      "[CV 1/3] END n_estimators=1000, num_leaves=260;, score=-1563.396 total time=   8.5s\n",
      "[LightGBM] [Info] Auto-choosing row-wise multi-threading, the overhead of testing was 0.003681 seconds.\n",
      "You can set `force_row_wise=true` to remove the overhead.\n",
      "And if memory is not enough, you can set `force_col_wise=true`.\n",
      "[LightGBM] [Info] Total Bins 518\n",
      "[LightGBM] [Info] Number of data points in the train set: 118324, number of used features: 8\n",
      "[LightGBM] [Info] Start training from score 5060.723818\n",
      "[CV 2/3] END n_estimators=1000, num_leaves=260;, score=-1567.526 total time=   9.4s\n",
      "[LightGBM] [Info] Auto-choosing row-wise multi-threading, the overhead of testing was 0.002587 seconds.\n",
      "You can set `force_row_wise=true` to remove the overhead.\n",
      "And if memory is not enough, you can set `force_col_wise=true`.\n",
      "[LightGBM] [Info] Total Bins 516\n",
      "[LightGBM] [Info] Number of data points in the train set: 118324, number of used features: 8\n",
      "[LightGBM] [Info] Start training from score 5053.982193\n",
      "[CV 3/3] END n_estimators=1000, num_leaves=260;, score=-1574.545 total time=   9.1s\n",
      "[LightGBM] [Info] Auto-choosing row-wise multi-threading, the overhead of testing was 0.003483 seconds.\n",
      "You can set `force_row_wise=true` to remove the overhead.\n",
      "And if memory is not enough, you can set `force_col_wise=true`.\n",
      "[LightGBM] [Info] Total Bins 515\n",
      "[LightGBM] [Info] Number of data points in the train set: 118324, number of used features: 8\n",
      "[LightGBM] [Info] Start training from score 5050.109192\n",
      "[CV 1/3] END n_estimators=1000, num_leaves=280;, score=-1561.268 total time=   9.7s\n",
      "[LightGBM] [Info] Auto-choosing row-wise multi-threading, the overhead of testing was 0.002748 seconds.\n",
      "You can set `force_row_wise=true` to remove the overhead.\n",
      "And if memory is not enough, you can set `force_col_wise=true`.\n",
      "[LightGBM] [Info] Total Bins 518\n",
      "[LightGBM] [Info] Number of data points in the train set: 118324, number of used features: 8\n",
      "[LightGBM] [Info] Start training from score 5060.723818\n",
      "[CV 2/3] END n_estimators=1000, num_leaves=280;, score=-1572.200 total time=  10.0s\n",
      "[LightGBM] [Info] Auto-choosing row-wise multi-threading, the overhead of testing was 0.002673 seconds.\n",
      "You can set `force_row_wise=true` to remove the overhead.\n",
      "And if memory is not enough, you can set `force_col_wise=true`.\n",
      "[LightGBM] [Info] Total Bins 516\n",
      "[LightGBM] [Info] Number of data points in the train set: 118324, number of used features: 8\n",
      "[LightGBM] [Info] Start training from score 5053.982193\n",
      "[CV 3/3] END n_estimators=1000, num_leaves=280;, score=-1577.251 total time=   9.9s\n",
      "[LightGBM] [Info] Auto-choosing row-wise multi-threading, the overhead of testing was 0.003981 seconds.\n",
      "You can set `force_row_wise=true` to remove the overhead.\n",
      "And if memory is not enough, you can set `force_col_wise=true`.\n",
      "[LightGBM] [Info] Total Bins 519\n",
      "[LightGBM] [Info] Number of data points in the train set: 177486, number of used features: 8\n",
      "[LightGBM] [Info] Start training from score 5054.938401\n",
      "[LightGBM] [Info] Auto-choosing row-wise multi-threading, the overhead of testing was 0.003867 seconds.\n",
      "You can set `force_row_wise=true` to remove the overhead.\n",
      "And if memory is not enough, you can set `force_col_wise=true`.\n",
      "[LightGBM] [Info] Total Bins 519\n",
      "[LightGBM] [Info] Number of data points in the train set: 177486, number of used features: 8\n",
      "[LightGBM] [Info] Start training from score 5054.938401\n"
     ]
    }
   ],
   "source": [
    "# Задаем параметры для поиска по сетке\n",
    "param_grid = {'n_estimators': [100, 500, 1000], 'num_leaves': [n for n in range(20, 300, 20)]}\n",
    "\n",
    "model = lgb.LGBMRegressor(random_state=12345)\n",
    "\n",
    "gs = GridSearchCV(estimator=model,\n",
    "                          param_grid=param_grid,\n",
    "                          scoring='neg_root_mean_squared_error',\n",
    "                          cv=3,\n",
    "                          verbose=3)\n",
    "\n",
    "# Обучаем с помощью кросс-валидации\n",
    "gs.fit(X_lgb_train, y_lgb_train)\n",
    "\n",
    "# Получаем лучшие гиперпараметры\n",
    "best_params_lg = gs.best_params_\n",
    "\n",
    "# Создаем новую модель с лучшими гиперпараметрами\n",
    "best_model_lg = LGBMRegressor(**best_params_lg)\n",
    "\n",
    "start_fit_time = time.time()\n",
    "# Обучаем модель на всем обучающем наборе данных\n",
    "best_model_lg.fit(X_lgb_train, y_lgb_train)\n",
    "fit_time_lg = time.time() - start_fit_time"
   ]
  },
  {
   "cell_type": "code",
   "execution_count": 58,
   "metadata": {},
   "outputs": [],
   "source": [
    "start_predict_time = time.time()\n",
    "predictions_lg = best_model_lg.predict(X_lgb_train)\n",
    "predict_time_lg = time.time() - start_predict_time"
   ]
  },
  {
   "cell_type": "code",
   "execution_count": 59,
   "metadata": {},
   "outputs": [
    {
     "name": "stdout",
     "output_type": "stream",
     "text": [
      "[LightGBM] [Info] Auto-choosing row-wise multi-threading, the overhead of testing was 0.003879 seconds.\n",
      "You can set `force_row_wise=true` to remove the overhead.\n",
      "And if memory is not enough, you can set `force_col_wise=true`.\n",
      "[LightGBM] [Info] Total Bins 515\n",
      "[LightGBM] [Info] Number of data points in the train set: 118324, number of used features: 8\n",
      "[LightGBM] [Info] Start training from score 5050.109192\n",
      "[LightGBM] [Info] Auto-choosing row-wise multi-threading, the overhead of testing was 0.002612 seconds.\n",
      "You can set `force_row_wise=true` to remove the overhead.\n",
      "And if memory is not enough, you can set `force_col_wise=true`.\n",
      "[LightGBM] [Info] Total Bins 518\n",
      "[LightGBM] [Info] Number of data points in the train set: 118324, number of used features: 8\n",
      "[LightGBM] [Info] Start training from score 5060.723818\n",
      "[LightGBM] [Info] Auto-choosing row-wise multi-threading, the overhead of testing was 0.002717 seconds.\n",
      "You can set `force_row_wise=true` to remove the overhead.\n",
      "And if memory is not enough, you can set `force_col_wise=true`.\n",
      "[LightGBM] [Info] Total Bins 516\n",
      "[LightGBM] [Info] Number of data points in the train set: 118324, number of used features: 8\n",
      "[LightGBM] [Info] Start training from score 5053.982193\n",
      "Лучшие гиперпараметры модели LGBMRegressor:  {'n_estimators': 500, 'num_leaves': 100}\n",
      "RMSE LGBMRegressor (кросс-валидация): 1534.97\n"
     ]
    }
   ],
   "source": [
    "# Оценка RMSE с кросс-валидацией\n",
    "cv_rmse_lg = cross_val_score(best_model_lg, X_lgb_train, y_lgb_train, scoring='neg_mean_squared_error', cv=3)\n",
    "rmse_lg = np.sqrt(-cv_rmse_lg)\n",
    "\n",
    "print(\"Лучшие гиперпараметры модели LGBMRegressor: \", best_params_lg)\n",
    "print(\"RMSE LGBMRegressor (кросс-валидация): %.2f\" % rmse_lg.mean())"
   ]
  },
  {
   "cell_type": "markdown",
   "metadata": {},
   "source": [
    "Значение метрики меньше 2500"
   ]
  },
  {
   "cell_type": "markdown",
   "metadata": {},
   "source": [
    "Итак модели обучены и получен следующий результат) \n",
    "- Лучшие гиперпараметры модели LinearRegression:  {'copy_X': True, 'fit_intercept': True, 'n_jobs': 1}, RMSE = 2384.03\n",
    "- Лучшие гиперпараметры модели LGBMRegressor:  {'n_estimators': 500, 'num_leaves': 100}, RMSE = 1534.97"
   ]
  },
  {
   "cell_type": "markdown",
   "metadata": {},
   "source": [
    "## Анализ моделей"
   ]
  },
  {
   "cell_type": "code",
   "execution_count": 61,
   "metadata": {},
   "outputs": [
    {
     "data": {
      "text/html": [
       "<div>\n",
       "<style scoped>\n",
       "    .dataframe tbody tr th:only-of-type {\n",
       "        vertical-align: middle;\n",
       "    }\n",
       "\n",
       "    .dataframe tbody tr th {\n",
       "        vertical-align: top;\n",
       "    }\n",
       "\n",
       "    .dataframe thead th {\n",
       "        text-align: right;\n",
       "    }\n",
       "</style>\n",
       "<table border=\"1\" class=\"dataframe\">\n",
       "  <thead>\n",
       "    <tr style=\"text-align: right;\">\n",
       "      <th></th>\n",
       "      <th>Model</th>\n",
       "      <th>Время обучения(с)</th>\n",
       "      <th>Время предсказания (с)</th>\n",
       "      <th>RMSE (кросс-валидация)</th>\n",
       "    </tr>\n",
       "  </thead>\n",
       "  <tbody>\n",
       "    <tr>\n",
       "      <th>0</th>\n",
       "      <td>Linear Regression</td>\n",
       "      <td>3.525436</td>\n",
       "      <td>0.181791</td>\n",
       "      <td>2384.029411</td>\n",
       "    </tr>\n",
       "    <tr>\n",
       "      <th>1</th>\n",
       "      <td>LightGBM</td>\n",
       "      <td>2.094735</td>\n",
       "      <td>2.191136</td>\n",
       "      <td>1534.966424</td>\n",
       "    </tr>\n",
       "  </tbody>\n",
       "</table>\n",
       "</div>"
      ],
      "text/plain": [
       "               Model  Время обучения(с)  Время предсказания (с)  \\\n",
       "0  Linear Regression           3.525436                0.181791   \n",
       "1           LightGBM           2.094735                2.191136   \n",
       "\n",
       "   RMSE (кросс-валидация)  \n",
       "0             2384.029411  \n",
       "1             1534.966424  "
      ]
     },
     "metadata": {},
     "output_type": "display_data"
    }
   ],
   "source": [
    "results = pd.DataFrame({'Model': ['Linear Regression', 'LightGBM'], 'Время обучения(с)': [fit_time_lr, fit_time_lg], 'Время предсказания (с)': [predict_time_lr, predict_time_lg], 'RMSE (кросс-валидация)': [rmse_lr.mean(), rmse_lg.mean()]})\n",
    "display(results)"
   ]
  },
  {
   "cell_type": "markdown",
   "metadata": {},
   "source": [
    " Был проведен анализ и выявлено - лучшей из обученных моделей для рекомендации ее заказчику становиться модель  LGBMRegressor: {'n_estimators': 500, 'num_leaves': 100}. Проверим ее на тестовой выборке)"
   ]
  },
  {
   "cell_type": "code",
   "execution_count": 62,
   "metadata": {},
   "outputs": [
    {
     "name": "stdout",
     "output_type": "stream",
     "text": [
      "RMSE LGBMRegressor на тестовой выборке: 1511.55\n"
     ]
    }
   ],
   "source": [
    "# RMSE LightGBM на тестовой выборке\n",
    "rmse_test = mean_squared_error(y_lgb_test, best_model_lg.predict(X_lgb_test), squared=False)\n",
    "print(\"RMSE LGBMRegressor на тестовой выборке: %.2f\" % rmse_test)"
   ]
  },
  {
   "cell_type": "markdown",
   "metadata": {},
   "source": [
    "Идеально превосходно прекрасно стильно модно молодежно, метрика на тестовой выборке меньше 2500, и по времени она все делает быстро, значит ее можно рекомендовать заказчику для дальнейшей работы с ней)"
   ]
  },
  {
   "cell_type": "markdown",
   "metadata": {},
   "source": [
    "## Общий вывод"
   ]
  },
  {
   "cell_type": "markdown",
   "metadata": {},
   "source": [
    "Для решения поставленной задачи по разработке модели для определения рыночной стоимости автомобиля была проделана работа:\n",
    "\n",
    "1) Выгружены данные, данные изучены, заполнены пропущенные значения и обработаны аномалии в столбцах, удалены неинформативные признаки, подготовлены выборки для обучения моделей.\n",
    "\n",
    "2) Обучены модели LinReg и LGBMRegressor\n",
    "\n",
    "3) Проведен анализ и выявлен фаворит исходя из запросов заказчика: LGBMRegressor: {'n_estimators': 500, 'num_leaves': 100} -  лучшая модель так как ее rmse и на тестовой выборке и на тренирововчной намного 2500 и намного меньше чем у LinReg), также эта модель довольно быстрая и ее время обучения и предсказания не превышает 5 секунд). И так как для заказчика важны эти 3 критерия(качество предсказания; время обучения модели; время предсказания модели), то данную модель совершенно точно можно рекомендовать без всяких опасений)"
   ]
  }
 ],
 "metadata": {
  "ExecuteTimeLog": [
   {
    "duration": 47,
    "start_time": "2024-09-08T12:27:51.165Z"
   },
   {
    "duration": 1564,
    "start_time": "2024-09-08T12:27:57.582Z"
   },
   {
    "duration": 1178,
    "start_time": "2024-09-08T12:27:59.148Z"
   },
   {
    "duration": 4,
    "start_time": "2024-09-08T12:28:00.327Z"
   },
   {
    "duration": 895,
    "start_time": "2024-09-08T12:28:00.333Z"
   },
   {
    "duration": 6,
    "start_time": "2024-09-08T12:35:17.894Z"
   },
   {
    "duration": 6430,
    "start_time": "2024-09-08T12:36:15.427Z"
   },
   {
    "duration": 1217,
    "start_time": "2024-09-08T12:36:21.859Z"
   },
   {
    "duration": 929,
    "start_time": "2024-09-08T12:36:23.078Z"
   },
   {
    "duration": 4,
    "start_time": "2024-09-08T12:36:24.008Z"
   },
   {
    "duration": 865,
    "start_time": "2024-09-08T12:36:24.014Z"
   },
   {
    "duration": 5,
    "start_time": "2024-09-08T12:36:24.880Z"
   },
   {
    "duration": 2850,
    "start_time": "2024-09-08T12:36:36.729Z"
   },
   {
    "duration": 1202,
    "start_time": "2024-09-08T12:36:39.581Z"
   },
   {
    "duration": 882,
    "start_time": "2024-09-08T12:36:40.784Z"
   },
   {
    "duration": 4,
    "start_time": "2024-09-08T12:36:41.668Z"
   },
   {
    "duration": 907,
    "start_time": "2024-09-08T12:36:41.673Z"
   },
   {
    "duration": 5,
    "start_time": "2024-09-08T12:36:42.581Z"
   },
   {
    "duration": 2878,
    "start_time": "2024-09-08T12:48:57.217Z"
   },
   {
    "duration": 1186,
    "start_time": "2024-09-08T12:49:00.097Z"
   },
   {
    "duration": 882,
    "start_time": "2024-09-08T12:49:01.285Z"
   },
   {
    "duration": 4,
    "start_time": "2024-09-08T12:49:02.169Z"
   },
   {
    "duration": 931,
    "start_time": "2024-09-08T12:49:02.175Z"
   },
   {
    "duration": 6,
    "start_time": "2024-09-08T12:49:03.107Z"
   },
   {
    "duration": 3,
    "start_time": "2024-09-08T12:49:03.115Z"
   },
   {
    "duration": 3032,
    "start_time": "2024-09-08T13:03:34.416Z"
   },
   {
    "duration": 1347,
    "start_time": "2024-09-08T13:03:37.451Z"
   },
   {
    "duration": 938,
    "start_time": "2024-09-08T13:03:38.799Z"
   },
   {
    "duration": 4,
    "start_time": "2024-09-08T13:03:39.739Z"
   },
   {
    "duration": 994,
    "start_time": "2024-09-08T13:03:39.744Z"
   },
   {
    "duration": 14,
    "start_time": "2024-09-08T13:03:40.739Z"
   },
   {
    "duration": 129,
    "start_time": "2024-09-08T13:03:40.755Z"
   },
   {
    "duration": 75,
    "start_time": "2024-09-08T13:03:52.309Z"
   },
   {
    "duration": 112,
    "start_time": "2024-09-08T13:04:10.604Z"
   },
   {
    "duration": 3089,
    "start_time": "2024-09-08T13:18:31.485Z"
   },
   {
    "duration": 1316,
    "start_time": "2024-09-08T13:18:34.577Z"
   },
   {
    "duration": 921,
    "start_time": "2024-09-08T13:18:35.895Z"
   },
   {
    "duration": 4,
    "start_time": "2024-09-08T13:18:36.818Z"
   },
   {
    "duration": 937,
    "start_time": "2024-09-08T13:18:36.823Z"
   },
   {
    "duration": 7,
    "start_time": "2024-09-08T13:18:37.761Z"
   },
   {
    "duration": 5,
    "start_time": "2024-09-08T13:18:37.769Z"
   },
   {
    "duration": 75,
    "start_time": "2024-09-08T13:19:15.957Z"
   },
   {
    "duration": 2,
    "start_time": "2024-09-08T13:20:19.127Z"
   },
   {
    "duration": 38,
    "start_time": "2024-09-08T13:20:57.054Z"
   },
   {
    "duration": 144,
    "start_time": "2024-09-08T13:27:31.849Z"
   },
   {
    "duration": 384,
    "start_time": "2024-09-08T13:27:45.080Z"
   },
   {
    "duration": 3261,
    "start_time": "2024-09-08T13:29:25.766Z"
   },
   {
    "duration": 1373,
    "start_time": "2024-09-08T13:29:29.030Z"
   },
   {
    "duration": 980,
    "start_time": "2024-09-08T13:29:30.405Z"
   },
   {
    "duration": 4,
    "start_time": "2024-09-08T13:29:31.387Z"
   },
   {
    "duration": 994,
    "start_time": "2024-09-08T13:29:31.393Z"
   },
   {
    "duration": 7,
    "start_time": "2024-09-08T13:29:32.390Z"
   },
   {
    "duration": 410,
    "start_time": "2024-09-08T13:29:32.399Z"
   },
   {
    "duration": 142,
    "start_time": "2024-09-08T13:30:13.163Z"
   },
   {
    "duration": 3032,
    "start_time": "2024-09-08T13:30:36.459Z"
   },
   {
    "duration": 1294,
    "start_time": "2024-09-08T13:30:39.494Z"
   },
   {
    "duration": 924,
    "start_time": "2024-09-08T13:30:40.790Z"
   },
   {
    "duration": 4,
    "start_time": "2024-09-08T13:30:41.717Z"
   },
   {
    "duration": 954,
    "start_time": "2024-09-08T13:30:41.723Z"
   },
   {
    "duration": 6,
    "start_time": "2024-09-08T13:30:42.679Z"
   },
   {
    "duration": 187,
    "start_time": "2024-09-08T13:30:42.687Z"
   },
   {
    "duration": 839,
    "start_time": "2024-09-08T13:30:42.876Z"
   },
   {
    "duration": 2,
    "start_time": "2024-09-08T13:31:16.423Z"
   },
   {
    "duration": 180,
    "start_time": "2024-09-08T13:32:34.768Z"
   },
   {
    "duration": 3074,
    "start_time": "2024-09-08T13:33:12.930Z"
   },
   {
    "duration": 1279,
    "start_time": "2024-09-08T13:33:16.007Z"
   },
   {
    "duration": 905,
    "start_time": "2024-09-08T13:33:17.287Z"
   },
   {
    "duration": 4,
    "start_time": "2024-09-08T13:33:18.193Z"
   },
   {
    "duration": 947,
    "start_time": "2024-09-08T13:33:18.200Z"
   },
   {
    "duration": 6,
    "start_time": "2024-09-08T13:33:19.152Z"
   },
   {
    "duration": 324,
    "start_time": "2024-09-08T13:33:19.160Z"
   },
   {
    "duration": 3,
    "start_time": "2024-09-08T13:33:19.485Z"
   },
   {
    "duration": 3217,
    "start_time": "2024-09-08T13:35:13.040Z"
   },
   {
    "duration": 1336,
    "start_time": "2024-09-08T13:35:16.260Z"
   },
   {
    "duration": 924,
    "start_time": "2024-09-08T13:35:17.598Z"
   },
   {
    "duration": 4,
    "start_time": "2024-09-08T13:35:18.524Z"
   },
   {
    "duration": 979,
    "start_time": "2024-09-08T13:35:18.530Z"
   },
   {
    "duration": 7,
    "start_time": "2024-09-08T13:35:19.511Z"
   },
   {
    "duration": 335,
    "start_time": "2024-09-08T13:35:19.519Z"
   },
   {
    "duration": 3,
    "start_time": "2024-09-08T13:35:19.856Z"
   },
   {
    "duration": 3186,
    "start_time": "2024-09-08T13:35:32.239Z"
   },
   {
    "duration": 1357,
    "start_time": "2024-09-08T13:35:35.428Z"
   },
   {
    "duration": 937,
    "start_time": "2024-09-08T13:35:36.787Z"
   },
   {
    "duration": 4,
    "start_time": "2024-09-08T13:35:37.726Z"
   },
   {
    "duration": 925,
    "start_time": "2024-09-08T13:35:37.732Z"
   },
   {
    "duration": 7,
    "start_time": "2024-09-08T13:35:38.659Z"
   },
   {
    "duration": 337,
    "start_time": "2024-09-08T13:35:38.668Z"
   },
   {
    "duration": 2,
    "start_time": "2024-09-08T13:35:39.007Z"
   },
   {
    "duration": 943,
    "start_time": "2024-09-08T13:36:12.865Z"
   },
   {
    "duration": 416,
    "start_time": "2024-09-08T13:37:38.216Z"
   },
   {
    "duration": 3,
    "start_time": "2024-09-08T13:59:26.989Z"
   },
   {
    "duration": 4,
    "start_time": "2024-09-08T13:59:30.597Z"
   },
   {
    "duration": 4,
    "start_time": "2024-09-08T13:59:31.597Z"
   },
   {
    "duration": 205,
    "start_time": "2024-09-08T13:59:35.214Z"
   },
   {
    "duration": 3,
    "start_time": "2024-09-08T14:00:02.502Z"
   },
   {
    "duration": 4,
    "start_time": "2024-09-08T14:00:02.799Z"
   },
   {
    "duration": 3,
    "start_time": "2024-09-08T14:00:03.262Z"
   },
   {
    "duration": 892,
    "start_time": "2024-09-08T14:00:05.504Z"
   },
   {
    "duration": 2924,
    "start_time": "2024-09-08T14:09:20.144Z"
   },
   {
    "duration": 1242,
    "start_time": "2024-09-08T14:09:23.071Z"
   },
   {
    "duration": 865,
    "start_time": "2024-09-08T14:09:24.314Z"
   },
   {
    "duration": 4,
    "start_time": "2024-09-08T14:09:25.181Z"
   },
   {
    "duration": 893,
    "start_time": "2024-09-08T14:09:25.186Z"
   },
   {
    "duration": 8,
    "start_time": "2024-09-08T14:09:26.081Z"
   },
   {
    "duration": 179,
    "start_time": "2024-09-08T14:09:26.091Z"
   },
   {
    "duration": 3,
    "start_time": "2024-09-08T14:09:26.271Z"
   },
   {
    "duration": 471,
    "start_time": "2024-09-08T14:09:26.275Z"
   },
   {
    "duration": 3,
    "start_time": "2024-09-08T14:09:26.751Z"
   },
   {
    "duration": 4,
    "start_time": "2024-09-08T14:09:26.755Z"
   },
   {
    "duration": 5,
    "start_time": "2024-09-08T14:09:26.760Z"
   },
   {
    "duration": 803,
    "start_time": "2024-09-08T14:09:26.766Z"
   },
   {
    "duration": 169,
    "start_time": "2024-09-08T14:09:40.164Z"
   },
   {
    "duration": 15,
    "start_time": "2024-09-08T14:16:39.620Z"
   },
   {
    "duration": 2955,
    "start_time": "2024-09-08T14:17:21.466Z"
   },
   {
    "duration": 1250,
    "start_time": "2024-09-08T14:17:24.423Z"
   },
   {
    "duration": 871,
    "start_time": "2024-09-08T14:17:25.674Z"
   },
   {
    "duration": 5,
    "start_time": "2024-09-08T14:17:26.547Z"
   },
   {
    "duration": 874,
    "start_time": "2024-09-08T14:17:26.553Z"
   },
   {
    "duration": 6,
    "start_time": "2024-09-08T14:17:27.428Z"
   },
   {
    "duration": 166,
    "start_time": "2024-09-08T14:17:27.435Z"
   },
   {
    "duration": 2,
    "start_time": "2024-09-08T14:17:27.603Z"
   },
   {
    "duration": 464,
    "start_time": "2024-09-08T14:17:27.607Z"
   },
   {
    "duration": 3,
    "start_time": "2024-09-08T14:17:28.074Z"
   },
   {
    "duration": 9,
    "start_time": "2024-09-08T14:17:28.079Z"
   },
   {
    "duration": 4,
    "start_time": "2024-09-08T14:17:28.089Z"
   },
   {
    "duration": 126,
    "start_time": "2024-09-08T14:17:28.095Z"
   },
   {
    "duration": 0,
    "start_time": "2024-09-08T14:17:28.222Z"
   },
   {
    "duration": 11,
    "start_time": "2024-09-08T14:18:25.305Z"
   },
   {
    "duration": 3,
    "start_time": "2024-09-08T14:18:27.061Z"
   },
   {
    "duration": 4,
    "start_time": "2024-09-08T14:18:27.414Z"
   },
   {
    "duration": 3,
    "start_time": "2024-09-08T14:18:28.110Z"
   },
   {
    "duration": 11,
    "start_time": "2024-09-08T14:18:28.621Z"
   },
   {
    "duration": 3153,
    "start_time": "2024-09-08T14:19:18.651Z"
   },
   {
    "duration": 1304,
    "start_time": "2024-09-08T14:19:21.807Z"
   },
   {
    "duration": 990,
    "start_time": "2024-09-08T14:19:23.115Z"
   },
   {
    "duration": 4,
    "start_time": "2024-09-08T14:19:24.107Z"
   },
   {
    "duration": 940,
    "start_time": "2024-09-08T14:19:24.113Z"
   },
   {
    "duration": 540,
    "start_time": "2024-09-08T14:19:25.055Z"
   },
   {
    "duration": 7,
    "start_time": "2024-09-08T14:19:25.596Z"
   },
   {
    "duration": 168,
    "start_time": "2024-09-08T14:19:25.604Z"
   },
   {
    "duration": 3,
    "start_time": "2024-09-08T14:19:25.774Z"
   },
   {
    "duration": 3,
    "start_time": "2024-09-08T14:19:25.778Z"
   },
   {
    "duration": 6,
    "start_time": "2024-09-08T14:19:25.783Z"
   },
   {
    "duration": 6,
    "start_time": "2024-09-08T14:19:25.790Z"
   },
   {
    "duration": 859,
    "start_time": "2024-09-08T14:19:25.799Z"
   },
   {
    "duration": 14,
    "start_time": "2024-09-08T14:19:26.660Z"
   },
   {
    "duration": 2988,
    "start_time": "2024-09-08T14:20:29.770Z"
   },
   {
    "duration": 1307,
    "start_time": "2024-09-08T14:20:32.760Z"
   },
   {
    "duration": 872,
    "start_time": "2024-09-08T14:20:34.070Z"
   },
   {
    "duration": 8,
    "start_time": "2024-09-08T14:20:34.944Z"
   },
   {
    "duration": 911,
    "start_time": "2024-09-08T14:20:34.954Z"
   },
   {
    "duration": 528,
    "start_time": "2024-09-08T14:20:35.867Z"
   },
   {
    "duration": 7,
    "start_time": "2024-09-08T14:20:36.397Z"
   },
   {
    "duration": 154,
    "start_time": "2024-09-08T14:20:36.406Z"
   },
   {
    "duration": 2,
    "start_time": "2024-09-08T14:20:36.562Z"
   },
   {
    "duration": 6,
    "start_time": "2024-09-08T14:20:36.566Z"
   },
   {
    "duration": 4,
    "start_time": "2024-09-08T14:20:36.574Z"
   },
   {
    "duration": 18,
    "start_time": "2024-09-08T14:20:36.579Z"
   },
   {
    "duration": 844,
    "start_time": "2024-09-08T14:20:36.599Z"
   },
   {
    "duration": 19,
    "start_time": "2024-09-08T14:20:37.446Z"
   },
   {
    "duration": 3018,
    "start_time": "2024-09-08T14:21:54.829Z"
   },
   {
    "duration": 1325,
    "start_time": "2024-09-08T14:21:57.849Z"
   },
   {
    "duration": 891,
    "start_time": "2024-09-08T14:21:59.176Z"
   },
   {
    "duration": 4,
    "start_time": "2024-09-08T14:22:00.069Z"
   },
   {
    "duration": 919,
    "start_time": "2024-09-08T14:22:00.074Z"
   },
   {
    "duration": 489,
    "start_time": "2024-09-08T14:22:00.994Z"
   },
   {
    "duration": 7,
    "start_time": "2024-09-08T14:22:01.485Z"
   },
   {
    "duration": 249,
    "start_time": "2024-09-08T14:22:01.493Z"
   },
   {
    "duration": 3,
    "start_time": "2024-09-08T14:22:01.744Z"
   },
   {
    "duration": 17,
    "start_time": "2024-09-08T14:22:01.753Z"
   },
   {
    "duration": 29,
    "start_time": "2024-09-08T14:22:01.771Z"
   },
   {
    "duration": 15,
    "start_time": "2024-09-08T14:22:01.802Z"
   },
   {
    "duration": 926,
    "start_time": "2024-09-08T14:22:01.818Z"
   },
   {
    "duration": 20,
    "start_time": "2024-09-08T14:22:02.745Z"
   },
   {
    "duration": 2986,
    "start_time": "2024-09-08T14:22:58.947Z"
   },
   {
    "duration": 1268,
    "start_time": "2024-09-08T14:23:01.935Z"
   },
   {
    "duration": 934,
    "start_time": "2024-09-08T14:23:03.205Z"
   },
   {
    "duration": 4,
    "start_time": "2024-09-08T14:23:04.141Z"
   },
   {
    "duration": 901,
    "start_time": "2024-09-08T14:23:04.152Z"
   },
   {
    "duration": 508,
    "start_time": "2024-09-08T14:23:05.055Z"
   },
   {
    "duration": 6,
    "start_time": "2024-09-08T14:23:05.565Z"
   },
   {
    "duration": 173,
    "start_time": "2024-09-08T14:23:05.572Z"
   },
   {
    "duration": 2,
    "start_time": "2024-09-08T14:23:05.746Z"
   },
   {
    "duration": 4,
    "start_time": "2024-09-08T14:23:05.750Z"
   },
   {
    "duration": 5,
    "start_time": "2024-09-08T14:23:05.755Z"
   },
   {
    "duration": 7,
    "start_time": "2024-09-08T14:23:05.761Z"
   },
   {
    "duration": 130,
    "start_time": "2024-09-08T14:23:05.769Z"
   },
   {
    "duration": 0,
    "start_time": "2024-09-08T14:23:05.901Z"
   },
   {
    "duration": 9,
    "start_time": "2024-09-08T14:23:37.020Z"
   },
   {
    "duration": 2,
    "start_time": "2024-09-08T14:23:37.492Z"
   },
   {
    "duration": 3119,
    "start_time": "2024-09-08T14:23:42.444Z"
   },
   {
    "duration": 1318,
    "start_time": "2024-09-08T14:23:45.565Z"
   },
   {
    "duration": 908,
    "start_time": "2024-09-08T14:23:46.885Z"
   },
   {
    "duration": 5,
    "start_time": "2024-09-08T14:23:47.795Z"
   },
   {
    "duration": 927,
    "start_time": "2024-09-08T14:23:47.802Z"
   },
   {
    "duration": 524,
    "start_time": "2024-09-08T14:23:48.730Z"
   },
   {
    "duration": 7,
    "start_time": "2024-09-08T14:23:49.256Z"
   },
   {
    "duration": 179,
    "start_time": "2024-09-08T14:23:49.264Z"
   },
   {
    "duration": 7,
    "start_time": "2024-09-08T14:23:49.445Z"
   },
   {
    "duration": 3,
    "start_time": "2024-09-08T14:23:49.454Z"
   },
   {
    "duration": 5,
    "start_time": "2024-09-08T14:23:49.459Z"
   },
   {
    "duration": 42,
    "start_time": "2024-09-08T14:23:49.465Z"
   },
   {
    "duration": 873,
    "start_time": "2024-09-08T14:23:49.509Z"
   },
   {
    "duration": 15,
    "start_time": "2024-09-08T14:23:50.384Z"
   },
   {
    "duration": 3,
    "start_time": "2024-09-08T14:25:33.542Z"
   },
   {
    "duration": 2970,
    "start_time": "2024-09-08T14:42:53.694Z"
   },
   {
    "duration": 1313,
    "start_time": "2024-09-08T14:42:56.666Z"
   },
   {
    "duration": 901,
    "start_time": "2024-09-08T14:42:57.981Z"
   },
   {
    "duration": 4,
    "start_time": "2024-09-08T14:42:58.885Z"
   },
   {
    "duration": 880,
    "start_time": "2024-09-08T14:42:58.890Z"
   },
   {
    "duration": 494,
    "start_time": "2024-09-08T14:42:59.771Z"
   },
   {
    "duration": 7,
    "start_time": "2024-09-08T14:43:00.267Z"
   },
   {
    "duration": 211,
    "start_time": "2024-09-08T14:43:00.275Z"
   },
   {
    "duration": 3,
    "start_time": "2024-09-08T14:43:00.487Z"
   },
   {
    "duration": 45,
    "start_time": "2024-09-08T14:43:00.492Z"
   },
   {
    "duration": 31,
    "start_time": "2024-09-08T14:43:00.539Z"
   },
   {
    "duration": 7,
    "start_time": "2024-09-08T14:43:00.571Z"
   },
   {
    "duration": 837,
    "start_time": "2024-09-08T14:43:00.579Z"
   },
   {
    "duration": 331,
    "start_time": "2024-09-08T14:43:01.418Z"
   },
   {
    "duration": 154,
    "start_time": "2024-09-08T14:43:01.752Z"
   },
   {
    "duration": 226,
    "start_time": "2024-09-08T14:43:01.908Z"
   },
   {
    "duration": 108,
    "start_time": "2024-09-08T14:43:02.136Z"
   },
   {
    "duration": 235,
    "start_time": "2024-09-08T14:43:02.252Z"
   },
   {
    "duration": 217,
    "start_time": "2024-09-08T14:43:02.489Z"
   },
   {
    "duration": 246,
    "start_time": "2024-09-08T14:43:02.708Z"
   },
   {
    "duration": 203,
    "start_time": "2024-09-08T14:43:02.955Z"
   },
   {
    "duration": 219,
    "start_time": "2024-09-08T14:43:03.159Z"
   },
   {
    "duration": 103,
    "start_time": "2024-09-08T14:43:03.380Z"
   },
   {
    "duration": 225,
    "start_time": "2024-09-08T14:43:03.484Z"
   },
   {
    "duration": 113,
    "start_time": "2024-09-08T14:43:03.710Z"
   },
   {
    "duration": 292,
    "start_time": "2024-09-08T14:43:03.825Z"
   },
   {
    "duration": 136,
    "start_time": "2024-09-08T14:43:04.118Z"
   },
   {
    "duration": 2,
    "start_time": "2024-09-08T14:43:04.258Z"
   },
   {
    "duration": 117,
    "start_time": "2024-09-08T15:03:16.059Z"
   },
   {
    "duration": 220,
    "start_time": "2024-09-08T15:03:27.992Z"
   },
   {
    "duration": 202,
    "start_time": "2024-09-08T15:03:46.236Z"
   },
   {
    "duration": 3038,
    "start_time": "2024-09-08T15:05:05.193Z"
   },
   {
    "duration": 1318,
    "start_time": "2024-09-08T15:05:08.234Z"
   },
   {
    "duration": 893,
    "start_time": "2024-09-08T15:05:09.553Z"
   },
   {
    "duration": 4,
    "start_time": "2024-09-08T15:05:10.451Z"
   },
   {
    "duration": 901,
    "start_time": "2024-09-08T15:05:10.457Z"
   },
   {
    "duration": 494,
    "start_time": "2024-09-08T15:05:11.360Z"
   },
   {
    "duration": 7,
    "start_time": "2024-09-08T15:05:11.856Z"
   },
   {
    "duration": 232,
    "start_time": "2024-09-08T15:05:11.865Z"
   },
   {
    "duration": 2,
    "start_time": "2024-09-08T15:05:12.099Z"
   },
   {
    "duration": 6,
    "start_time": "2024-09-08T15:05:12.105Z"
   },
   {
    "duration": 6,
    "start_time": "2024-09-08T15:05:12.113Z"
   },
   {
    "duration": 9,
    "start_time": "2024-09-08T15:05:12.120Z"
   },
   {
    "duration": 846,
    "start_time": "2024-09-08T15:05:12.131Z"
   },
   {
    "duration": 338,
    "start_time": "2024-09-08T15:05:12.978Z"
   },
   {
    "duration": 159,
    "start_time": "2024-09-08T15:05:13.317Z"
   },
   {
    "duration": 230,
    "start_time": "2024-09-08T15:05:13.477Z"
   },
   {
    "duration": 122,
    "start_time": "2024-09-08T15:05:13.709Z"
   },
   {
    "duration": 275,
    "start_time": "2024-09-08T15:05:13.832Z"
   },
   {
    "duration": 199,
    "start_time": "2024-09-08T15:05:14.109Z"
   },
   {
    "duration": 232,
    "start_time": "2024-09-08T15:05:14.309Z"
   },
   {
    "duration": 210,
    "start_time": "2024-09-08T15:05:14.543Z"
   },
   {
    "duration": 231,
    "start_time": "2024-09-08T15:05:14.754Z"
   },
   {
    "duration": 111,
    "start_time": "2024-09-08T15:05:14.987Z"
   },
   {
    "duration": 235,
    "start_time": "2024-09-08T15:05:15.100Z"
   },
   {
    "duration": 116,
    "start_time": "2024-09-08T15:05:15.336Z"
   },
   {
    "duration": 244,
    "start_time": "2024-09-08T15:05:15.453Z"
   },
   {
    "duration": 147,
    "start_time": "2024-09-08T15:05:15.699Z"
   },
   {
    "duration": 116,
    "start_time": "2024-09-08T15:05:15.851Z"
   },
   {
    "duration": 325,
    "start_time": "2024-09-08T15:05:15.969Z"
   },
   {
    "duration": 118,
    "start_time": "2024-09-08T15:05:16.296Z"
   },
   {
    "duration": 238,
    "start_time": "2024-09-08T15:05:16.416Z"
   },
   {
    "duration": 123,
    "start_time": "2024-09-08T15:05:16.655Z"
   },
   {
    "duration": 3,
    "start_time": "2024-09-08T15:05:16.780Z"
   },
   {
    "duration": 95,
    "start_time": "2024-09-08T15:05:41.435Z"
   },
   {
    "duration": 212,
    "start_time": "2024-09-08T15:05:41.795Z"
   },
   {
    "duration": 3084,
    "start_time": "2024-09-08T15:07:55.959Z"
   },
   {
    "duration": 1295,
    "start_time": "2024-09-08T15:07:59.045Z"
   },
   {
    "duration": 923,
    "start_time": "2024-09-08T15:08:00.342Z"
   },
   {
    "duration": 4,
    "start_time": "2024-09-08T15:08:01.266Z"
   },
   {
    "duration": 893,
    "start_time": "2024-09-08T15:08:01.272Z"
   },
   {
    "duration": 541,
    "start_time": "2024-09-08T15:08:02.167Z"
   },
   {
    "duration": 7,
    "start_time": "2024-09-08T15:08:02.709Z"
   },
   {
    "duration": 218,
    "start_time": "2024-09-08T15:08:02.717Z"
   },
   {
    "duration": 3,
    "start_time": "2024-09-08T15:08:02.936Z"
   },
   {
    "duration": 13,
    "start_time": "2024-09-08T15:08:02.940Z"
   },
   {
    "duration": 4,
    "start_time": "2024-09-08T15:08:02.955Z"
   },
   {
    "duration": 5,
    "start_time": "2024-09-08T15:08:02.961Z"
   },
   {
    "duration": 871,
    "start_time": "2024-09-08T15:08:02.967Z"
   },
   {
    "duration": 359,
    "start_time": "2024-09-08T15:08:03.841Z"
   },
   {
    "duration": 154,
    "start_time": "2024-09-08T15:08:04.202Z"
   },
   {
    "duration": 240,
    "start_time": "2024-09-08T15:08:04.358Z"
   },
   {
    "duration": 117,
    "start_time": "2024-09-08T15:08:04.600Z"
   },
   {
    "duration": 241,
    "start_time": "2024-09-08T15:08:04.719Z"
   },
   {
    "duration": 219,
    "start_time": "2024-09-08T15:08:04.962Z"
   },
   {
    "duration": 248,
    "start_time": "2024-09-08T15:08:05.183Z"
   },
   {
    "duration": 219,
    "start_time": "2024-09-08T15:08:05.432Z"
   },
   {
    "duration": 235,
    "start_time": "2024-09-08T15:08:05.653Z"
   },
   {
    "duration": 139,
    "start_time": "2024-09-08T15:08:05.890Z"
   },
   {
    "duration": 253,
    "start_time": "2024-09-08T15:08:06.031Z"
   },
   {
    "duration": 112,
    "start_time": "2024-09-08T15:08:06.285Z"
   },
   {
    "duration": 247,
    "start_time": "2024-09-08T15:08:06.399Z"
   },
   {
    "duration": 129,
    "start_time": "2024-09-08T15:08:06.652Z"
   },
   {
    "duration": 137,
    "start_time": "2024-09-08T15:08:06.783Z"
   },
   {
    "duration": 332,
    "start_time": "2024-09-08T15:08:06.922Z"
   },
   {
    "duration": 123,
    "start_time": "2024-09-08T15:08:07.255Z"
   },
   {
    "duration": 237,
    "start_time": "2024-09-08T15:08:07.380Z"
   },
   {
    "duration": 119,
    "start_time": "2024-09-08T15:08:07.619Z"
   },
   {
    "duration": 2,
    "start_time": "2024-09-08T15:08:07.740Z"
   },
   {
    "duration": 3093,
    "start_time": "2024-09-08T15:09:24.716Z"
   },
   {
    "duration": 1257,
    "start_time": "2024-09-08T15:09:27.812Z"
   },
   {
    "duration": 883,
    "start_time": "2024-09-08T15:09:29.071Z"
   },
   {
    "duration": 3,
    "start_time": "2024-09-08T15:09:29.956Z"
   },
   {
    "duration": 928,
    "start_time": "2024-09-08T15:09:29.962Z"
   },
   {
    "duration": 533,
    "start_time": "2024-09-08T15:09:30.892Z"
   },
   {
    "duration": 7,
    "start_time": "2024-09-08T15:09:31.426Z"
   },
   {
    "duration": 214,
    "start_time": "2024-09-08T15:09:31.434Z"
   },
   {
    "duration": 3,
    "start_time": "2024-09-08T15:09:31.652Z"
   },
   {
    "duration": 67,
    "start_time": "2024-09-08T15:09:31.656Z"
   },
   {
    "duration": 13,
    "start_time": "2024-09-08T15:09:31.724Z"
   },
   {
    "duration": 7,
    "start_time": "2024-09-08T15:09:31.739Z"
   },
   {
    "duration": 881,
    "start_time": "2024-09-08T15:09:31.749Z"
   },
   {
    "duration": 333,
    "start_time": "2024-09-08T15:09:32.634Z"
   },
   {
    "duration": 155,
    "start_time": "2024-09-08T15:09:32.969Z"
   },
   {
    "duration": 242,
    "start_time": "2024-09-08T15:09:33.125Z"
   },
   {
    "duration": 139,
    "start_time": "2024-09-08T15:09:33.370Z"
   },
   {
    "duration": 261,
    "start_time": "2024-09-08T15:09:33.512Z"
   },
   {
    "duration": 245,
    "start_time": "2024-09-08T15:09:33.775Z"
   },
   {
    "duration": 239,
    "start_time": "2024-09-08T15:09:34.022Z"
   },
   {
    "duration": 206,
    "start_time": "2024-09-08T15:09:34.262Z"
   },
   {
    "duration": 233,
    "start_time": "2024-09-08T15:09:34.469Z"
   },
   {
    "duration": 100,
    "start_time": "2024-09-08T15:09:34.704Z"
   },
   {
    "duration": 233,
    "start_time": "2024-09-08T15:09:34.806Z"
   },
   {
    "duration": 102,
    "start_time": "2024-09-08T15:09:35.051Z"
   },
   {
    "duration": 252,
    "start_time": "2024-09-08T15:09:35.155Z"
   },
   {
    "duration": 140,
    "start_time": "2024-09-08T15:09:35.409Z"
   },
   {
    "duration": 129,
    "start_time": "2024-09-08T15:09:35.551Z"
   },
   {
    "duration": 222,
    "start_time": "2024-09-08T15:09:35.682Z"
   },
   {
    "duration": 238,
    "start_time": "2024-09-08T15:09:35.906Z"
   },
   {
    "duration": 271,
    "start_time": "2024-09-08T15:09:36.145Z"
   },
   {
    "duration": 121,
    "start_time": "2024-09-08T15:09:36.417Z"
   },
   {
    "duration": 2,
    "start_time": "2024-09-08T15:09:36.540Z"
   },
   {
    "duration": 8,
    "start_time": "2024-09-08T15:10:21.908Z"
   },
   {
    "duration": 2950,
    "start_time": "2024-09-08T15:11:37.302Z"
   },
   {
    "duration": 1311,
    "start_time": "2024-09-08T15:11:40.254Z"
   },
   {
    "duration": 908,
    "start_time": "2024-09-08T15:11:41.567Z"
   },
   {
    "duration": 4,
    "start_time": "2024-09-08T15:11:42.477Z"
   },
   {
    "duration": 892,
    "start_time": "2024-09-08T15:11:42.483Z"
   },
   {
    "duration": 559,
    "start_time": "2024-09-08T15:11:43.377Z"
   },
   {
    "duration": 13,
    "start_time": "2024-09-08T15:11:43.939Z"
   },
   {
    "duration": 241,
    "start_time": "2024-09-08T15:11:43.954Z"
   },
   {
    "duration": 3,
    "start_time": "2024-09-08T15:11:44.197Z"
   },
   {
    "duration": 31,
    "start_time": "2024-09-08T15:11:44.203Z"
   },
   {
    "duration": 4,
    "start_time": "2024-09-08T15:11:44.238Z"
   },
   {
    "duration": 13,
    "start_time": "2024-09-08T15:11:44.244Z"
   },
   {
    "duration": 873,
    "start_time": "2024-09-08T15:11:44.260Z"
   },
   {
    "duration": 329,
    "start_time": "2024-09-08T15:11:45.134Z"
   },
   {
    "duration": 159,
    "start_time": "2024-09-08T15:11:45.465Z"
   },
   {
    "duration": 239,
    "start_time": "2024-09-08T15:11:45.625Z"
   },
   {
    "duration": 129,
    "start_time": "2024-09-08T15:11:45.866Z"
   },
   {
    "duration": 16,
    "start_time": "2024-09-08T15:11:45.997Z"
   },
   {
    "duration": 252,
    "start_time": "2024-09-08T15:11:46.015Z"
   },
   {
    "duration": 8,
    "start_time": "2024-09-08T15:11:46.269Z"
   },
   {
    "duration": 202,
    "start_time": "2024-09-08T15:11:46.278Z"
   },
   {
    "duration": 228,
    "start_time": "2024-09-08T15:11:46.481Z"
   },
   {
    "duration": 207,
    "start_time": "2024-09-08T15:11:46.710Z"
   },
   {
    "duration": 220,
    "start_time": "2024-09-08T15:11:46.919Z"
   },
   {
    "duration": 101,
    "start_time": "2024-09-08T15:11:47.141Z"
   },
   {
    "duration": 228,
    "start_time": "2024-09-08T15:11:47.251Z"
   },
   {
    "duration": 114,
    "start_time": "2024-09-08T15:11:47.480Z"
   },
   {
    "duration": 237,
    "start_time": "2024-09-08T15:11:47.597Z"
   },
   {
    "duration": 134,
    "start_time": "2024-09-08T15:11:47.835Z"
   },
   {
    "duration": 3,
    "start_time": "2024-09-08T15:11:47.970Z"
   },
   {
    "duration": 4,
    "start_time": "2024-09-08T15:11:47.974Z"
   },
   {
    "duration": 4,
    "start_time": "2024-09-08T15:11:47.980Z"
   },
   {
    "duration": 13,
    "start_time": "2024-09-08T15:11:47.985Z"
   },
   {
    "duration": 19,
    "start_time": "2024-09-08T15:11:47.999Z"
   },
   {
    "duration": 6,
    "start_time": "2024-09-08T15:11:48.021Z"
   },
   {
    "duration": 9,
    "start_time": "2024-09-08T15:12:35.970Z"
   },
   {
    "duration": 7,
    "start_time": "2024-09-08T15:12:50.671Z"
   },
   {
    "duration": 9,
    "start_time": "2024-09-08T15:13:13.031Z"
   },
   {
    "duration": 9,
    "start_time": "2024-09-08T15:13:31.495Z"
   },
   {
    "duration": 3003,
    "start_time": "2024-09-08T15:15:04.936Z"
   },
   {
    "duration": 1245,
    "start_time": "2024-09-08T15:15:07.942Z"
   },
   {
    "duration": 866,
    "start_time": "2024-09-08T15:15:09.189Z"
   },
   {
    "duration": 3,
    "start_time": "2024-09-08T15:15:10.057Z"
   },
   {
    "duration": 905,
    "start_time": "2024-09-08T15:15:10.062Z"
   },
   {
    "duration": 485,
    "start_time": "2024-09-08T15:15:10.969Z"
   },
   {
    "duration": 6,
    "start_time": "2024-09-08T15:15:11.456Z"
   },
   {
    "duration": 201,
    "start_time": "2024-09-08T15:15:11.464Z"
   },
   {
    "duration": 2,
    "start_time": "2024-09-08T15:15:11.667Z"
   },
   {
    "duration": 68,
    "start_time": "2024-09-08T15:15:11.672Z"
   },
   {
    "duration": 6,
    "start_time": "2024-09-08T15:15:11.742Z"
   },
   {
    "duration": 8,
    "start_time": "2024-09-08T15:15:11.749Z"
   },
   {
    "duration": 860,
    "start_time": "2024-09-08T15:15:11.758Z"
   },
   {
    "duration": 342,
    "start_time": "2024-09-08T15:15:12.620Z"
   },
   {
    "duration": 174,
    "start_time": "2024-09-08T15:15:12.964Z"
   },
   {
    "duration": 237,
    "start_time": "2024-09-08T15:15:13.139Z"
   },
   {
    "duration": 113,
    "start_time": "2024-09-08T15:15:13.377Z"
   },
   {
    "duration": 7,
    "start_time": "2024-09-08T15:15:13.492Z"
   },
   {
    "duration": 260,
    "start_time": "2024-09-08T15:15:13.500Z"
   },
   {
    "duration": 7,
    "start_time": "2024-09-08T15:15:13.762Z"
   },
   {
    "duration": 234,
    "start_time": "2024-09-08T15:15:13.771Z"
   },
   {
    "duration": 243,
    "start_time": "2024-09-08T15:15:14.007Z"
   },
   {
    "duration": 207,
    "start_time": "2024-09-08T15:15:14.252Z"
   },
   {
    "duration": 225,
    "start_time": "2024-09-08T15:15:14.461Z"
   },
   {
    "duration": 102,
    "start_time": "2024-09-08T15:15:14.687Z"
   },
   {
    "duration": 239,
    "start_time": "2024-09-08T15:15:14.791Z"
   },
   {
    "duration": 110,
    "start_time": "2024-09-08T15:15:15.032Z"
   },
   {
    "duration": 249,
    "start_time": "2024-09-08T15:15:15.151Z"
   },
   {
    "duration": 136,
    "start_time": "2024-09-08T15:15:15.402Z"
   },
   {
    "duration": 127,
    "start_time": "2024-09-08T15:15:15.539Z"
   },
   {
    "duration": 221,
    "start_time": "2024-09-08T15:15:15.667Z"
   },
   {
    "duration": 219,
    "start_time": "2024-09-08T15:15:15.890Z"
   },
   {
    "duration": 243,
    "start_time": "2024-09-08T15:15:16.111Z"
   },
   {
    "duration": 108,
    "start_time": "2024-09-08T15:15:16.356Z"
   },
   {
    "duration": 14,
    "start_time": "2024-09-08T15:15:16.466Z"
   },
   {
    "duration": 119,
    "start_time": "2024-09-08T15:36:32.734Z"
   },
   {
    "duration": 15,
    "start_time": "2024-09-08T18:27:40.290Z"
   },
   {
    "duration": 13,
    "start_time": "2024-09-08T18:28:20.340Z"
   },
   {
    "duration": 3067,
    "start_time": "2024-09-08T18:28:27.524Z"
   },
   {
    "duration": 3150,
    "start_time": "2024-09-08T18:28:30.594Z"
   },
   {
    "duration": 1337,
    "start_time": "2024-09-08T18:28:33.746Z"
   },
   {
    "duration": 906,
    "start_time": "2024-09-08T18:28:35.085Z"
   },
   {
    "duration": 5,
    "start_time": "2024-09-08T18:28:35.993Z"
   },
   {
    "duration": 897,
    "start_time": "2024-09-08T18:28:36.000Z"
   },
   {
    "duration": 524,
    "start_time": "2024-09-08T18:28:36.899Z"
   },
   {
    "duration": 6,
    "start_time": "2024-09-08T18:28:37.425Z"
   },
   {
    "duration": 213,
    "start_time": "2024-09-08T18:28:37.433Z"
   },
   {
    "duration": 2,
    "start_time": "2024-09-08T18:28:37.651Z"
   },
   {
    "duration": 3,
    "start_time": "2024-09-08T18:28:37.655Z"
   },
   {
    "duration": 9,
    "start_time": "2024-09-08T18:28:37.660Z"
   },
   {
    "duration": 5,
    "start_time": "2024-09-08T18:28:37.671Z"
   },
   {
    "duration": 843,
    "start_time": "2024-09-08T18:28:37.678Z"
   },
   {
    "duration": 352,
    "start_time": "2024-09-08T18:28:38.523Z"
   },
   {
    "duration": 157,
    "start_time": "2024-09-08T18:28:38.877Z"
   },
   {
    "duration": 233,
    "start_time": "2024-09-08T18:28:39.036Z"
   },
   {
    "duration": 125,
    "start_time": "2024-09-08T18:28:39.270Z"
   },
   {
    "duration": 8,
    "start_time": "2024-09-08T18:28:39.396Z"
   },
   {
    "duration": 241,
    "start_time": "2024-09-08T18:28:39.406Z"
   },
   {
    "duration": 7,
    "start_time": "2024-09-08T18:28:39.652Z"
   },
   {
    "duration": 204,
    "start_time": "2024-09-08T18:28:39.660Z"
   },
   {
    "duration": 242,
    "start_time": "2024-09-08T18:28:39.865Z"
   },
   {
    "duration": 209,
    "start_time": "2024-09-08T18:28:40.109Z"
   },
   {
    "duration": 232,
    "start_time": "2024-09-08T18:28:40.320Z"
   },
   {
    "duration": 101,
    "start_time": "2024-09-08T18:28:40.553Z"
   },
   {
    "duration": 223,
    "start_time": "2024-09-08T18:28:40.655Z"
   },
   {
    "duration": 111,
    "start_time": "2024-09-08T18:28:40.882Z"
   },
   {
    "duration": 281,
    "start_time": "2024-09-08T18:28:40.995Z"
   },
   {
    "duration": 126,
    "start_time": "2024-09-08T18:28:41.278Z"
   },
   {
    "duration": 156,
    "start_time": "2024-09-08T18:28:41.406Z"
   },
   {
    "duration": 293,
    "start_time": "2024-09-08T18:28:41.564Z"
   },
   {
    "duration": 209,
    "start_time": "2024-09-08T18:28:41.858Z"
   },
   {
    "duration": 238,
    "start_time": "2024-09-08T18:28:42.069Z"
   },
   {
    "duration": 114,
    "start_time": "2024-09-08T18:28:42.308Z"
   },
   {
    "duration": 122,
    "start_time": "2024-09-08T18:28:42.423Z"
   },
   {
    "duration": 0,
    "start_time": "2024-09-08T18:28:42.547Z"
   },
   {
    "duration": 10,
    "start_time": "2024-09-08T18:28:50.190Z"
   },
   {
    "duration": 159458,
    "start_time": "2024-09-08T18:29:00.551Z"
   },
   {
    "duration": 0,
    "start_time": "2024-09-08T18:31:40.010Z"
   },
   {
    "duration": 3003,
    "start_time": "2024-09-08T18:31:53.537Z"
   },
   {
    "duration": 2431,
    "start_time": "2024-09-08T18:31:56.543Z"
   },
   {
    "duration": 1263,
    "start_time": "2024-09-08T18:31:58.976Z"
   },
   {
    "duration": 904,
    "start_time": "2024-09-08T18:32:00.241Z"
   },
   {
    "duration": 5,
    "start_time": "2024-09-08T18:32:01.147Z"
   },
   {
    "duration": 903,
    "start_time": "2024-09-08T18:32:01.153Z"
   },
   {
    "duration": 546,
    "start_time": "2024-09-08T18:32:02.058Z"
   },
   {
    "duration": 6,
    "start_time": "2024-09-08T18:32:02.606Z"
   },
   {
    "duration": 228,
    "start_time": "2024-09-08T18:32:02.613Z"
   },
   {
    "duration": 2,
    "start_time": "2024-09-08T18:32:02.843Z"
   },
   {
    "duration": 6,
    "start_time": "2024-09-08T18:32:02.852Z"
   },
   {
    "duration": 7,
    "start_time": "2024-09-08T18:32:02.859Z"
   },
   {
    "duration": 5,
    "start_time": "2024-09-08T18:32:02.867Z"
   },
   {
    "duration": 829,
    "start_time": "2024-09-08T18:32:02.875Z"
   },
   {
    "duration": 368,
    "start_time": "2024-09-08T18:32:03.706Z"
   },
   {
    "duration": 151,
    "start_time": "2024-09-08T18:32:04.076Z"
   },
   {
    "duration": 216,
    "start_time": "2024-09-08T18:32:04.229Z"
   },
   {
    "duration": 109,
    "start_time": "2024-09-08T18:32:04.451Z"
   },
   {
    "duration": 8,
    "start_time": "2024-09-08T18:32:04.562Z"
   },
   {
    "duration": 228,
    "start_time": "2024-09-08T18:32:04.571Z"
   },
   {
    "duration": 8,
    "start_time": "2024-09-08T18:32:04.801Z"
   },
   {
    "duration": 206,
    "start_time": "2024-09-08T18:32:04.810Z"
   },
   {
    "duration": 235,
    "start_time": "2024-09-08T18:32:05.017Z"
   },
   {
    "duration": 210,
    "start_time": "2024-09-08T18:32:05.253Z"
   },
   {
    "duration": 220,
    "start_time": "2024-09-08T18:32:05.464Z"
   },
   {
    "duration": 99,
    "start_time": "2024-09-08T18:32:05.685Z"
   },
   {
    "duration": 228,
    "start_time": "2024-09-08T18:32:05.785Z"
   },
   {
    "duration": 116,
    "start_time": "2024-09-08T18:32:06.014Z"
   },
   {
    "duration": 249,
    "start_time": "2024-09-08T18:32:06.132Z"
   },
   {
    "duration": 132,
    "start_time": "2024-09-08T18:32:06.382Z"
   },
   {
    "duration": 139,
    "start_time": "2024-09-08T18:32:06.515Z"
   },
   {
    "duration": 213,
    "start_time": "2024-09-08T18:32:06.655Z"
   },
   {
    "duration": 215,
    "start_time": "2024-09-08T18:32:06.870Z"
   },
   {
    "duration": 236,
    "start_time": "2024-09-08T18:32:07.086Z"
   },
   {
    "duration": 116,
    "start_time": "2024-09-08T18:32:07.324Z"
   },
   {
    "duration": 816,
    "start_time": "2024-09-08T18:32:40.870Z"
   },
   {
    "duration": 788,
    "start_time": "2024-09-08T18:33:32.598Z"
   },
   {
    "duration": 767,
    "start_time": "2024-09-08T18:33:42.256Z"
   },
   {
    "duration": 2909,
    "start_time": "2024-09-08T18:36:39.434Z"
   },
   {
    "duration": 2426,
    "start_time": "2024-09-08T18:36:42.345Z"
   },
   {
    "duration": 1271,
    "start_time": "2024-09-08T18:36:44.773Z"
   },
   {
    "duration": 887,
    "start_time": "2024-09-08T18:36:46.046Z"
   },
   {
    "duration": 3,
    "start_time": "2024-09-08T18:36:46.935Z"
   },
   {
    "duration": 896,
    "start_time": "2024-09-08T18:36:46.940Z"
   },
   {
    "duration": 509,
    "start_time": "2024-09-08T18:36:47.837Z"
   },
   {
    "duration": 7,
    "start_time": "2024-09-08T18:36:48.351Z"
   },
   {
    "duration": 206,
    "start_time": "2024-09-08T18:36:48.360Z"
   },
   {
    "duration": 3,
    "start_time": "2024-09-08T18:36:48.568Z"
   },
   {
    "duration": 4,
    "start_time": "2024-09-08T18:36:48.572Z"
   },
   {
    "duration": 10,
    "start_time": "2024-09-08T18:36:48.577Z"
   },
   {
    "duration": 6,
    "start_time": "2024-09-08T18:36:48.588Z"
   },
   {
    "duration": 848,
    "start_time": "2024-09-08T18:36:48.595Z"
   },
   {
    "duration": 312,
    "start_time": "2024-09-08T18:36:49.444Z"
   },
   {
    "duration": 149,
    "start_time": "2024-09-08T18:36:49.758Z"
   },
   {
    "duration": 227,
    "start_time": "2024-09-08T18:36:49.908Z"
   },
   {
    "duration": 115,
    "start_time": "2024-09-08T18:36:50.137Z"
   },
   {
    "duration": 8,
    "start_time": "2024-09-08T18:36:50.253Z"
   },
   {
    "duration": 230,
    "start_time": "2024-09-08T18:36:50.262Z"
   },
   {
    "duration": 8,
    "start_time": "2024-09-08T18:36:50.494Z"
   },
   {
    "duration": 205,
    "start_time": "2024-09-08T18:36:50.503Z"
   },
   {
    "duration": 234,
    "start_time": "2024-09-08T18:36:50.710Z"
   },
   {
    "duration": 197,
    "start_time": "2024-09-08T18:36:50.951Z"
   },
   {
    "duration": 222,
    "start_time": "2024-09-08T18:36:51.152Z"
   },
   {
    "duration": 104,
    "start_time": "2024-09-08T18:36:51.376Z"
   },
   {
    "duration": 223,
    "start_time": "2024-09-08T18:36:51.481Z"
   },
   {
    "duration": 113,
    "start_time": "2024-09-08T18:36:51.708Z"
   },
   {
    "duration": 238,
    "start_time": "2024-09-08T18:36:51.823Z"
   },
   {
    "duration": 136,
    "start_time": "2024-09-08T18:36:52.063Z"
   },
   {
    "duration": 140,
    "start_time": "2024-09-08T18:36:52.201Z"
   },
   {
    "duration": 220,
    "start_time": "2024-09-08T18:36:52.343Z"
   },
   {
    "duration": 209,
    "start_time": "2024-09-08T18:36:52.565Z"
   },
   {
    "duration": 236,
    "start_time": "2024-09-08T18:36:52.776Z"
   },
   {
    "duration": 111,
    "start_time": "2024-09-08T18:36:53.013Z"
   },
   {
    "duration": 3156,
    "start_time": "2024-09-08T18:40:07.321Z"
   },
   {
    "duration": 2363,
    "start_time": "2024-09-08T18:40:10.480Z"
   },
   {
    "duration": 1308,
    "start_time": "2024-09-08T18:40:12.845Z"
   },
   {
    "duration": 892,
    "start_time": "2024-09-08T18:40:14.155Z"
   },
   {
    "duration": 4,
    "start_time": "2024-09-08T18:40:15.051Z"
   },
   {
    "duration": 920,
    "start_time": "2024-09-08T18:40:15.057Z"
   },
   {
    "duration": 525,
    "start_time": "2024-09-08T18:40:15.978Z"
   },
   {
    "duration": 6,
    "start_time": "2024-09-08T18:40:16.504Z"
   },
   {
    "duration": 216,
    "start_time": "2024-09-08T18:40:16.512Z"
   },
   {
    "duration": 3,
    "start_time": "2024-09-08T18:40:16.730Z"
   },
   {
    "duration": 54,
    "start_time": "2024-09-08T18:40:16.734Z"
   },
   {
    "duration": 4,
    "start_time": "2024-09-08T18:40:16.790Z"
   },
   {
    "duration": 3,
    "start_time": "2024-09-08T18:40:16.796Z"
   },
   {
    "duration": 825,
    "start_time": "2024-09-08T18:40:16.800Z"
   },
   {
    "duration": 327,
    "start_time": "2024-09-08T18:40:17.626Z"
   },
   {
    "duration": 154,
    "start_time": "2024-09-08T18:40:17.955Z"
   },
   {
    "duration": 236,
    "start_time": "2024-09-08T18:40:18.110Z"
   },
   {
    "duration": 114,
    "start_time": "2024-09-08T18:40:18.351Z"
   },
   {
    "duration": 7,
    "start_time": "2024-09-08T18:40:18.467Z"
   },
   {
    "duration": 239,
    "start_time": "2024-09-08T18:40:18.476Z"
   },
   {
    "duration": 8,
    "start_time": "2024-09-08T18:40:18.716Z"
   },
   {
    "duration": 202,
    "start_time": "2024-09-08T18:40:18.725Z"
   },
   {
    "duration": 247,
    "start_time": "2024-09-08T18:40:18.929Z"
   },
   {
    "duration": 210,
    "start_time": "2024-09-08T18:40:19.177Z"
   },
   {
    "duration": 225,
    "start_time": "2024-09-08T18:40:19.389Z"
   },
   {
    "duration": 101,
    "start_time": "2024-09-08T18:40:19.615Z"
   },
   {
    "duration": 226,
    "start_time": "2024-09-08T18:40:19.718Z"
   },
   {
    "duration": 104,
    "start_time": "2024-09-08T18:40:19.951Z"
   },
   {
    "duration": 230,
    "start_time": "2024-09-08T18:40:20.057Z"
   },
   {
    "duration": 136,
    "start_time": "2024-09-08T18:40:20.289Z"
   },
   {
    "duration": 127,
    "start_time": "2024-09-08T18:40:20.427Z"
   },
   {
    "duration": 225,
    "start_time": "2024-09-08T18:40:20.556Z"
   },
   {
    "duration": 216,
    "start_time": "2024-09-08T18:40:20.782Z"
   },
   {
    "duration": 252,
    "start_time": "2024-09-08T18:40:21.000Z"
   },
   {
    "duration": 114,
    "start_time": "2024-09-08T18:40:21.254Z"
   },
   {
    "duration": 123,
    "start_time": "2024-09-08T18:40:21.370Z"
   },
   {
    "duration": 0,
    "start_time": "2024-09-08T18:40:21.495Z"
   },
   {
    "duration": 0,
    "start_time": "2024-09-08T18:40:21.496Z"
   },
   {
    "duration": 24,
    "start_time": "2024-09-08T18:40:48.043Z"
   },
   {
    "duration": 50,
    "start_time": "2024-09-08T18:47:01.329Z"
   },
   {
    "duration": 3032,
    "start_time": "2024-09-08T18:47:06.954Z"
   },
   {
    "duration": 2439,
    "start_time": "2024-09-08T18:47:09.988Z"
   },
   {
    "duration": 1318,
    "start_time": "2024-09-08T18:47:12.429Z"
   },
   {
    "duration": 944,
    "start_time": "2024-09-08T18:47:13.749Z"
   },
   {
    "duration": 4,
    "start_time": "2024-09-08T18:47:14.694Z"
   },
   {
    "duration": 914,
    "start_time": "2024-09-08T18:47:14.700Z"
   },
   {
    "duration": 565,
    "start_time": "2024-09-08T18:47:15.615Z"
   },
   {
    "duration": 7,
    "start_time": "2024-09-08T18:47:16.182Z"
   },
   {
    "duration": 231,
    "start_time": "2024-09-08T18:47:16.190Z"
   },
   {
    "duration": 3,
    "start_time": "2024-09-08T18:47:16.424Z"
   },
   {
    "duration": 11,
    "start_time": "2024-09-08T18:47:16.428Z"
   },
   {
    "duration": 12,
    "start_time": "2024-09-08T18:47:16.441Z"
   },
   {
    "duration": 7,
    "start_time": "2024-09-08T18:47:16.455Z"
   },
   {
    "duration": 918,
    "start_time": "2024-09-08T18:47:16.464Z"
   },
   {
    "duration": 349,
    "start_time": "2024-09-08T18:47:17.383Z"
   },
   {
    "duration": 157,
    "start_time": "2024-09-08T18:47:17.734Z"
   },
   {
    "duration": 238,
    "start_time": "2024-09-08T18:47:17.892Z"
   },
   {
    "duration": 122,
    "start_time": "2024-09-08T18:47:18.132Z"
   },
   {
    "duration": 8,
    "start_time": "2024-09-08T18:47:18.256Z"
   },
   {
    "duration": 256,
    "start_time": "2024-09-08T18:47:18.266Z"
   },
   {
    "duration": 8,
    "start_time": "2024-09-08T18:47:18.524Z"
   },
   {
    "duration": 213,
    "start_time": "2024-09-08T18:47:18.534Z"
   },
   {
    "duration": 250,
    "start_time": "2024-09-08T18:47:18.749Z"
   },
   {
    "duration": 217,
    "start_time": "2024-09-08T18:47:19.000Z"
   },
   {
    "duration": 234,
    "start_time": "2024-09-08T18:47:19.219Z"
   },
   {
    "duration": 106,
    "start_time": "2024-09-08T18:47:19.455Z"
   },
   {
    "duration": 233,
    "start_time": "2024-09-08T18:47:19.563Z"
   },
   {
    "duration": 116,
    "start_time": "2024-09-08T18:47:19.800Z"
   },
   {
    "duration": 245,
    "start_time": "2024-09-08T18:47:19.917Z"
   },
   {
    "duration": 136,
    "start_time": "2024-09-08T18:47:20.164Z"
   },
   {
    "duration": 133,
    "start_time": "2024-09-08T18:47:20.302Z"
   },
   {
    "duration": 224,
    "start_time": "2024-09-08T18:47:20.437Z"
   },
   {
    "duration": 218,
    "start_time": "2024-09-08T18:47:20.663Z"
   },
   {
    "duration": 242,
    "start_time": "2024-09-08T18:47:20.883Z"
   },
   {
    "duration": 115,
    "start_time": "2024-09-08T18:47:21.126Z"
   },
   {
    "duration": 37,
    "start_time": "2024-09-08T18:47:21.242Z"
   },
   {
    "duration": 611,
    "start_time": "2024-09-08T18:47:21.281Z"
   },
   {
    "duration": 14,
    "start_time": "2024-09-08T18:52:09.136Z"
   },
   {
    "duration": 12,
    "start_time": "2024-09-08T18:59:43.544Z"
   },
   {
    "duration": 526,
    "start_time": "2024-09-08T19:11:38.129Z"
   },
   {
    "duration": 550,
    "start_time": "2024-09-08T19:15:20.219Z"
   },
   {
    "duration": 564,
    "start_time": "2024-09-08T19:15:37.489Z"
   },
   {
    "duration": 148,
    "start_time": "2024-09-08T19:17:18.757Z"
   },
   {
    "duration": 3213,
    "start_time": "2024-09-08T19:17:46.354Z"
   },
   {
    "duration": 2426,
    "start_time": "2024-09-08T19:17:49.572Z"
   },
   {
    "duration": 1237,
    "start_time": "2024-09-08T19:17:52.001Z"
   },
   {
    "duration": 938,
    "start_time": "2024-09-08T19:17:53.240Z"
   },
   {
    "duration": 3,
    "start_time": "2024-09-08T19:17:54.181Z"
   },
   {
    "duration": 900,
    "start_time": "2024-09-08T19:17:54.186Z"
   },
   {
    "duration": 509,
    "start_time": "2024-09-08T19:17:55.088Z"
   },
   {
    "duration": 6,
    "start_time": "2024-09-08T19:17:55.598Z"
   },
   {
    "duration": 4,
    "start_time": "2024-09-08T19:17:55.606Z"
   },
   {
    "duration": 5,
    "start_time": "2024-09-08T19:17:55.612Z"
   },
   {
    "duration": 5,
    "start_time": "2024-09-08T19:17:55.619Z"
   },
   {
    "duration": 4,
    "start_time": "2024-09-08T19:17:55.625Z"
   },
   {
    "duration": 22,
    "start_time": "2024-09-08T19:17:55.630Z"
   },
   {
    "duration": 846,
    "start_time": "2024-09-08T19:17:55.655Z"
   },
   {
    "duration": 325,
    "start_time": "2024-09-08T19:17:56.503Z"
   },
   {
    "duration": 160,
    "start_time": "2024-09-08T19:17:56.829Z"
   },
   {
    "duration": 225,
    "start_time": "2024-09-08T19:17:56.990Z"
   },
   {
    "duration": 116,
    "start_time": "2024-09-08T19:17:57.217Z"
   },
   {
    "duration": 18,
    "start_time": "2024-09-08T19:17:57.335Z"
   },
   {
    "duration": 246,
    "start_time": "2024-09-08T19:17:57.354Z"
   },
   {
    "duration": 7,
    "start_time": "2024-09-08T19:17:57.602Z"
   },
   {
    "duration": 206,
    "start_time": "2024-09-08T19:17:57.610Z"
   },
   {
    "duration": 245,
    "start_time": "2024-09-08T19:17:57.818Z"
   },
   {
    "duration": 205,
    "start_time": "2024-09-08T19:17:58.065Z"
   },
   {
    "duration": 226,
    "start_time": "2024-09-08T19:17:58.271Z"
   },
   {
    "duration": 103,
    "start_time": "2024-09-08T19:17:58.499Z"
   },
   {
    "duration": 231,
    "start_time": "2024-09-08T19:17:58.604Z"
   },
   {
    "duration": 116,
    "start_time": "2024-09-08T19:17:58.836Z"
   },
   {
    "duration": 250,
    "start_time": "2024-09-08T19:17:58.953Z"
   },
   {
    "duration": 137,
    "start_time": "2024-09-08T19:17:59.204Z"
   },
   {
    "duration": 148,
    "start_time": "2024-09-08T19:17:59.343Z"
   },
   {
    "duration": 301,
    "start_time": "2024-09-08T19:17:59.492Z"
   },
   {
    "duration": 114,
    "start_time": "2024-09-08T19:17:59.795Z"
   },
   {
    "duration": 247,
    "start_time": "2024-09-08T19:17:59.911Z"
   },
   {
    "duration": 117,
    "start_time": "2024-09-08T19:18:00.160Z"
   },
   {
    "duration": 32,
    "start_time": "2024-09-08T19:18:00.278Z"
   },
   {
    "duration": 528,
    "start_time": "2024-09-08T19:18:00.311Z"
   },
   {
    "duration": 37,
    "start_time": "2024-09-08T19:18:00.841Z"
   },
   {
    "duration": 131,
    "start_time": "2024-09-08T19:18:00.880Z"
   },
   {
    "duration": 2952,
    "start_time": "2024-09-08T19:18:36.793Z"
   },
   {
    "duration": 2352,
    "start_time": "2024-09-08T19:18:39.748Z"
   },
   {
    "duration": 1224,
    "start_time": "2024-09-08T19:18:42.102Z"
   },
   {
    "duration": 939,
    "start_time": "2024-09-08T19:18:43.327Z"
   },
   {
    "duration": 4,
    "start_time": "2024-09-08T19:18:44.268Z"
   },
   {
    "duration": 927,
    "start_time": "2024-09-08T19:18:44.273Z"
   },
   {
    "duration": 515,
    "start_time": "2024-09-08T19:18:45.202Z"
   },
   {
    "duration": 7,
    "start_time": "2024-09-08T19:18:45.718Z"
   },
   {
    "duration": 210,
    "start_time": "2024-09-08T19:18:45.726Z"
   },
   {
    "duration": 3,
    "start_time": "2024-09-08T19:18:45.939Z"
   },
   {
    "duration": 12,
    "start_time": "2024-09-08T19:18:45.952Z"
   },
   {
    "duration": 11,
    "start_time": "2024-09-08T19:18:45.966Z"
   },
   {
    "duration": 16,
    "start_time": "2024-09-08T19:18:45.978Z"
   },
   {
    "duration": 813,
    "start_time": "2024-09-08T19:18:45.995Z"
   },
   {
    "duration": 321,
    "start_time": "2024-09-08T19:18:46.810Z"
   },
   {
    "duration": 145,
    "start_time": "2024-09-08T19:18:47.133Z"
   },
   {
    "duration": 234,
    "start_time": "2024-09-08T19:18:47.280Z"
   },
   {
    "duration": 115,
    "start_time": "2024-09-08T19:18:47.516Z"
   },
   {
    "duration": 7,
    "start_time": "2024-09-08T19:18:47.632Z"
   },
   {
    "duration": 220,
    "start_time": "2024-09-08T19:18:47.651Z"
   },
   {
    "duration": 8,
    "start_time": "2024-09-08T19:18:47.872Z"
   },
   {
    "duration": 199,
    "start_time": "2024-09-08T19:18:47.881Z"
   },
   {
    "duration": 230,
    "start_time": "2024-09-08T19:18:48.082Z"
   },
   {
    "duration": 198,
    "start_time": "2024-09-08T19:18:48.313Z"
   },
   {
    "duration": 223,
    "start_time": "2024-09-08T19:18:48.513Z"
   },
   {
    "duration": 104,
    "start_time": "2024-09-08T19:18:48.737Z"
   },
   {
    "duration": 231,
    "start_time": "2024-09-08T19:18:48.843Z"
   },
   {
    "duration": 109,
    "start_time": "2024-09-08T19:18:49.078Z"
   },
   {
    "duration": 235,
    "start_time": "2024-09-08T19:18:49.189Z"
   },
   {
    "duration": 128,
    "start_time": "2024-09-08T19:18:49.425Z"
   },
   {
    "duration": 122,
    "start_time": "2024-09-08T19:18:49.555Z"
   },
   {
    "duration": 208,
    "start_time": "2024-09-08T19:18:49.678Z"
   },
   {
    "duration": 208,
    "start_time": "2024-09-08T19:18:49.888Z"
   },
   {
    "duration": 236,
    "start_time": "2024-09-08T19:18:50.097Z"
   },
   {
    "duration": 118,
    "start_time": "2024-09-08T19:18:50.335Z"
   },
   {
    "duration": 30,
    "start_time": "2024-09-08T19:18:50.455Z"
   },
   {
    "duration": 588,
    "start_time": "2024-09-08T19:18:50.487Z"
   },
   {
    "duration": 30,
    "start_time": "2024-09-08T19:18:51.077Z"
   },
   {
    "duration": 125,
    "start_time": "2024-09-08T19:18:51.109Z"
   },
   {
    "duration": 11,
    "start_time": "2024-09-08T19:21:06.213Z"
   },
   {
    "duration": 13,
    "start_time": "2024-09-08T19:21:11.484Z"
   },
   {
    "duration": 2883,
    "start_time": "2024-09-08T19:21:45.892Z"
   },
   {
    "duration": 2378,
    "start_time": "2024-09-08T19:21:48.778Z"
   },
   {
    "duration": 1259,
    "start_time": "2024-09-08T19:21:51.158Z"
   },
   {
    "duration": 864,
    "start_time": "2024-09-08T19:21:52.419Z"
   },
   {
    "duration": 4,
    "start_time": "2024-09-08T19:21:53.284Z"
   },
   {
    "duration": 911,
    "start_time": "2024-09-08T19:21:53.289Z"
   },
   {
    "duration": 513,
    "start_time": "2024-09-08T19:21:54.202Z"
   },
   {
    "duration": 6,
    "start_time": "2024-09-08T19:21:54.716Z"
   },
   {
    "duration": 207,
    "start_time": "2024-09-08T19:21:54.724Z"
   },
   {
    "duration": 2,
    "start_time": "2024-09-08T19:21:54.933Z"
   },
   {
    "duration": 3,
    "start_time": "2024-09-08T19:21:54.936Z"
   },
   {
    "duration": 13,
    "start_time": "2024-09-08T19:21:54.940Z"
   },
   {
    "duration": 823,
    "start_time": "2024-09-08T19:21:54.954Z"
   },
   {
    "duration": 332,
    "start_time": "2024-09-08T19:21:55.778Z"
   },
   {
    "duration": 152,
    "start_time": "2024-09-08T19:21:56.112Z"
   },
   {
    "duration": 229,
    "start_time": "2024-09-08T19:21:56.266Z"
   },
   {
    "duration": 121,
    "start_time": "2024-09-08T19:21:56.497Z"
   },
   {
    "duration": 7,
    "start_time": "2024-09-08T19:21:56.620Z"
   },
   {
    "duration": 229,
    "start_time": "2024-09-08T19:21:56.628Z"
   },
   {
    "duration": 7,
    "start_time": "2024-09-08T19:21:56.859Z"
   },
   {
    "duration": 202,
    "start_time": "2024-09-08T19:21:56.867Z"
   },
   {
    "duration": 225,
    "start_time": "2024-09-08T19:21:57.071Z"
   },
   {
    "duration": 201,
    "start_time": "2024-09-08T19:21:57.298Z"
   },
   {
    "duration": 225,
    "start_time": "2024-09-08T19:21:57.501Z"
   },
   {
    "duration": 99,
    "start_time": "2024-09-08T19:21:57.728Z"
   },
   {
    "duration": 226,
    "start_time": "2024-09-08T19:21:57.829Z"
   },
   {
    "duration": 111,
    "start_time": "2024-09-08T19:21:58.057Z"
   },
   {
    "duration": 236,
    "start_time": "2024-09-08T19:21:58.171Z"
   },
   {
    "duration": 135,
    "start_time": "2024-09-08T19:21:58.409Z"
   },
   {
    "duration": 132,
    "start_time": "2024-09-08T19:21:58.545Z"
   },
   {
    "duration": 214,
    "start_time": "2024-09-08T19:21:58.679Z"
   },
   {
    "duration": 206,
    "start_time": "2024-09-08T19:21:58.895Z"
   },
   {
    "duration": 228,
    "start_time": "2024-09-08T19:21:59.102Z"
   },
   {
    "duration": 107,
    "start_time": "2024-09-08T19:21:59.332Z"
   },
   {
    "duration": 41,
    "start_time": "2024-09-08T19:21:59.440Z"
   },
   {
    "duration": 577,
    "start_time": "2024-09-08T19:21:59.482Z"
   },
   {
    "duration": 32,
    "start_time": "2024-09-08T19:22:00.061Z"
   },
   {
    "duration": 2,
    "start_time": "2024-09-08T19:22:00.095Z"
   },
   {
    "duration": 114,
    "start_time": "2024-09-08T19:22:11.953Z"
   },
   {
    "duration": 2899,
    "start_time": "2024-09-08T19:26:59.670Z"
   },
   {
    "duration": 2430,
    "start_time": "2024-09-08T19:27:02.571Z"
   },
   {
    "duration": 1245,
    "start_time": "2024-09-08T19:27:05.003Z"
   },
   {
    "duration": 873,
    "start_time": "2024-09-08T19:27:06.251Z"
   },
   {
    "duration": 4,
    "start_time": "2024-09-08T19:27:07.125Z"
   },
   {
    "duration": 871,
    "start_time": "2024-09-08T19:27:07.131Z"
   },
   {
    "duration": 521,
    "start_time": "2024-09-08T19:27:08.004Z"
   },
   {
    "duration": 6,
    "start_time": "2024-09-08T19:27:08.527Z"
   },
   {
    "duration": 220,
    "start_time": "2024-09-08T19:27:08.534Z"
   },
   {
    "duration": 2,
    "start_time": "2024-09-08T19:27:08.757Z"
   },
   {
    "duration": 4,
    "start_time": "2024-09-08T19:27:08.760Z"
   },
   {
    "duration": 4,
    "start_time": "2024-09-08T19:27:08.766Z"
   },
   {
    "duration": 836,
    "start_time": "2024-09-08T19:27:08.772Z"
   },
   {
    "duration": 319,
    "start_time": "2024-09-08T19:27:09.609Z"
   },
   {
    "duration": 148,
    "start_time": "2024-09-08T19:27:09.930Z"
   },
   {
    "duration": 222,
    "start_time": "2024-09-08T19:27:10.080Z"
   },
   {
    "duration": 112,
    "start_time": "2024-09-08T19:27:10.303Z"
   },
   {
    "duration": 8,
    "start_time": "2024-09-08T19:27:10.416Z"
   },
   {
    "duration": 235,
    "start_time": "2024-09-08T19:27:10.426Z"
   },
   {
    "duration": 8,
    "start_time": "2024-09-08T19:27:10.662Z"
   },
   {
    "duration": 206,
    "start_time": "2024-09-08T19:27:10.671Z"
   },
   {
    "duration": 233,
    "start_time": "2024-09-08T19:27:10.879Z"
   },
   {
    "duration": 202,
    "start_time": "2024-09-08T19:27:11.114Z"
   },
   {
    "duration": 226,
    "start_time": "2024-09-08T19:27:11.317Z"
   },
   {
    "duration": 99,
    "start_time": "2024-09-08T19:27:11.545Z"
   },
   {
    "duration": 232,
    "start_time": "2024-09-08T19:27:11.645Z"
   },
   {
    "duration": 109,
    "start_time": "2024-09-08T19:27:11.879Z"
   },
   {
    "duration": 239,
    "start_time": "2024-09-08T19:27:11.992Z"
   },
   {
    "duration": 134,
    "start_time": "2024-09-08T19:27:12.233Z"
   },
   {
    "duration": 127,
    "start_time": "2024-09-08T19:27:12.369Z"
   },
   {
    "duration": 216,
    "start_time": "2024-09-08T19:27:12.497Z"
   },
   {
    "duration": 211,
    "start_time": "2024-09-08T19:27:12.715Z"
   },
   {
    "duration": 241,
    "start_time": "2024-09-08T19:27:12.927Z"
   },
   {
    "duration": 113,
    "start_time": "2024-09-08T19:27:13.169Z"
   },
   {
    "duration": 29,
    "start_time": "2024-09-08T19:27:13.284Z"
   },
   {
    "duration": 594,
    "start_time": "2024-09-08T19:27:13.315Z"
   },
   {
    "duration": 56,
    "start_time": "2024-09-08T19:27:13.912Z"
   },
   {
    "duration": 127,
    "start_time": "2024-09-08T19:27:13.971Z"
   },
   {
    "duration": 3055,
    "start_time": "2024-09-08T19:31:04.558Z"
   },
   {
    "duration": 2359,
    "start_time": "2024-09-08T19:31:07.615Z"
   },
   {
    "duration": 1239,
    "start_time": "2024-09-08T19:31:09.978Z"
   },
   {
    "duration": 870,
    "start_time": "2024-09-08T19:31:11.219Z"
   },
   {
    "duration": 4,
    "start_time": "2024-09-08T19:31:12.091Z"
   },
   {
    "duration": 865,
    "start_time": "2024-09-08T19:31:12.096Z"
   },
   {
    "duration": 511,
    "start_time": "2024-09-08T19:31:12.962Z"
   },
   {
    "duration": 7,
    "start_time": "2024-09-08T19:31:13.474Z"
   },
   {
    "duration": 215,
    "start_time": "2024-09-08T19:31:13.483Z"
   },
   {
    "duration": 2,
    "start_time": "2024-09-08T19:31:13.700Z"
   },
   {
    "duration": 23,
    "start_time": "2024-09-08T19:31:13.704Z"
   },
   {
    "duration": 5,
    "start_time": "2024-09-08T19:31:13.728Z"
   },
   {
    "duration": 859,
    "start_time": "2024-09-08T19:31:13.734Z"
   },
   {
    "duration": 321,
    "start_time": "2024-09-08T19:31:14.594Z"
   },
   {
    "duration": 160,
    "start_time": "2024-09-08T19:31:14.917Z"
   },
   {
    "duration": 246,
    "start_time": "2024-09-08T19:31:15.080Z"
   },
   {
    "duration": 124,
    "start_time": "2024-09-08T19:31:15.328Z"
   },
   {
    "duration": 9,
    "start_time": "2024-09-08T19:31:15.453Z"
   },
   {
    "duration": 261,
    "start_time": "2024-09-08T19:31:15.463Z"
   },
   {
    "duration": 8,
    "start_time": "2024-09-08T19:31:15.726Z"
   },
   {
    "duration": 213,
    "start_time": "2024-09-08T19:31:15.735Z"
   },
   {
    "duration": 248,
    "start_time": "2024-09-08T19:31:15.952Z"
   },
   {
    "duration": 204,
    "start_time": "2024-09-08T19:31:16.201Z"
   },
   {
    "duration": 227,
    "start_time": "2024-09-08T19:31:16.407Z"
   },
   {
    "duration": 103,
    "start_time": "2024-09-08T19:31:16.636Z"
   },
   {
    "duration": 233,
    "start_time": "2024-09-08T19:31:16.741Z"
   },
   {
    "duration": 111,
    "start_time": "2024-09-08T19:31:16.978Z"
   },
   {
    "duration": 238,
    "start_time": "2024-09-08T19:31:17.091Z"
   },
   {
    "duration": 132,
    "start_time": "2024-09-08T19:31:17.331Z"
   },
   {
    "duration": 130,
    "start_time": "2024-09-08T19:31:17.465Z"
   },
   {
    "duration": 206,
    "start_time": "2024-09-08T19:31:17.596Z"
   },
   {
    "duration": 199,
    "start_time": "2024-09-08T19:31:17.804Z"
   },
   {
    "duration": 227,
    "start_time": "2024-09-08T19:31:18.005Z"
   },
   {
    "duration": 112,
    "start_time": "2024-09-08T19:31:18.233Z"
   },
   {
    "duration": 31,
    "start_time": "2024-09-08T19:31:18.347Z"
   },
   {
    "duration": 575,
    "start_time": "2024-09-08T19:31:18.380Z"
   },
   {
    "duration": 32,
    "start_time": "2024-09-08T19:31:18.957Z"
   },
   {
    "duration": 135,
    "start_time": "2024-09-08T19:31:18.990Z"
   },
   {
    "duration": 2916,
    "start_time": "2024-09-08T19:32:16.183Z"
   },
   {
    "duration": 2419,
    "start_time": "2024-09-08T19:32:19.101Z"
   },
   {
    "duration": 1288,
    "start_time": "2024-09-08T19:32:21.522Z"
   },
   {
    "duration": 873,
    "start_time": "2024-09-08T19:32:22.812Z"
   },
   {
    "duration": 4,
    "start_time": "2024-09-08T19:32:23.687Z"
   },
   {
    "duration": 909,
    "start_time": "2024-09-08T19:32:23.692Z"
   },
   {
    "duration": 516,
    "start_time": "2024-09-08T19:32:24.603Z"
   },
   {
    "duration": 6,
    "start_time": "2024-09-08T19:32:25.121Z"
   },
   {
    "duration": 216,
    "start_time": "2024-09-08T19:32:25.128Z"
   },
   {
    "duration": 6,
    "start_time": "2024-09-08T19:32:25.346Z"
   },
   {
    "duration": 32,
    "start_time": "2024-09-08T19:32:25.353Z"
   },
   {
    "duration": 4,
    "start_time": "2024-09-08T19:32:25.387Z"
   },
   {
    "duration": 854,
    "start_time": "2024-09-08T19:32:25.393Z"
   },
   {
    "duration": 318,
    "start_time": "2024-09-08T19:32:26.251Z"
   },
   {
    "duration": 154,
    "start_time": "2024-09-08T19:32:26.571Z"
   },
   {
    "duration": 233,
    "start_time": "2024-09-08T19:32:26.727Z"
   },
   {
    "duration": 119,
    "start_time": "2024-09-08T19:32:26.962Z"
   },
   {
    "duration": 8,
    "start_time": "2024-09-08T19:32:27.082Z"
   },
   {
    "duration": 245,
    "start_time": "2024-09-08T19:32:27.091Z"
   },
   {
    "duration": 15,
    "start_time": "2024-09-08T19:32:27.338Z"
   },
   {
    "duration": 218,
    "start_time": "2024-09-08T19:32:27.354Z"
   },
   {
    "duration": 223,
    "start_time": "2024-09-08T19:32:27.573Z"
   },
   {
    "duration": 211,
    "start_time": "2024-09-08T19:32:27.798Z"
   },
   {
    "duration": 231,
    "start_time": "2024-09-08T19:32:28.011Z"
   },
   {
    "duration": 100,
    "start_time": "2024-09-08T19:32:28.252Z"
   },
   {
    "duration": 230,
    "start_time": "2024-09-08T19:32:28.353Z"
   },
   {
    "duration": 112,
    "start_time": "2024-09-08T19:32:28.585Z"
   },
   {
    "duration": 247,
    "start_time": "2024-09-08T19:32:28.701Z"
   },
   {
    "duration": 136,
    "start_time": "2024-09-08T19:32:28.952Z"
   },
   {
    "duration": 129,
    "start_time": "2024-09-08T19:32:29.090Z"
   },
   {
    "duration": 207,
    "start_time": "2024-09-08T19:32:29.221Z"
   },
   {
    "duration": 216,
    "start_time": "2024-09-08T19:32:29.430Z"
   },
   {
    "duration": 233,
    "start_time": "2024-09-08T19:32:29.647Z"
   },
   {
    "duration": 116,
    "start_time": "2024-09-08T19:32:29.881Z"
   },
   {
    "duration": 31,
    "start_time": "2024-09-08T19:32:29.999Z"
   },
   {
    "duration": 563,
    "start_time": "2024-09-08T19:32:30.032Z"
   },
   {
    "duration": 33,
    "start_time": "2024-09-08T19:32:30.598Z"
   },
   {
    "duration": 135,
    "start_time": "2024-09-08T19:32:30.633Z"
   },
   {
    "duration": 0,
    "start_time": "2024-09-08T19:32:30.769Z"
   },
   {
    "duration": 2962,
    "start_time": "2024-09-08T19:33:21.603Z"
   },
   {
    "duration": 2358,
    "start_time": "2024-09-08T19:33:24.567Z"
   },
   {
    "duration": 1301,
    "start_time": "2024-09-08T19:33:26.927Z"
   },
   {
    "duration": 866,
    "start_time": "2024-09-08T19:33:28.229Z"
   },
   {
    "duration": 5,
    "start_time": "2024-09-08T19:33:29.097Z"
   },
   {
    "duration": 869,
    "start_time": "2024-09-08T19:33:29.103Z"
   },
   {
    "duration": 491,
    "start_time": "2024-09-08T19:33:29.974Z"
   },
   {
    "duration": 7,
    "start_time": "2024-09-08T19:33:30.467Z"
   },
   {
    "duration": 209,
    "start_time": "2024-09-08T19:33:30.475Z"
   },
   {
    "duration": 3,
    "start_time": "2024-09-08T19:33:30.685Z"
   },
   {
    "duration": 4,
    "start_time": "2024-09-08T19:33:30.689Z"
   },
   {
    "duration": 3,
    "start_time": "2024-09-08T19:33:30.695Z"
   },
   {
    "duration": 828,
    "start_time": "2024-09-08T19:33:30.700Z"
   },
   {
    "duration": 345,
    "start_time": "2024-09-08T19:33:31.531Z"
   },
   {
    "duration": 149,
    "start_time": "2024-09-08T19:33:31.878Z"
   },
   {
    "duration": 224,
    "start_time": "2024-09-08T19:33:32.029Z"
   },
   {
    "duration": 125,
    "start_time": "2024-09-08T19:33:32.255Z"
   },
   {
    "duration": 7,
    "start_time": "2024-09-08T19:33:32.381Z"
   },
   {
    "duration": 229,
    "start_time": "2024-09-08T19:33:32.390Z"
   },
   {
    "duration": 7,
    "start_time": "2024-09-08T19:33:32.621Z"
   },
   {
    "duration": 207,
    "start_time": "2024-09-08T19:33:32.629Z"
   },
   {
    "duration": 237,
    "start_time": "2024-09-08T19:33:32.837Z"
   },
   {
    "duration": 203,
    "start_time": "2024-09-08T19:33:33.075Z"
   },
   {
    "duration": 218,
    "start_time": "2024-09-08T19:33:33.279Z"
   },
   {
    "duration": 104,
    "start_time": "2024-09-08T19:33:33.498Z"
   },
   {
    "duration": 226,
    "start_time": "2024-09-08T19:33:33.603Z"
   },
   {
    "duration": 143,
    "start_time": "2024-09-08T19:33:33.831Z"
   },
   {
    "duration": 239,
    "start_time": "2024-09-08T19:33:33.976Z"
   },
   {
    "duration": 132,
    "start_time": "2024-09-08T19:33:34.217Z"
   },
   {
    "duration": 121,
    "start_time": "2024-09-08T19:33:34.352Z"
   },
   {
    "duration": 213,
    "start_time": "2024-09-08T19:33:34.474Z"
   },
   {
    "duration": 203,
    "start_time": "2024-09-08T19:33:34.689Z"
   },
   {
    "duration": 229,
    "start_time": "2024-09-08T19:33:34.893Z"
   },
   {
    "duration": 113,
    "start_time": "2024-09-08T19:33:35.123Z"
   },
   {
    "duration": 38,
    "start_time": "2024-09-08T19:33:35.238Z"
   },
   {
    "duration": 581,
    "start_time": "2024-09-08T19:33:35.277Z"
   },
   {
    "duration": 27,
    "start_time": "2024-09-08T19:33:35.860Z"
   },
   {
    "duration": 384,
    "start_time": "2024-09-08T19:33:35.888Z"
   },
   {
    "duration": 512,
    "start_time": "2024-09-08T19:33:36.274Z"
   },
   {
    "duration": 48,
    "start_time": "2024-09-09T08:22:18.092Z"
   },
   {
    "duration": 7727,
    "start_time": "2024-09-09T08:22:26.888Z"
   },
   {
    "duration": 2955,
    "start_time": "2024-09-09T08:22:34.618Z"
   },
   {
    "duration": 1457,
    "start_time": "2024-09-09T08:22:37.575Z"
   },
   {
    "duration": 1191,
    "start_time": "2024-09-09T08:22:39.034Z"
   },
   {
    "duration": 3,
    "start_time": "2024-09-09T08:22:40.227Z"
   },
   {
    "duration": 897,
    "start_time": "2024-09-09T08:22:40.232Z"
   },
   {
    "duration": 533,
    "start_time": "2024-09-09T08:22:41.132Z"
   },
   {
    "duration": 7,
    "start_time": "2024-09-09T08:22:41.667Z"
   },
   {
    "duration": 223,
    "start_time": "2024-09-09T08:22:41.675Z"
   },
   {
    "duration": 2,
    "start_time": "2024-09-09T08:22:41.900Z"
   },
   {
    "duration": 9,
    "start_time": "2024-09-09T08:22:41.904Z"
   },
   {
    "duration": 13,
    "start_time": "2024-09-09T08:22:41.914Z"
   },
   {
    "duration": 854,
    "start_time": "2024-09-09T08:22:41.929Z"
   },
   {
    "duration": 335,
    "start_time": "2024-09-09T08:22:42.787Z"
   },
   {
    "duration": 155,
    "start_time": "2024-09-09T08:22:43.123Z"
   },
   {
    "duration": 235,
    "start_time": "2024-09-09T08:22:43.280Z"
   },
   {
    "duration": 119,
    "start_time": "2024-09-09T08:22:43.516Z"
   },
   {
    "duration": 16,
    "start_time": "2024-09-09T08:22:43.636Z"
   },
   {
    "duration": 238,
    "start_time": "2024-09-09T08:22:43.653Z"
   },
   {
    "duration": 12,
    "start_time": "2024-09-09T08:22:43.893Z"
   },
   {
    "duration": 229,
    "start_time": "2024-09-09T08:22:43.907Z"
   },
   {
    "duration": 241,
    "start_time": "2024-09-09T08:22:44.138Z"
   },
   {
    "duration": 209,
    "start_time": "2024-09-09T08:22:44.380Z"
   },
   {
    "duration": 239,
    "start_time": "2024-09-09T08:22:44.591Z"
   },
   {
    "duration": 105,
    "start_time": "2024-09-09T08:22:44.831Z"
   },
   {
    "duration": 231,
    "start_time": "2024-09-09T08:22:44.938Z"
   },
   {
    "duration": 116,
    "start_time": "2024-09-09T08:22:45.170Z"
   },
   {
    "duration": 250,
    "start_time": "2024-09-09T08:22:45.288Z"
   },
   {
    "duration": 136,
    "start_time": "2024-09-09T08:22:45.540Z"
   },
   {
    "duration": 129,
    "start_time": "2024-09-09T08:22:45.677Z"
   },
   {
    "duration": 230,
    "start_time": "2024-09-09T08:22:45.808Z"
   },
   {
    "duration": 214,
    "start_time": "2024-09-09T08:22:46.040Z"
   },
   {
    "duration": 245,
    "start_time": "2024-09-09T08:22:46.256Z"
   },
   {
    "duration": 117,
    "start_time": "2024-09-09T08:22:46.503Z"
   },
   {
    "duration": 38,
    "start_time": "2024-09-09T08:22:46.622Z"
   },
   {
    "duration": 654,
    "start_time": "2024-09-09T08:22:46.661Z"
   },
   {
    "duration": 36,
    "start_time": "2024-09-09T08:22:47.316Z"
   },
   {
    "duration": 379,
    "start_time": "2024-09-09T08:22:47.354Z"
   },
   {
    "duration": 599,
    "start_time": "2024-09-09T08:22:47.734Z"
   },
   {
    "duration": 790,
    "start_time": "2024-09-09T08:22:48.335Z"
   },
   {
    "duration": 9,
    "start_time": "2024-09-09T08:24:29.500Z"
   },
   {
    "duration": 4,
    "start_time": "2024-09-09T08:24:35.684Z"
   },
   {
    "duration": 32,
    "start_time": "2024-09-09T08:26:25.174Z"
   },
   {
    "duration": 137,
    "start_time": "2024-09-09T08:27:27.222Z"
   },
   {
    "duration": 12,
    "start_time": "2024-09-09T08:27:59.217Z"
   },
   {
    "duration": 117,
    "start_time": "2024-09-09T08:28:10.605Z"
   },
   {
    "duration": 134,
    "start_time": "2024-09-09T08:28:26.531Z"
   },
   {
    "duration": 11,
    "start_time": "2024-09-09T08:28:43.012Z"
   },
   {
    "duration": 3,
    "start_time": "2024-09-09T08:28:56.981Z"
   },
   {
    "duration": 2,
    "start_time": "2024-09-09T08:29:00.365Z"
   },
   {
    "duration": 3018,
    "start_time": "2024-09-09T08:29:11.988Z"
   },
   {
    "duration": 2455,
    "start_time": "2024-09-09T08:29:15.008Z"
   },
   {
    "duration": 1310,
    "start_time": "2024-09-09T08:29:17.465Z"
   },
   {
    "duration": 914,
    "start_time": "2024-09-09T08:29:18.777Z"
   },
   {
    "duration": 3,
    "start_time": "2024-09-09T08:29:19.693Z"
   },
   {
    "duration": 925,
    "start_time": "2024-09-09T08:29:19.698Z"
   },
   {
    "duration": 502,
    "start_time": "2024-09-09T08:29:20.624Z"
   },
   {
    "duration": 6,
    "start_time": "2024-09-09T08:29:21.128Z"
   },
   {
    "duration": 211,
    "start_time": "2024-09-09T08:29:21.136Z"
   },
   {
    "duration": 3,
    "start_time": "2024-09-09T08:29:21.349Z"
   },
   {
    "duration": 4,
    "start_time": "2024-09-09T08:29:21.353Z"
   },
   {
    "duration": 66,
    "start_time": "2024-09-09T08:29:21.358Z"
   },
   {
    "duration": 840,
    "start_time": "2024-09-09T08:29:21.425Z"
   },
   {
    "duration": 312,
    "start_time": "2024-09-09T08:29:22.267Z"
   },
   {
    "duration": 155,
    "start_time": "2024-09-09T08:29:22.581Z"
   },
   {
    "duration": 222,
    "start_time": "2024-09-09T08:29:22.737Z"
   },
   {
    "duration": 122,
    "start_time": "2024-09-09T08:29:22.961Z"
   },
   {
    "duration": 8,
    "start_time": "2024-09-09T08:29:23.084Z"
   },
   {
    "duration": 229,
    "start_time": "2024-09-09T08:29:23.094Z"
   },
   {
    "duration": 8,
    "start_time": "2024-09-09T08:29:23.324Z"
   },
   {
    "duration": 204,
    "start_time": "2024-09-09T08:29:23.333Z"
   },
   {
    "duration": 234,
    "start_time": "2024-09-09T08:29:23.539Z"
   },
   {
    "duration": 245,
    "start_time": "2024-09-09T08:29:23.775Z"
   },
   {
    "duration": 220,
    "start_time": "2024-09-09T08:29:24.021Z"
   },
   {
    "duration": 101,
    "start_time": "2024-09-09T08:29:24.243Z"
   },
   {
    "duration": 237,
    "start_time": "2024-09-09T08:29:24.345Z"
   },
   {
    "duration": 108,
    "start_time": "2024-09-09T08:29:24.583Z"
   },
   {
    "duration": 250,
    "start_time": "2024-09-09T08:29:24.695Z"
   },
   {
    "duration": 137,
    "start_time": "2024-09-09T08:29:24.946Z"
   },
   {
    "duration": 130,
    "start_time": "2024-09-09T08:29:25.085Z"
   },
   {
    "duration": 216,
    "start_time": "2024-09-09T08:29:25.217Z"
   },
   {
    "duration": 211,
    "start_time": "2024-09-09T08:29:25.435Z"
   },
   {
    "duration": 236,
    "start_time": "2024-09-09T08:29:25.647Z"
   },
   {
    "duration": 114,
    "start_time": "2024-09-09T08:29:25.884Z"
   },
   {
    "duration": 30,
    "start_time": "2024-09-09T08:29:26.000Z"
   },
   {
    "duration": 556,
    "start_time": "2024-09-09T08:29:26.032Z"
   },
   {
    "duration": 26,
    "start_time": "2024-09-09T08:29:26.589Z"
   },
   {
    "duration": 355,
    "start_time": "2024-09-09T08:29:26.617Z"
   },
   {
    "duration": 535,
    "start_time": "2024-09-09T08:29:26.974Z"
   },
   {
    "duration": 125,
    "start_time": "2024-09-09T08:29:27.511Z"
   },
   {
    "duration": 2985,
    "start_time": "2024-09-09T08:31:18.204Z"
   },
   {
    "duration": 2424,
    "start_time": "2024-09-09T08:31:21.191Z"
   },
   {
    "duration": 1318,
    "start_time": "2024-09-09T08:31:23.617Z"
   },
   {
    "duration": 875,
    "start_time": "2024-09-09T08:31:24.937Z"
   },
   {
    "duration": 6,
    "start_time": "2024-09-09T08:31:25.814Z"
   },
   {
    "duration": 873,
    "start_time": "2024-09-09T08:31:25.822Z"
   },
   {
    "duration": 514,
    "start_time": "2024-09-09T08:31:26.696Z"
   },
   {
    "duration": 6,
    "start_time": "2024-09-09T08:31:27.212Z"
   },
   {
    "duration": 377,
    "start_time": "2024-09-09T08:31:27.220Z"
   },
   {
    "duration": 2,
    "start_time": "2024-09-09T08:31:27.599Z"
   },
   {
    "duration": 6,
    "start_time": "2024-09-09T08:31:27.603Z"
   },
   {
    "duration": 4,
    "start_time": "2024-09-09T08:31:27.610Z"
   },
   {
    "duration": 819,
    "start_time": "2024-09-09T08:31:27.615Z"
   },
   {
    "duration": 316,
    "start_time": "2024-09-09T08:31:28.437Z"
   },
   {
    "duration": 155,
    "start_time": "2024-09-09T08:31:28.755Z"
   },
   {
    "duration": 231,
    "start_time": "2024-09-09T08:31:28.912Z"
   },
   {
    "duration": 114,
    "start_time": "2024-09-09T08:31:29.151Z"
   },
   {
    "duration": 9,
    "start_time": "2024-09-09T08:31:29.267Z"
   },
   {
    "duration": 241,
    "start_time": "2024-09-09T08:31:29.278Z"
   },
   {
    "duration": 8,
    "start_time": "2024-09-09T08:31:29.521Z"
   },
   {
    "duration": 202,
    "start_time": "2024-09-09T08:31:29.531Z"
   },
   {
    "duration": 231,
    "start_time": "2024-09-09T08:31:29.734Z"
   },
   {
    "duration": 196,
    "start_time": "2024-09-09T08:31:29.967Z"
   },
   {
    "duration": 240,
    "start_time": "2024-09-09T08:31:30.165Z"
   },
   {
    "duration": 102,
    "start_time": "2024-09-09T08:31:30.407Z"
   },
   {
    "duration": 225,
    "start_time": "2024-09-09T08:31:30.510Z"
   },
   {
    "duration": 109,
    "start_time": "2024-09-09T08:31:30.737Z"
   },
   {
    "duration": 234,
    "start_time": "2024-09-09T08:31:30.852Z"
   },
   {
    "duration": 135,
    "start_time": "2024-09-09T08:31:31.088Z"
   },
   {
    "duration": 118,
    "start_time": "2024-09-09T08:31:31.225Z"
   },
   {
    "duration": 208,
    "start_time": "2024-09-09T08:31:31.345Z"
   },
   {
    "duration": 199,
    "start_time": "2024-09-09T08:31:31.554Z"
   },
   {
    "duration": 238,
    "start_time": "2024-09-09T08:31:31.754Z"
   },
   {
    "duration": 122,
    "start_time": "2024-09-09T08:31:31.994Z"
   },
   {
    "duration": 43,
    "start_time": "2024-09-09T08:31:32.118Z"
   },
   {
    "duration": 591,
    "start_time": "2024-09-09T08:31:32.162Z"
   },
   {
    "duration": 26,
    "start_time": "2024-09-09T08:31:32.754Z"
   },
   {
    "duration": 345,
    "start_time": "2024-09-09T08:31:32.782Z"
   },
   {
    "duration": 525,
    "start_time": "2024-09-09T08:31:33.128Z"
   },
   {
    "duration": 3,
    "start_time": "2024-09-09T08:31:33.654Z"
   },
   {
    "duration": 785,
    "start_time": "2024-09-09T08:31:42.854Z"
   },
   {
    "duration": 2973,
    "start_time": "2024-09-09T08:33:39.576Z"
   },
   {
    "duration": 2527,
    "start_time": "2024-09-09T08:33:42.552Z"
   },
   {
    "duration": 1274,
    "start_time": "2024-09-09T08:33:45.081Z"
   },
   {
    "duration": 891,
    "start_time": "2024-09-09T08:33:46.357Z"
   },
   {
    "duration": 5,
    "start_time": "2024-09-09T08:33:47.251Z"
   },
   {
    "duration": 878,
    "start_time": "2024-09-09T08:33:47.258Z"
   },
   {
    "duration": 499,
    "start_time": "2024-09-09T08:33:48.138Z"
   },
   {
    "duration": 7,
    "start_time": "2024-09-09T08:33:48.638Z"
   },
   {
    "duration": 370,
    "start_time": "2024-09-09T08:33:48.647Z"
   },
   {
    "duration": 2,
    "start_time": "2024-09-09T08:33:49.019Z"
   },
   {
    "duration": 12,
    "start_time": "2024-09-09T08:33:49.022Z"
   },
   {
    "duration": 14,
    "start_time": "2024-09-09T08:33:49.035Z"
   },
   {
    "duration": 804,
    "start_time": "2024-09-09T08:33:49.050Z"
   },
   {
    "duration": 309,
    "start_time": "2024-09-09T08:33:49.855Z"
   },
   {
    "duration": 145,
    "start_time": "2024-09-09T08:33:50.166Z"
   },
   {
    "duration": 224,
    "start_time": "2024-09-09T08:33:50.312Z"
   },
   {
    "duration": 106,
    "start_time": "2024-09-09T08:33:50.538Z"
   },
   {
    "duration": 11,
    "start_time": "2024-09-09T08:33:50.645Z"
   },
   {
    "duration": 221,
    "start_time": "2024-09-09T08:33:50.658Z"
   },
   {
    "duration": 8,
    "start_time": "2024-09-09T08:33:50.880Z"
   },
   {
    "duration": 206,
    "start_time": "2024-09-09T08:33:50.889Z"
   },
   {
    "duration": 229,
    "start_time": "2024-09-09T08:33:51.096Z"
   },
   {
    "duration": 203,
    "start_time": "2024-09-09T08:33:51.327Z"
   },
   {
    "duration": 230,
    "start_time": "2024-09-09T08:33:51.531Z"
   },
   {
    "duration": 107,
    "start_time": "2024-09-09T08:33:51.763Z"
   },
   {
    "duration": 230,
    "start_time": "2024-09-09T08:33:51.872Z"
   },
   {
    "duration": 105,
    "start_time": "2024-09-09T08:33:52.103Z"
   },
   {
    "duration": 243,
    "start_time": "2024-09-09T08:33:52.211Z"
   },
   {
    "duration": 125,
    "start_time": "2024-09-09T08:33:52.456Z"
   },
   {
    "duration": 124,
    "start_time": "2024-09-09T08:33:52.583Z"
   },
   {
    "duration": 226,
    "start_time": "2024-09-09T08:33:52.709Z"
   },
   {
    "duration": 206,
    "start_time": "2024-09-09T08:33:52.936Z"
   },
   {
    "duration": 231,
    "start_time": "2024-09-09T08:33:53.144Z"
   },
   {
    "duration": 118,
    "start_time": "2024-09-09T08:33:53.377Z"
   },
   {
    "duration": 29,
    "start_time": "2024-09-09T08:33:53.497Z"
   },
   {
    "duration": 596,
    "start_time": "2024-09-09T08:33:53.527Z"
   },
   {
    "duration": 33,
    "start_time": "2024-09-09T08:33:54.125Z"
   },
   {
    "duration": 345,
    "start_time": "2024-09-09T08:33:54.160Z"
   },
   {
    "duration": 656,
    "start_time": "2024-09-09T08:33:54.507Z"
   },
   {
    "duration": 0,
    "start_time": "2024-09-09T08:33:55.165Z"
   },
   {
    "duration": 0,
    "start_time": "2024-09-09T08:33:55.166Z"
   },
   {
    "duration": 0,
    "start_time": "2024-09-09T08:33:55.167Z"
   },
   {
    "duration": 2968,
    "start_time": "2024-09-09T08:36:46.071Z"
   },
   {
    "duration": 2406,
    "start_time": "2024-09-09T08:36:49.042Z"
   },
   {
    "duration": 1312,
    "start_time": "2024-09-09T08:36:51.450Z"
   },
   {
    "duration": 888,
    "start_time": "2024-09-09T08:36:52.764Z"
   },
   {
    "duration": 4,
    "start_time": "2024-09-09T08:36:53.654Z"
   },
   {
    "duration": 924,
    "start_time": "2024-09-09T08:36:53.659Z"
   },
   {
    "duration": 484,
    "start_time": "2024-09-09T08:36:54.585Z"
   },
   {
    "duration": 6,
    "start_time": "2024-09-09T08:36:55.071Z"
   },
   {
    "duration": 391,
    "start_time": "2024-09-09T08:36:55.078Z"
   },
   {
    "duration": 3,
    "start_time": "2024-09-09T08:36:55.471Z"
   },
   {
    "duration": 6,
    "start_time": "2024-09-09T08:36:55.476Z"
   },
   {
    "duration": 16,
    "start_time": "2024-09-09T08:36:55.483Z"
   },
   {
    "duration": 831,
    "start_time": "2024-09-09T08:36:55.501Z"
   },
   {
    "duration": 324,
    "start_time": "2024-09-09T08:36:56.334Z"
   },
   {
    "duration": 155,
    "start_time": "2024-09-09T08:36:56.660Z"
   },
   {
    "duration": 235,
    "start_time": "2024-09-09T08:36:56.817Z"
   },
   {
    "duration": 119,
    "start_time": "2024-09-09T08:36:57.054Z"
   },
   {
    "duration": 8,
    "start_time": "2024-09-09T08:36:57.174Z"
   },
   {
    "duration": 280,
    "start_time": "2024-09-09T08:36:57.184Z"
   },
   {
    "duration": 8,
    "start_time": "2024-09-09T08:36:57.465Z"
   },
   {
    "duration": 201,
    "start_time": "2024-09-09T08:36:57.475Z"
   },
   {
    "duration": 231,
    "start_time": "2024-09-09T08:36:57.677Z"
   },
   {
    "duration": 204,
    "start_time": "2024-09-09T08:36:57.909Z"
   },
   {
    "duration": 220,
    "start_time": "2024-09-09T08:36:58.115Z"
   },
   {
    "duration": 107,
    "start_time": "2024-09-09T08:36:58.336Z"
   },
   {
    "duration": 221,
    "start_time": "2024-09-09T08:36:58.452Z"
   },
   {
    "duration": 109,
    "start_time": "2024-09-09T08:36:58.675Z"
   },
   {
    "duration": 247,
    "start_time": "2024-09-09T08:36:58.787Z"
   },
   {
    "duration": 135,
    "start_time": "2024-09-09T08:36:59.035Z"
   },
   {
    "duration": 126,
    "start_time": "2024-09-09T08:36:59.172Z"
   },
   {
    "duration": 219,
    "start_time": "2024-09-09T08:36:59.299Z"
   },
   {
    "duration": 209,
    "start_time": "2024-09-09T08:36:59.519Z"
   },
   {
    "duration": 237,
    "start_time": "2024-09-09T08:36:59.729Z"
   },
   {
    "duration": 119,
    "start_time": "2024-09-09T08:36:59.967Z"
   },
   {
    "duration": 30,
    "start_time": "2024-09-09T08:37:00.088Z"
   },
   {
    "duration": 600,
    "start_time": "2024-09-09T08:37:00.120Z"
   },
   {
    "duration": 36,
    "start_time": "2024-09-09T08:37:00.722Z"
   },
   {
    "duration": 376,
    "start_time": "2024-09-09T08:37:00.760Z"
   },
   {
    "duration": 70,
    "start_time": "2024-09-09T08:37:01.137Z"
   },
   {
    "duration": 18,
    "start_time": "2024-09-09T08:37:01.208Z"
   },
   {
    "duration": 10,
    "start_time": "2024-09-09T08:37:01.228Z"
   },
   {
    "duration": 3105,
    "start_time": "2024-09-09T08:45:45.228Z"
   },
   {
    "duration": 2471,
    "start_time": "2024-09-09T08:45:48.335Z"
   },
   {
    "duration": 1319,
    "start_time": "2024-09-09T08:45:50.808Z"
   },
   {
    "duration": 920,
    "start_time": "2024-09-09T08:45:52.128Z"
   },
   {
    "duration": 4,
    "start_time": "2024-09-09T08:45:53.053Z"
   },
   {
    "duration": 923,
    "start_time": "2024-09-09T08:45:53.058Z"
   },
   {
    "duration": 551,
    "start_time": "2024-09-09T08:45:53.983Z"
   },
   {
    "duration": 8,
    "start_time": "2024-09-09T08:45:54.535Z"
   },
   {
    "duration": 438,
    "start_time": "2024-09-09T08:45:54.552Z"
   },
   {
    "duration": 2,
    "start_time": "2024-09-09T08:45:54.991Z"
   },
   {
    "duration": 4,
    "start_time": "2024-09-09T08:45:54.995Z"
   },
   {
    "duration": 5,
    "start_time": "2024-09-09T08:45:55.000Z"
   },
   {
    "duration": 878,
    "start_time": "2024-09-09T08:45:55.006Z"
   },
   {
    "duration": 334,
    "start_time": "2024-09-09T08:45:55.887Z"
   },
   {
    "duration": 149,
    "start_time": "2024-09-09T08:45:56.223Z"
   },
   {
    "duration": 236,
    "start_time": "2024-09-09T08:45:56.374Z"
   },
   {
    "duration": 122,
    "start_time": "2024-09-09T08:45:56.611Z"
   },
   {
    "duration": 17,
    "start_time": "2024-09-09T08:45:56.735Z"
   },
   {
    "duration": 237,
    "start_time": "2024-09-09T08:45:56.753Z"
   },
   {
    "duration": 12,
    "start_time": "2024-09-09T08:45:56.992Z"
   },
   {
    "duration": 231,
    "start_time": "2024-09-09T08:45:57.006Z"
   },
   {
    "duration": 238,
    "start_time": "2024-09-09T08:45:57.239Z"
   },
   {
    "duration": 213,
    "start_time": "2024-09-09T08:45:57.479Z"
   },
   {
    "duration": 228,
    "start_time": "2024-09-09T08:45:57.693Z"
   },
   {
    "duration": 111,
    "start_time": "2024-09-09T08:45:57.922Z"
   },
   {
    "duration": 230,
    "start_time": "2024-09-09T08:45:58.035Z"
   },
   {
    "duration": 110,
    "start_time": "2024-09-09T08:45:58.267Z"
   },
   {
    "duration": 249,
    "start_time": "2024-09-09T08:45:58.379Z"
   },
   {
    "duration": 137,
    "start_time": "2024-09-09T08:45:58.630Z"
   },
   {
    "duration": 127,
    "start_time": "2024-09-09T08:45:58.769Z"
   },
   {
    "duration": 222,
    "start_time": "2024-09-09T08:45:58.898Z"
   },
   {
    "duration": 236,
    "start_time": "2024-09-09T08:45:59.122Z"
   },
   {
    "duration": 246,
    "start_time": "2024-09-09T08:45:59.360Z"
   },
   {
    "duration": 126,
    "start_time": "2024-09-09T08:45:59.608Z"
   },
   {
    "duration": 33,
    "start_time": "2024-09-09T08:45:59.736Z"
   },
   {
    "duration": 614,
    "start_time": "2024-09-09T08:45:59.771Z"
   },
   {
    "duration": 31,
    "start_time": "2024-09-09T08:46:00.387Z"
   },
   {
    "duration": 416,
    "start_time": "2024-09-09T08:46:00.420Z"
   },
   {
    "duration": 2,
    "start_time": "2024-09-09T08:46:00.837Z"
   },
   {
    "duration": 38,
    "start_time": "2024-09-09T08:46:00.841Z"
   },
   {
    "duration": 3249,
    "start_time": "2024-09-09T08:47:49.350Z"
   },
   {
    "duration": 2627,
    "start_time": "2024-09-09T08:47:52.601Z"
   },
   {
    "duration": 1371,
    "start_time": "2024-09-09T08:47:55.230Z"
   },
   {
    "duration": 971,
    "start_time": "2024-09-09T08:47:56.603Z"
   },
   {
    "duration": 4,
    "start_time": "2024-09-09T08:47:57.576Z"
   },
   {
    "duration": 939,
    "start_time": "2024-09-09T08:47:57.581Z"
   },
   {
    "duration": 548,
    "start_time": "2024-09-09T08:47:58.522Z"
   },
   {
    "duration": 6,
    "start_time": "2024-09-09T08:47:59.072Z"
   },
   {
    "duration": 199,
    "start_time": "2024-09-09T08:47:59.079Z"
   },
   {
    "duration": 3,
    "start_time": "2024-09-09T08:47:59.281Z"
   },
   {
    "duration": 7,
    "start_time": "2024-09-09T08:47:59.285Z"
   },
   {
    "duration": 19,
    "start_time": "2024-09-09T08:47:59.294Z"
   },
   {
    "duration": 901,
    "start_time": "2024-09-09T08:47:59.315Z"
   },
   {
    "duration": 356,
    "start_time": "2024-09-09T08:48:00.218Z"
   },
   {
    "duration": 163,
    "start_time": "2024-09-09T08:48:00.576Z"
   },
   {
    "duration": 246,
    "start_time": "2024-09-09T08:48:00.741Z"
   },
   {
    "duration": 129,
    "start_time": "2024-09-09T08:48:00.988Z"
   },
   {
    "duration": 8,
    "start_time": "2024-09-09T08:48:01.119Z"
   },
   {
    "duration": 283,
    "start_time": "2024-09-09T08:48:01.128Z"
   },
   {
    "duration": 7,
    "start_time": "2024-09-09T08:48:01.412Z"
   },
   {
    "duration": 299,
    "start_time": "2024-09-09T08:48:01.421Z"
   },
   {
    "duration": 263,
    "start_time": "2024-09-09T08:48:01.721Z"
   },
   {
    "duration": 200,
    "start_time": "2024-09-09T08:48:01.985Z"
   },
   {
    "duration": 249,
    "start_time": "2024-09-09T08:48:02.187Z"
   },
   {
    "duration": 111,
    "start_time": "2024-09-09T08:48:02.437Z"
   },
   {
    "duration": 243,
    "start_time": "2024-09-09T08:48:02.551Z"
   },
   {
    "duration": 119,
    "start_time": "2024-09-09T08:48:02.796Z"
   },
   {
    "duration": 264,
    "start_time": "2024-09-09T08:48:02.918Z"
   },
   {
    "duration": 147,
    "start_time": "2024-09-09T08:48:03.184Z"
   },
   {
    "duration": 163,
    "start_time": "2024-09-09T08:48:03.333Z"
   },
   {
    "duration": 227,
    "start_time": "2024-09-09T08:48:03.498Z"
   },
   {
    "duration": 264,
    "start_time": "2024-09-09T08:48:03.726Z"
   },
   {
    "duration": 267,
    "start_time": "2024-09-09T08:48:03.992Z"
   },
   {
    "duration": 122,
    "start_time": "2024-09-09T08:48:04.261Z"
   },
   {
    "duration": 31,
    "start_time": "2024-09-09T08:48:04.385Z"
   },
   {
    "duration": 530,
    "start_time": "2024-09-09T08:48:04.417Z"
   },
   {
    "duration": 34,
    "start_time": "2024-09-09T08:48:04.951Z"
   },
   {
    "duration": 438,
    "start_time": "2024-09-09T08:48:04.987Z"
   },
   {
    "duration": 2,
    "start_time": "2024-09-09T08:48:05.427Z"
   },
   {
    "duration": 62,
    "start_time": "2024-09-09T08:48:05.431Z"
   },
   {
    "duration": 3112,
    "start_time": "2024-09-09T09:00:36.229Z"
   },
   {
    "duration": 2539,
    "start_time": "2024-09-09T09:00:39.344Z"
   },
   {
    "duration": 1298,
    "start_time": "2024-09-09T09:00:41.886Z"
   },
   {
    "duration": 1004,
    "start_time": "2024-09-09T09:00:43.186Z"
   },
   {
    "duration": 4,
    "start_time": "2024-09-09T09:00:44.192Z"
   },
   {
    "duration": 922,
    "start_time": "2024-09-09T09:00:44.198Z"
   },
   {
    "duration": 554,
    "start_time": "2024-09-09T09:00:45.122Z"
   },
   {
    "duration": 8,
    "start_time": "2024-09-09T09:00:45.678Z"
   },
   {
    "duration": 436,
    "start_time": "2024-09-09T09:00:45.687Z"
   },
   {
    "duration": 3,
    "start_time": "2024-09-09T09:00:46.125Z"
   },
   {
    "duration": 17,
    "start_time": "2024-09-09T09:00:46.130Z"
   },
   {
    "duration": 5,
    "start_time": "2024-09-09T09:00:46.148Z"
   },
   {
    "duration": 884,
    "start_time": "2024-09-09T09:00:46.155Z"
   },
   {
    "duration": 337,
    "start_time": "2024-09-09T09:00:47.041Z"
   },
   {
    "duration": 174,
    "start_time": "2024-09-09T09:00:47.381Z"
   },
   {
    "duration": 245,
    "start_time": "2024-09-09T09:00:47.556Z"
   },
   {
    "duration": 116,
    "start_time": "2024-09-09T09:00:47.802Z"
   },
   {
    "duration": 8,
    "start_time": "2024-09-09T09:00:47.920Z"
   },
   {
    "duration": 246,
    "start_time": "2024-09-09T09:00:47.929Z"
   },
   {
    "duration": 8,
    "start_time": "2024-09-09T09:00:48.177Z"
   },
   {
    "duration": 214,
    "start_time": "2024-09-09T09:00:48.187Z"
   },
   {
    "duration": 244,
    "start_time": "2024-09-09T09:00:48.403Z"
   },
   {
    "duration": 212,
    "start_time": "2024-09-09T09:00:48.649Z"
   },
   {
    "duration": 229,
    "start_time": "2024-09-09T09:00:48.863Z"
   },
   {
    "duration": 106,
    "start_time": "2024-09-09T09:00:49.094Z"
   },
   {
    "duration": 236,
    "start_time": "2024-09-09T09:00:49.202Z"
   },
   {
    "duration": 117,
    "start_time": "2024-09-09T09:00:49.440Z"
   },
   {
    "duration": 247,
    "start_time": "2024-09-09T09:00:49.561Z"
   },
   {
    "duration": 135,
    "start_time": "2024-09-09T09:00:49.810Z"
   },
   {
    "duration": 139,
    "start_time": "2024-09-09T09:00:49.946Z"
   },
   {
    "duration": 214,
    "start_time": "2024-09-09T09:00:50.087Z"
   },
   {
    "duration": 236,
    "start_time": "2024-09-09T09:00:50.303Z"
   },
   {
    "duration": 246,
    "start_time": "2024-09-09T09:00:50.541Z"
   },
   {
    "duration": 120,
    "start_time": "2024-09-09T09:00:50.789Z"
   },
   {
    "duration": 33,
    "start_time": "2024-09-09T09:00:50.910Z"
   },
   {
    "duration": 590,
    "start_time": "2024-09-09T09:00:50.952Z"
   },
   {
    "duration": 31,
    "start_time": "2024-09-09T09:00:51.544Z"
   },
   {
    "duration": 359,
    "start_time": "2024-09-09T09:00:51.577Z"
   },
   {
    "duration": 262,
    "start_time": "2024-09-09T09:02:04.955Z"
   },
   {
    "duration": 263,
    "start_time": "2024-09-09T09:02:11.391Z"
   },
   {
    "duration": 135,
    "start_time": "2024-09-09T09:02:23.332Z"
   },
   {
    "duration": 512,
    "start_time": "2024-09-09T09:02:53.668Z"
   },
   {
    "duration": 478,
    "start_time": "2024-09-09T09:06:14.724Z"
   },
   {
    "duration": 300,
    "start_time": "2024-09-09T09:06:38.658Z"
   },
   {
    "duration": 7,
    "start_time": "2024-09-09T09:09:21.474Z"
   },
   {
    "duration": 8,
    "start_time": "2024-09-09T09:15:34.538Z"
   },
   {
    "duration": 3,
    "start_time": "2024-09-09T09:22:12.288Z"
   },
   {
    "duration": 14,
    "start_time": "2024-09-09T09:24:30.720Z"
   },
   {
    "duration": 2915,
    "start_time": "2024-09-09T09:24:56.855Z"
   },
   {
    "duration": 2399,
    "start_time": "2024-09-09T09:24:59.772Z"
   },
   {
    "duration": 1265,
    "start_time": "2024-09-09T09:25:02.173Z"
   },
   {
    "duration": 930,
    "start_time": "2024-09-09T09:25:03.440Z"
   },
   {
    "duration": 4,
    "start_time": "2024-09-09T09:25:04.372Z"
   },
   {
    "duration": 904,
    "start_time": "2024-09-09T09:25:04.377Z"
   },
   {
    "duration": 536,
    "start_time": "2024-09-09T09:25:05.283Z"
   },
   {
    "duration": 5,
    "start_time": "2024-09-09T09:25:05.821Z"
   },
   {
    "duration": 413,
    "start_time": "2024-09-09T09:25:05.828Z"
   },
   {
    "duration": 9,
    "start_time": "2024-09-09T09:25:06.243Z"
   },
   {
    "duration": 40,
    "start_time": "2024-09-09T09:25:06.254Z"
   },
   {
    "duration": 16,
    "start_time": "2024-09-09T09:25:06.296Z"
   },
   {
    "duration": 847,
    "start_time": "2024-09-09T09:25:06.314Z"
   },
   {
    "duration": 321,
    "start_time": "2024-09-09T09:25:07.166Z"
   },
   {
    "duration": 146,
    "start_time": "2024-09-09T09:25:07.489Z"
   },
   {
    "duration": 223,
    "start_time": "2024-09-09T09:25:07.637Z"
   },
   {
    "duration": 115,
    "start_time": "2024-09-09T09:25:07.862Z"
   },
   {
    "duration": 8,
    "start_time": "2024-09-09T09:25:07.979Z"
   },
   {
    "duration": 239,
    "start_time": "2024-09-09T09:25:07.988Z"
   },
   {
    "duration": 7,
    "start_time": "2024-09-09T09:25:08.229Z"
   },
   {
    "duration": 205,
    "start_time": "2024-09-09T09:25:08.237Z"
   },
   {
    "duration": 221,
    "start_time": "2024-09-09T09:25:08.443Z"
   },
   {
    "duration": 209,
    "start_time": "2024-09-09T09:25:08.665Z"
   },
   {
    "duration": 229,
    "start_time": "2024-09-09T09:25:08.875Z"
   },
   {
    "duration": 107,
    "start_time": "2024-09-09T09:25:09.106Z"
   },
   {
    "duration": 227,
    "start_time": "2024-09-09T09:25:09.215Z"
   },
   {
    "duration": 111,
    "start_time": "2024-09-09T09:25:09.443Z"
   },
   {
    "duration": 254,
    "start_time": "2024-09-09T09:25:09.557Z"
   },
   {
    "duration": 142,
    "start_time": "2024-09-09T09:25:09.813Z"
   },
   {
    "duration": 135,
    "start_time": "2024-09-09T09:25:09.957Z"
   },
   {
    "duration": 206,
    "start_time": "2024-09-09T09:25:10.094Z"
   },
   {
    "duration": 211,
    "start_time": "2024-09-09T09:25:10.302Z"
   },
   {
    "duration": 234,
    "start_time": "2024-09-09T09:25:10.515Z"
   },
   {
    "duration": 115,
    "start_time": "2024-09-09T09:25:10.751Z"
   },
   {
    "duration": 29,
    "start_time": "2024-09-09T09:25:10.868Z"
   },
   {
    "duration": 576,
    "start_time": "2024-09-09T09:25:10.899Z"
   },
   {
    "duration": 26,
    "start_time": "2024-09-09T09:25:11.476Z"
   },
   {
    "duration": 359,
    "start_time": "2024-09-09T09:25:11.504Z"
   },
   {
    "duration": 148,
    "start_time": "2024-09-09T09:25:11.865Z"
   },
   {
    "duration": 412,
    "start_time": "2024-09-09T09:25:12.015Z"
   },
   {
    "duration": 360,
    "start_time": "2024-09-09T09:25:12.431Z"
   },
   {
    "duration": 16101,
    "start_time": "2024-09-09T09:25:12.793Z"
   },
   {
    "duration": 2106,
    "start_time": "2024-09-09T09:26:40.402Z"
   },
   {
    "duration": 2892,
    "start_time": "2024-09-09T09:26:48.703Z"
   },
   {
    "duration": 2371,
    "start_time": "2024-09-09T09:26:51.597Z"
   },
   {
    "duration": 1239,
    "start_time": "2024-09-09T09:26:53.971Z"
   },
   {
    "duration": 876,
    "start_time": "2024-09-09T09:26:55.212Z"
   },
   {
    "duration": 4,
    "start_time": "2024-09-09T09:26:56.090Z"
   },
   {
    "duration": 867,
    "start_time": "2024-09-09T09:26:56.095Z"
   },
   {
    "duration": 520,
    "start_time": "2024-09-09T09:26:56.963Z"
   },
   {
    "duration": 7,
    "start_time": "2024-09-09T09:26:57.484Z"
   },
   {
    "duration": 405,
    "start_time": "2024-09-09T09:26:57.492Z"
   },
   {
    "duration": 3,
    "start_time": "2024-09-09T09:26:57.899Z"
   },
   {
    "duration": 7,
    "start_time": "2024-09-09T09:26:57.903Z"
   },
   {
    "duration": 4,
    "start_time": "2024-09-09T09:26:57.911Z"
   },
   {
    "duration": 817,
    "start_time": "2024-09-09T09:26:57.917Z"
   },
   {
    "duration": 299,
    "start_time": "2024-09-09T09:26:58.736Z"
   },
   {
    "duration": 142,
    "start_time": "2024-09-09T09:26:59.036Z"
   },
   {
    "duration": 214,
    "start_time": "2024-09-09T09:26:59.180Z"
   },
   {
    "duration": 111,
    "start_time": "2024-09-09T09:26:59.396Z"
   },
   {
    "duration": 7,
    "start_time": "2024-09-09T09:26:59.509Z"
   },
   {
    "duration": 224,
    "start_time": "2024-09-09T09:26:59.517Z"
   },
   {
    "duration": 12,
    "start_time": "2024-09-09T09:26:59.743Z"
   },
   {
    "duration": 205,
    "start_time": "2024-09-09T09:26:59.757Z"
   },
   {
    "duration": 238,
    "start_time": "2024-09-09T09:26:59.964Z"
   },
   {
    "duration": 219,
    "start_time": "2024-09-09T09:27:00.204Z"
   },
   {
    "duration": 231,
    "start_time": "2024-09-09T09:27:00.425Z"
   },
   {
    "duration": 105,
    "start_time": "2024-09-09T09:27:00.657Z"
   },
   {
    "duration": 234,
    "start_time": "2024-09-09T09:27:00.764Z"
   },
   {
    "duration": 117,
    "start_time": "2024-09-09T09:27:01.000Z"
   },
   {
    "duration": 244,
    "start_time": "2024-09-09T09:27:01.121Z"
   },
   {
    "duration": 137,
    "start_time": "2024-09-09T09:27:01.367Z"
   },
   {
    "duration": 128,
    "start_time": "2024-09-09T09:27:01.506Z"
   },
   {
    "duration": 222,
    "start_time": "2024-09-09T09:27:01.635Z"
   },
   {
    "duration": 221,
    "start_time": "2024-09-09T09:27:01.859Z"
   },
   {
    "duration": 243,
    "start_time": "2024-09-09T09:27:02.082Z"
   },
   {
    "duration": 114,
    "start_time": "2024-09-09T09:27:02.327Z"
   },
   {
    "duration": 34,
    "start_time": "2024-09-09T09:27:02.443Z"
   },
   {
    "duration": 599,
    "start_time": "2024-09-09T09:27:02.478Z"
   },
   {
    "duration": 26,
    "start_time": "2024-09-09T09:27:03.079Z"
   },
   {
    "duration": 350,
    "start_time": "2024-09-09T09:27:03.107Z"
   },
   {
    "duration": 150,
    "start_time": "2024-09-09T09:27:03.458Z"
   },
   {
    "duration": 470,
    "start_time": "2024-09-09T09:27:03.609Z"
   },
   {
    "duration": 361,
    "start_time": "2024-09-09T09:27:04.080Z"
   },
   {
    "duration": 15601,
    "start_time": "2024-09-09T09:27:04.443Z"
   },
   {
    "duration": 17622,
    "start_time": "2024-09-09T09:37:00.038Z"
   },
   {
    "duration": 2400,
    "start_time": "2024-09-09T09:44:06.041Z"
   },
   {
    "duration": 2911,
    "start_time": "2024-09-09T09:44:08.443Z"
   },
   {
    "duration": 2361,
    "start_time": "2024-09-09T09:44:11.356Z"
   },
   {
    "duration": 1305,
    "start_time": "2024-09-09T09:44:13.721Z"
   },
   {
    "duration": 886,
    "start_time": "2024-09-09T09:44:15.028Z"
   },
   {
    "duration": 4,
    "start_time": "2024-09-09T09:44:15.915Z"
   },
   {
    "duration": 908,
    "start_time": "2024-09-09T09:44:15.921Z"
   },
   {
    "duration": 489,
    "start_time": "2024-09-09T09:44:16.831Z"
   },
   {
    "duration": 6,
    "start_time": "2024-09-09T09:44:17.321Z"
   },
   {
    "duration": 413,
    "start_time": "2024-09-09T09:44:17.329Z"
   },
   {
    "duration": 2,
    "start_time": "2024-09-09T09:44:17.744Z"
   },
   {
    "duration": 12,
    "start_time": "2024-09-09T09:44:17.747Z"
   },
   {
    "duration": 7,
    "start_time": "2024-09-09T09:44:17.760Z"
   },
   {
    "duration": 812,
    "start_time": "2024-09-09T09:44:17.768Z"
   },
   {
    "duration": 314,
    "start_time": "2024-09-09T09:44:18.581Z"
   },
   {
    "duration": 153,
    "start_time": "2024-09-09T09:44:18.897Z"
   },
   {
    "duration": 216,
    "start_time": "2024-09-09T09:44:19.052Z"
   },
   {
    "duration": 120,
    "start_time": "2024-09-09T09:44:19.269Z"
   },
   {
    "duration": 7,
    "start_time": "2024-09-09T09:44:19.391Z"
   },
   {
    "duration": 248,
    "start_time": "2024-09-09T09:44:19.400Z"
   },
   {
    "duration": 8,
    "start_time": "2024-09-09T09:44:19.651Z"
   },
   {
    "duration": 194,
    "start_time": "2024-09-09T09:44:19.660Z"
   },
   {
    "duration": 229,
    "start_time": "2024-09-09T09:44:19.856Z"
   },
   {
    "duration": 197,
    "start_time": "2024-09-09T09:44:20.086Z"
   },
   {
    "duration": 225,
    "start_time": "2024-09-09T09:44:20.285Z"
   },
   {
    "duration": 103,
    "start_time": "2024-09-09T09:44:20.512Z"
   },
   {
    "duration": 217,
    "start_time": "2024-09-09T09:44:20.616Z"
   },
   {
    "duration": 106,
    "start_time": "2024-09-09T09:44:20.836Z"
   },
   {
    "duration": 236,
    "start_time": "2024-09-09T09:44:20.943Z"
   },
   {
    "duration": 139,
    "start_time": "2024-09-09T09:44:21.180Z"
   },
   {
    "duration": 119,
    "start_time": "2024-09-09T09:44:21.321Z"
   },
   {
    "duration": 212,
    "start_time": "2024-09-09T09:44:21.442Z"
   },
   {
    "duration": 208,
    "start_time": "2024-09-09T09:44:21.656Z"
   },
   {
    "duration": 222,
    "start_time": "2024-09-09T09:44:21.865Z"
   },
   {
    "duration": 113,
    "start_time": "2024-09-09T09:44:22.089Z"
   },
   {
    "duration": 29,
    "start_time": "2024-09-09T09:44:22.203Z"
   },
   {
    "duration": 561,
    "start_time": "2024-09-09T09:44:22.233Z"
   },
   {
    "duration": 27,
    "start_time": "2024-09-09T09:44:22.796Z"
   },
   {
    "duration": 357,
    "start_time": "2024-09-09T09:44:22.825Z"
   },
   {
    "duration": 154,
    "start_time": "2024-09-09T09:44:23.183Z"
   },
   {
    "duration": 424,
    "start_time": "2024-09-09T09:44:23.339Z"
   },
   {
    "duration": 377,
    "start_time": "2024-09-09T09:44:23.764Z"
   },
   {
    "duration": 15818,
    "start_time": "2024-09-09T09:44:24.143Z"
   },
   {
    "duration": 18591,
    "start_time": "2024-09-09T09:44:39.963Z"
   },
   {
    "duration": 22010,
    "start_time": "2024-09-09T09:49:02.342Z"
   },
   {
    "duration": 119,
    "start_time": "2024-09-09T09:55:40.734Z"
   },
   {
    "duration": 139,
    "start_time": "2024-09-09T09:55:48.183Z"
   },
   {
    "duration": 2473,
    "start_time": "2024-09-09T09:58:51.943Z"
   },
   {
    "duration": 3000,
    "start_time": "2024-09-09T09:58:54.419Z"
   },
   {
    "duration": 2447,
    "start_time": "2024-09-09T09:58:57.421Z"
   },
   {
    "duration": 1266,
    "start_time": "2024-09-09T09:58:59.870Z"
   },
   {
    "duration": 894,
    "start_time": "2024-09-09T09:59:01.139Z"
   },
   {
    "duration": 4,
    "start_time": "2024-09-09T09:59:02.035Z"
   },
   {
    "duration": 921,
    "start_time": "2024-09-09T09:59:02.041Z"
   },
   {
    "duration": 521,
    "start_time": "2024-09-09T09:59:02.964Z"
   },
   {
    "duration": 7,
    "start_time": "2024-09-09T09:59:03.487Z"
   },
   {
    "duration": 451,
    "start_time": "2024-09-09T09:59:03.496Z"
   },
   {
    "duration": 3,
    "start_time": "2024-09-09T09:59:03.952Z"
   },
   {
    "duration": 12,
    "start_time": "2024-09-09T09:59:03.957Z"
   },
   {
    "duration": 6,
    "start_time": "2024-09-09T09:59:03.972Z"
   },
   {
    "duration": 834,
    "start_time": "2024-09-09T09:59:03.983Z"
   },
   {
    "duration": 319,
    "start_time": "2024-09-09T09:59:04.818Z"
   },
   {
    "duration": 152,
    "start_time": "2024-09-09T09:59:05.139Z"
   },
   {
    "duration": 236,
    "start_time": "2024-09-09T09:59:05.292Z"
   },
   {
    "duration": 122,
    "start_time": "2024-09-09T09:59:05.530Z"
   },
   {
    "duration": 8,
    "start_time": "2024-09-09T09:59:05.653Z"
   },
   {
    "duration": 242,
    "start_time": "2024-09-09T09:59:05.662Z"
   },
   {
    "duration": 7,
    "start_time": "2024-09-09T09:59:05.905Z"
   },
   {
    "duration": 206,
    "start_time": "2024-09-09T09:59:05.914Z"
   },
   {
    "duration": 244,
    "start_time": "2024-09-09T09:59:06.122Z"
   },
   {
    "duration": 209,
    "start_time": "2024-09-09T09:59:06.368Z"
   },
   {
    "duration": 242,
    "start_time": "2024-09-09T09:59:06.579Z"
   },
   {
    "duration": 104,
    "start_time": "2024-09-09T09:59:06.823Z"
   },
   {
    "duration": 241,
    "start_time": "2024-09-09T09:59:06.928Z"
   },
   {
    "duration": 114,
    "start_time": "2024-09-09T09:59:07.171Z"
   },
   {
    "duration": 247,
    "start_time": "2024-09-09T09:59:07.287Z"
   },
   {
    "duration": 138,
    "start_time": "2024-09-09T09:59:07.536Z"
   },
   {
    "duration": 123,
    "start_time": "2024-09-09T09:59:07.675Z"
   },
   {
    "duration": 215,
    "start_time": "2024-09-09T09:59:07.799Z"
   },
   {
    "duration": 207,
    "start_time": "2024-09-09T09:59:08.015Z"
   },
   {
    "duration": 254,
    "start_time": "2024-09-09T09:59:08.223Z"
   },
   {
    "duration": 120,
    "start_time": "2024-09-09T09:59:08.479Z"
   },
   {
    "duration": 29,
    "start_time": "2024-09-09T09:59:08.600Z"
   },
   {
    "duration": 562,
    "start_time": "2024-09-09T09:59:08.631Z"
   },
   {
    "duration": 25,
    "start_time": "2024-09-09T09:59:09.195Z"
   },
   {
    "duration": 365,
    "start_time": "2024-09-09T09:59:09.222Z"
   },
   {
    "duration": 153,
    "start_time": "2024-09-09T09:59:09.588Z"
   },
   {
    "duration": 429,
    "start_time": "2024-09-09T09:59:09.745Z"
   },
   {
    "duration": 365,
    "start_time": "2024-09-09T09:59:10.175Z"
   },
   {
    "duration": 16184,
    "start_time": "2024-09-09T09:59:10.542Z"
   },
   {
    "duration": 22130,
    "start_time": "2024-09-09T09:59:26.727Z"
   },
   {
    "duration": 322,
    "start_time": "2024-09-09T09:59:48.859Z"
   },
   {
    "duration": 125,
    "start_time": "2024-09-09T09:59:49.183Z"
   },
   {
    "duration": 0,
    "start_time": "2024-09-09T09:59:49.310Z"
   },
   {
    "duration": 0,
    "start_time": "2024-09-09T09:59:49.311Z"
   },
   {
    "duration": 5,
    "start_time": "2024-09-09T10:00:28.944Z"
   },
   {
    "duration": 94337,
    "start_time": "2024-09-09T10:00:33.235Z"
   },
   {
    "duration": 4920,
    "start_time": "2024-09-09T10:05:39.035Z"
   },
   {
    "duration": 3,
    "start_time": "2024-09-09T10:06:03.147Z"
   },
   {
    "duration": 2521,
    "start_time": "2024-09-09T11:23:17.678Z"
   },
   {
    "duration": 3051,
    "start_time": "2024-09-09T11:23:20.201Z"
   },
   {
    "duration": 2687,
    "start_time": "2024-09-09T11:23:23.254Z"
   },
   {
    "duration": 1295,
    "start_time": "2024-09-09T11:23:25.944Z"
   },
   {
    "duration": 917,
    "start_time": "2024-09-09T11:23:27.241Z"
   },
   {
    "duration": 5,
    "start_time": "2024-09-09T11:23:28.159Z"
   },
   {
    "duration": 876,
    "start_time": "2024-09-09T11:23:28.165Z"
   },
   {
    "duration": 510,
    "start_time": "2024-09-09T11:23:29.043Z"
   },
   {
    "duration": 7,
    "start_time": "2024-09-09T11:23:29.555Z"
   },
   {
    "duration": 388,
    "start_time": "2024-09-09T11:23:29.564Z"
   },
   {
    "duration": 2,
    "start_time": "2024-09-09T11:23:29.954Z"
   },
   {
    "duration": 17,
    "start_time": "2024-09-09T11:23:29.958Z"
   },
   {
    "duration": 6,
    "start_time": "2024-09-09T11:23:29.976Z"
   },
   {
    "duration": 915,
    "start_time": "2024-09-09T11:23:29.984Z"
   },
   {
    "duration": 339,
    "start_time": "2024-09-09T11:23:30.902Z"
   },
   {
    "duration": 165,
    "start_time": "2024-09-09T11:23:31.242Z"
   },
   {
    "duration": 244,
    "start_time": "2024-09-09T11:23:31.409Z"
   },
   {
    "duration": 128,
    "start_time": "2024-09-09T11:23:31.655Z"
   },
   {
    "duration": 10,
    "start_time": "2024-09-09T11:23:31.785Z"
   },
   {
    "duration": 255,
    "start_time": "2024-09-09T11:23:31.797Z"
   },
   {
    "duration": 8,
    "start_time": "2024-09-09T11:23:32.053Z"
   },
   {
    "duration": 209,
    "start_time": "2024-09-09T11:23:32.063Z"
   },
   {
    "duration": 242,
    "start_time": "2024-09-09T11:23:32.274Z"
   },
   {
    "duration": 221,
    "start_time": "2024-09-09T11:23:32.518Z"
   },
   {
    "duration": 244,
    "start_time": "2024-09-09T11:23:32.741Z"
   },
   {
    "duration": 114,
    "start_time": "2024-09-09T11:23:32.986Z"
   },
   {
    "duration": 244,
    "start_time": "2024-09-09T11:23:33.101Z"
   },
   {
    "duration": 119,
    "start_time": "2024-09-09T11:23:33.348Z"
   },
   {
    "duration": 253,
    "start_time": "2024-09-09T11:23:33.469Z"
   },
   {
    "duration": 145,
    "start_time": "2024-09-09T11:23:33.724Z"
   },
   {
    "duration": 161,
    "start_time": "2024-09-09T11:23:33.871Z"
   },
   {
    "duration": 222,
    "start_time": "2024-09-09T11:23:34.033Z"
   },
   {
    "duration": 231,
    "start_time": "2024-09-09T11:23:34.257Z"
   },
   {
    "duration": 262,
    "start_time": "2024-09-09T11:23:34.490Z"
   },
   {
    "duration": 124,
    "start_time": "2024-09-09T11:23:34.755Z"
   },
   {
    "duration": 34,
    "start_time": "2024-09-09T11:23:34.880Z"
   },
   {
    "duration": 608,
    "start_time": "2024-09-09T11:23:34.915Z"
   },
   {
    "duration": 41,
    "start_time": "2024-09-09T11:23:35.525Z"
   },
   {
    "duration": 366,
    "start_time": "2024-09-09T11:23:35.568Z"
   },
   {
    "duration": 165,
    "start_time": "2024-09-09T11:23:35.936Z"
   },
   {
    "duration": 460,
    "start_time": "2024-09-09T11:23:36.102Z"
   },
   {
    "duration": 368,
    "start_time": "2024-09-09T11:23:36.566Z"
   },
   {
    "duration": 16491,
    "start_time": "2024-09-09T11:23:36.936Z"
   },
   {
    "duration": 22728,
    "start_time": "2024-09-09T11:23:53.429Z"
   },
   {
    "duration": 345,
    "start_time": "2024-09-09T11:24:16.159Z"
   },
   {
    "duration": 56164,
    "start_time": "2024-09-09T11:24:16.506Z"
   },
   {
    "duration": 3,
    "start_time": "2024-09-09T11:25:12.672Z"
   },
   {
    "duration": 18,
    "start_time": "2024-09-09T11:25:12.676Z"
   },
   {
    "duration": 23,
    "start_time": "2024-09-09T11:25:12.695Z"
   },
   {
    "duration": 2486,
    "start_time": "2024-09-09T11:28:10.470Z"
   },
   {
    "duration": 3028,
    "start_time": "2024-09-09T11:28:12.958Z"
   },
   {
    "duration": 2465,
    "start_time": "2024-09-09T11:28:15.988Z"
   },
   {
    "duration": 1315,
    "start_time": "2024-09-09T11:28:18.456Z"
   },
   {
    "duration": 914,
    "start_time": "2024-09-09T11:28:19.773Z"
   },
   {
    "duration": 4,
    "start_time": "2024-09-09T11:28:20.688Z"
   },
   {
    "duration": 892,
    "start_time": "2024-09-09T11:28:20.693Z"
   },
   {
    "duration": 518,
    "start_time": "2024-09-09T11:28:21.587Z"
   },
   {
    "duration": 7,
    "start_time": "2024-09-09T11:28:22.106Z"
   },
   {
    "duration": 416,
    "start_time": "2024-09-09T11:28:22.115Z"
   },
   {
    "duration": 3,
    "start_time": "2024-09-09T11:28:22.532Z"
   },
   {
    "duration": 4,
    "start_time": "2024-09-09T11:28:22.536Z"
   },
   {
    "duration": 13,
    "start_time": "2024-09-09T11:28:22.541Z"
   },
   {
    "duration": 824,
    "start_time": "2024-09-09T11:28:22.555Z"
   },
   {
    "duration": 317,
    "start_time": "2024-09-09T11:28:23.381Z"
   },
   {
    "duration": 154,
    "start_time": "2024-09-09T11:28:23.700Z"
   },
   {
    "duration": 278,
    "start_time": "2024-09-09T11:28:23.855Z"
   },
   {
    "duration": 122,
    "start_time": "2024-09-09T11:28:24.134Z"
   },
   {
    "duration": 8,
    "start_time": "2024-09-09T11:28:24.257Z"
   },
   {
    "duration": 239,
    "start_time": "2024-09-09T11:28:24.266Z"
   },
   {
    "duration": 6,
    "start_time": "2024-09-09T11:28:24.507Z"
   },
   {
    "duration": 208,
    "start_time": "2024-09-09T11:28:24.515Z"
   },
   {
    "duration": 236,
    "start_time": "2024-09-09T11:28:24.725Z"
   },
   {
    "duration": 204,
    "start_time": "2024-09-09T11:28:24.963Z"
   },
   {
    "duration": 231,
    "start_time": "2024-09-09T11:28:25.168Z"
   },
   {
    "duration": 111,
    "start_time": "2024-09-09T11:28:25.401Z"
   },
   {
    "duration": 227,
    "start_time": "2024-09-09T11:28:25.513Z"
   },
   {
    "duration": 105,
    "start_time": "2024-09-09T11:28:25.751Z"
   },
   {
    "duration": 251,
    "start_time": "2024-09-09T11:28:25.858Z"
   },
   {
    "duration": 136,
    "start_time": "2024-09-09T11:28:26.111Z"
   },
   {
    "duration": 124,
    "start_time": "2024-09-09T11:28:26.252Z"
   },
   {
    "duration": 226,
    "start_time": "2024-09-09T11:28:26.377Z"
   },
   {
    "duration": 207,
    "start_time": "2024-09-09T11:28:26.605Z"
   },
   {
    "duration": 242,
    "start_time": "2024-09-09T11:28:26.814Z"
   },
   {
    "duration": 112,
    "start_time": "2024-09-09T11:28:27.057Z"
   },
   {
    "duration": 29,
    "start_time": "2024-09-09T11:28:27.171Z"
   },
   {
    "duration": 573,
    "start_time": "2024-09-09T11:28:27.202Z"
   },
   {
    "duration": 28,
    "start_time": "2024-09-09T11:28:27.776Z"
   },
   {
    "duration": 366,
    "start_time": "2024-09-09T11:28:27.805Z"
   },
   {
    "duration": 167,
    "start_time": "2024-09-09T11:28:28.172Z"
   },
   {
    "duration": 412,
    "start_time": "2024-09-09T11:28:28.340Z"
   },
   {
    "duration": 357,
    "start_time": "2024-09-09T11:28:28.754Z"
   },
   {
    "duration": 15940,
    "start_time": "2024-09-09T11:28:29.113Z"
   },
   {
    "duration": 25304,
    "start_time": "2024-09-09T11:28:45.054Z"
   },
   {
    "duration": 308,
    "start_time": "2024-09-09T11:29:10.364Z"
   },
   {
    "duration": 241286,
    "start_time": "2024-09-09T11:29:10.673Z"
   },
   {
    "duration": 3,
    "start_time": "2024-09-09T11:33:11.961Z"
   },
   {
    "duration": 2575,
    "start_time": "2024-09-09T11:40:32.795Z"
   },
   {
    "duration": 2989,
    "start_time": "2024-09-09T11:40:35.373Z"
   },
   {
    "duration": 2490,
    "start_time": "2024-09-09T11:40:38.369Z"
   },
   {
    "duration": 1308,
    "start_time": "2024-09-09T11:40:40.861Z"
   },
   {
    "duration": 897,
    "start_time": "2024-09-09T11:40:42.171Z"
   },
   {
    "duration": 5,
    "start_time": "2024-09-09T11:40:43.070Z"
   },
   {
    "duration": 997,
    "start_time": "2024-09-09T11:40:43.077Z"
   },
   {
    "duration": 569,
    "start_time": "2024-09-09T11:40:44.076Z"
   },
   {
    "duration": 7,
    "start_time": "2024-09-09T11:40:44.652Z"
   },
   {
    "duration": 426,
    "start_time": "2024-09-09T11:40:44.660Z"
   },
   {
    "duration": 2,
    "start_time": "2024-09-09T11:40:45.088Z"
   },
   {
    "duration": 31,
    "start_time": "2024-09-09T11:40:45.092Z"
   },
   {
    "duration": 21,
    "start_time": "2024-09-09T11:40:45.124Z"
   },
   {
    "duration": 889,
    "start_time": "2024-09-09T11:40:45.147Z"
   },
   {
    "duration": 337,
    "start_time": "2024-09-09T11:40:46.038Z"
   },
   {
    "duration": 163,
    "start_time": "2024-09-09T11:40:46.377Z"
   },
   {
    "duration": 250,
    "start_time": "2024-09-09T11:40:46.542Z"
   },
   {
    "duration": 124,
    "start_time": "2024-09-09T11:40:46.794Z"
   },
   {
    "duration": 12,
    "start_time": "2024-09-09T11:40:46.920Z"
   },
   {
    "duration": 256,
    "start_time": "2024-09-09T11:40:46.933Z"
   },
   {
    "duration": 7,
    "start_time": "2024-09-09T11:40:47.191Z"
   },
   {
    "duration": 210,
    "start_time": "2024-09-09T11:40:47.200Z"
   },
   {
    "duration": 247,
    "start_time": "2024-09-09T11:40:47.412Z"
   },
   {
    "duration": 213,
    "start_time": "2024-09-09T11:40:47.661Z"
   },
   {
    "duration": 236,
    "start_time": "2024-09-09T11:40:47.876Z"
   },
   {
    "duration": 110,
    "start_time": "2024-09-09T11:40:48.114Z"
   },
   {
    "duration": 242,
    "start_time": "2024-09-09T11:40:48.229Z"
   },
   {
    "duration": 116,
    "start_time": "2024-09-09T11:40:48.472Z"
   },
   {
    "duration": 265,
    "start_time": "2024-09-09T11:40:48.590Z"
   },
   {
    "duration": 152,
    "start_time": "2024-09-09T11:40:48.857Z"
   },
   {
    "duration": 128,
    "start_time": "2024-09-09T11:40:49.011Z"
   },
   {
    "duration": 220,
    "start_time": "2024-09-09T11:40:49.140Z"
   },
   {
    "duration": 214,
    "start_time": "2024-09-09T11:40:49.362Z"
   },
   {
    "duration": 237,
    "start_time": "2024-09-09T11:40:49.578Z"
   },
   {
    "duration": 118,
    "start_time": "2024-09-09T11:40:49.817Z"
   },
   {
    "duration": 40,
    "start_time": "2024-09-09T11:40:49.936Z"
   },
   {
    "duration": 603,
    "start_time": "2024-09-09T11:40:49.978Z"
   },
   {
    "duration": 30,
    "start_time": "2024-09-09T11:40:50.582Z"
   },
   {
    "duration": 399,
    "start_time": "2024-09-09T11:40:50.613Z"
   },
   {
    "duration": 167,
    "start_time": "2024-09-09T11:40:51.013Z"
   },
   {
    "duration": 430,
    "start_time": "2024-09-09T11:40:51.182Z"
   },
   {
    "duration": 357,
    "start_time": "2024-09-09T11:40:51.614Z"
   },
   {
    "duration": 16465,
    "start_time": "2024-09-09T11:40:51.973Z"
   },
   {
    "duration": 23816,
    "start_time": "2024-09-09T11:41:08.440Z"
   },
   {
    "duration": 242,
    "start_time": "2024-09-09T11:41:32.258Z"
   },
   {
    "duration": 375480,
    "start_time": "2024-09-09T11:41:32.501Z"
   },
   {
    "duration": 69,
    "start_time": "2024-09-09T11:47:47.983Z"
   },
   {
    "duration": 2678,
    "start_time": "2024-09-09T12:23:58.848Z"
   },
   {
    "duration": 3335,
    "start_time": "2024-09-09T12:24:01.528Z"
   },
   {
    "duration": 2678,
    "start_time": "2024-09-09T12:24:04.866Z"
   },
   {
    "duration": 1399,
    "start_time": "2024-09-09T12:24:07.547Z"
   },
   {
    "duration": 1012,
    "start_time": "2024-09-09T12:24:08.947Z"
   },
   {
    "duration": 5,
    "start_time": "2024-09-09T12:24:09.961Z"
   },
   {
    "duration": 1023,
    "start_time": "2024-09-09T12:24:09.968Z"
   },
   {
    "duration": 562,
    "start_time": "2024-09-09T12:24:10.993Z"
   },
   {
    "duration": 10,
    "start_time": "2024-09-09T12:24:11.560Z"
   },
   {
    "duration": 443,
    "start_time": "2024-09-09T12:24:11.574Z"
   },
   {
    "duration": 3,
    "start_time": "2024-09-09T12:24:12.018Z"
   },
   {
    "duration": 10,
    "start_time": "2024-09-09T12:24:12.022Z"
   },
   {
    "duration": 21,
    "start_time": "2024-09-09T12:24:12.034Z"
   },
   {
    "duration": 891,
    "start_time": "2024-09-09T12:24:12.056Z"
   },
   {
    "duration": 347,
    "start_time": "2024-09-09T12:24:12.948Z"
   },
   {
    "duration": 168,
    "start_time": "2024-09-09T12:24:13.296Z"
   },
   {
    "duration": 245,
    "start_time": "2024-09-09T12:24:13.466Z"
   },
   {
    "duration": 124,
    "start_time": "2024-09-09T12:24:13.712Z"
   },
   {
    "duration": 28,
    "start_time": "2024-09-09T12:24:13.837Z"
   },
   {
    "duration": 319,
    "start_time": "2024-09-09T12:24:13.866Z"
   },
   {
    "duration": 7,
    "start_time": "2024-09-09T12:24:14.186Z"
   },
   {
    "duration": 236,
    "start_time": "2024-09-09T12:24:14.195Z"
   },
   {
    "duration": 261,
    "start_time": "2024-09-09T12:24:14.433Z"
   },
   {
    "duration": 227,
    "start_time": "2024-09-09T12:24:14.695Z"
   },
   {
    "duration": 249,
    "start_time": "2024-09-09T12:24:14.924Z"
   },
   {
    "duration": 107,
    "start_time": "2024-09-09T12:24:15.175Z"
   },
   {
    "duration": 247,
    "start_time": "2024-09-09T12:24:15.284Z"
   },
   {
    "duration": 136,
    "start_time": "2024-09-09T12:24:15.534Z"
   },
   {
    "duration": 246,
    "start_time": "2024-09-09T12:24:15.671Z"
   },
   {
    "duration": 156,
    "start_time": "2024-09-09T12:24:15.919Z"
   },
   {
    "duration": 132,
    "start_time": "2024-09-09T12:24:16.077Z"
   },
   {
    "duration": 248,
    "start_time": "2024-09-09T12:24:16.211Z"
   },
   {
    "duration": 213,
    "start_time": "2024-09-09T12:24:16.460Z"
   },
   {
    "duration": 248,
    "start_time": "2024-09-09T12:24:16.674Z"
   },
   {
    "duration": 147,
    "start_time": "2024-09-09T12:24:16.924Z"
   },
   {
    "duration": 31,
    "start_time": "2024-09-09T12:24:17.072Z"
   },
   {
    "duration": 588,
    "start_time": "2024-09-09T12:24:17.105Z"
   },
   {
    "duration": 30,
    "start_time": "2024-09-09T12:24:17.695Z"
   },
   {
    "duration": 403,
    "start_time": "2024-09-09T12:24:17.727Z"
   },
   {
    "duration": 165,
    "start_time": "2024-09-09T12:24:18.131Z"
   },
   {
    "duration": 432,
    "start_time": "2024-09-09T12:24:18.297Z"
   },
   {
    "duration": 369,
    "start_time": "2024-09-09T12:24:18.731Z"
   },
   {
    "duration": 17327,
    "start_time": "2024-09-09T12:24:19.101Z"
   },
   {
    "duration": 32235,
    "start_time": "2024-09-09T12:24:36.430Z"
   },
   {
    "duration": 309,
    "start_time": "2024-09-09T12:25:08.668Z"
   },
   {
    "duration": 374900,
    "start_time": "2024-09-09T12:25:08.979Z"
   },
   {
    "duration": 5,
    "start_time": "2024-09-09T12:31:23.882Z"
   },
   {
    "duration": 1520258,
    "start_time": "2024-09-09T12:31:23.890Z"
   },
   {
    "duration": 0,
    "start_time": "2024-09-09T12:56:44.153Z"
   },
   {
    "duration": 1214,
    "start_time": "2024-09-14T09:29:27.483Z"
   },
   {
    "duration": 2622,
    "start_time": "2024-09-14T09:29:34.730Z"
   },
   {
    "duration": 6227,
    "start_time": "2024-09-14T09:29:37.355Z"
   },
   {
    "duration": 3196,
    "start_time": "2024-09-14T09:29:43.584Z"
   },
   {
    "duration": 2499,
    "start_time": "2024-09-14T09:29:46.782Z"
   },
   {
    "duration": 532,
    "start_time": "2024-09-14T09:29:49.283Z"
   },
   {
    "duration": 0,
    "start_time": "2024-09-14T09:29:49.816Z"
   },
   {
    "duration": 13,
    "start_time": "2024-09-14T09:30:22.914Z"
   },
   {
    "duration": 3,
    "start_time": "2024-09-14T09:30:35.265Z"
   },
   {
    "duration": 1131,
    "start_time": "2024-09-14T09:30:37.273Z"
   },
   {
    "duration": 2239,
    "start_time": "2024-09-14T10:00:22.762Z"
   },
   {
    "duration": 2737,
    "start_time": "2024-09-14T10:00:25.410Z"
   },
   {
    "duration": 2367,
    "start_time": "2024-09-14T10:00:33.073Z"
   },
   {
    "duration": 2267,
    "start_time": "2024-09-14T10:00:36.754Z"
   },
   {
    "duration": 20,
    "start_time": "2024-09-14T10:00:48.050Z"
   },
   {
    "duration": 5161,
    "start_time": "2024-09-14T10:02:42.805Z"
   },
   {
    "duration": 18,
    "start_time": "2024-09-14T10:02:49.585Z"
   },
   {
    "duration": 2287,
    "start_time": "2024-09-14T10:07:20.426Z"
   },
   {
    "duration": 4757,
    "start_time": "2024-09-14T10:07:22.715Z"
   },
   {
    "duration": 2253,
    "start_time": "2024-09-14T10:07:27.474Z"
   },
   {
    "duration": 2276,
    "start_time": "2024-09-14T10:07:29.730Z"
   },
   {
    "duration": 4837,
    "start_time": "2024-09-14T10:07:32.008Z"
   },
   {
    "duration": 1183,
    "start_time": "2024-09-14T10:07:36.847Z"
   },
   {
    "duration": 818,
    "start_time": "2024-09-14T10:07:38.032Z"
   },
   {
    "duration": 4,
    "start_time": "2024-09-14T10:07:38.851Z"
   },
   {
    "duration": 833,
    "start_time": "2024-09-14T10:07:38.856Z"
   },
   {
    "duration": 482,
    "start_time": "2024-09-14T10:07:39.692Z"
   },
   {
    "duration": 8,
    "start_time": "2024-09-14T10:07:40.177Z"
   },
   {
    "duration": 382,
    "start_time": "2024-09-14T10:07:40.186Z"
   },
   {
    "duration": 4,
    "start_time": "2024-09-14T10:07:40.569Z"
   },
   {
    "duration": 235,
    "start_time": "2024-09-14T10:07:40.574Z"
   },
   {
    "duration": 142,
    "start_time": "2024-09-14T10:07:40.811Z"
   },
   {
    "duration": 211,
    "start_time": "2024-09-14T10:07:40.955Z"
   },
   {
    "duration": 188,
    "start_time": "2024-09-14T10:07:41.167Z"
   },
   {
    "duration": 7,
    "start_time": "2024-09-14T10:07:41.356Z"
   },
   {
    "duration": 216,
    "start_time": "2024-09-14T10:07:41.365Z"
   },
   {
    "duration": 6,
    "start_time": "2024-09-14T10:07:41.583Z"
   },
   {
    "duration": 193,
    "start_time": "2024-09-14T10:07:41.591Z"
   },
   {
    "duration": 213,
    "start_time": "2024-09-14T10:07:41.786Z"
   },
   {
    "duration": 107,
    "start_time": "2024-09-14T10:07:42.000Z"
   },
   {
    "duration": 211,
    "start_time": "2024-09-14T10:07:42.109Z"
   },
   {
    "duration": 85,
    "start_time": "2024-09-14T10:07:42.324Z"
   },
   {
    "duration": 223,
    "start_time": "2024-09-14T10:07:42.411Z"
   },
   {
    "duration": 193,
    "start_time": "2024-09-14T10:07:42.636Z"
   },
   {
    "duration": 228,
    "start_time": "2024-09-14T10:07:42.833Z"
   },
   {
    "duration": 121,
    "start_time": "2024-09-14T10:07:43.063Z"
   },
   {
    "duration": 47,
    "start_time": "2024-09-14T10:07:43.185Z"
   },
   {
    "duration": 39,
    "start_time": "2024-09-14T10:07:43.234Z"
   },
   {
    "duration": 63,
    "start_time": "2024-09-14T10:07:43.275Z"
   },
   {
    "duration": 197,
    "start_time": "2024-09-14T10:07:43.339Z"
   },
   {
    "duration": 99,
    "start_time": "2024-09-14T10:07:43.538Z"
   },
   {
    "duration": 214,
    "start_time": "2024-09-14T10:07:43.639Z"
   },
   {
    "duration": 109,
    "start_time": "2024-09-14T10:07:43.854Z"
   },
   {
    "duration": 29,
    "start_time": "2024-09-14T10:07:43.965Z"
   },
   {
    "duration": 115,
    "start_time": "2024-09-14T10:07:43.995Z"
   },
   {
    "duration": 28,
    "start_time": "2024-09-14T10:07:44.111Z"
   },
   {
    "duration": 120,
    "start_time": "2024-09-14T10:07:44.140Z"
   },
   {
    "duration": 0,
    "start_time": "2024-09-14T10:07:44.261Z"
   },
   {
    "duration": 0,
    "start_time": "2024-09-14T10:07:44.263Z"
   },
   {
    "duration": 0,
    "start_time": "2024-09-14T10:07:44.264Z"
   },
   {
    "duration": 0,
    "start_time": "2024-09-14T10:07:44.265Z"
   },
   {
    "duration": 0,
    "start_time": "2024-09-14T10:07:44.266Z"
   },
   {
    "duration": 0,
    "start_time": "2024-09-14T10:07:44.267Z"
   },
   {
    "duration": 0,
    "start_time": "2024-09-14T10:07:44.268Z"
   },
   {
    "duration": 0,
    "start_time": "2024-09-14T10:07:44.269Z"
   },
   {
    "duration": 0,
    "start_time": "2024-09-14T10:07:44.271Z"
   },
   {
    "duration": 0,
    "start_time": "2024-09-14T10:07:44.271Z"
   },
   {
    "duration": 0,
    "start_time": "2024-09-14T10:07:44.273Z"
   },
   {
    "duration": 0,
    "start_time": "2024-09-14T10:07:44.274Z"
   },
   {
    "duration": 0,
    "start_time": "2024-09-14T10:07:44.275Z"
   },
   {
    "duration": 0,
    "start_time": "2024-09-14T10:07:44.276Z"
   },
   {
    "duration": 0,
    "start_time": "2024-09-14T10:07:44.277Z"
   },
   {
    "duration": 0,
    "start_time": "2024-09-14T10:07:44.278Z"
   },
   {
    "duration": 3728,
    "start_time": "2024-09-14T10:09:15.753Z"
   },
   {
    "duration": 1142,
    "start_time": "2024-09-14T10:09:27.936Z"
   },
   {
    "duration": 81,
    "start_time": "2024-09-14T10:22:21.495Z"
   },
   {
    "duration": 678,
    "start_time": "2024-09-14T10:27:49.515Z"
   },
   {
    "duration": 3907,
    "start_time": "2024-09-14T10:35:36.955Z"
   },
   {
    "duration": 1193,
    "start_time": "2024-09-14T10:35:40.864Z"
   },
   {
    "duration": 18,
    "start_time": "2024-09-14T10:35:45.973Z"
   },
   {
    "duration": 334,
    "start_time": "2024-09-14T10:35:46.992Z"
   },
   {
    "duration": 122,
    "start_time": "2024-09-14T10:36:06.473Z"
   },
   {
    "duration": 59,
    "start_time": "2024-09-14T10:37:51.085Z"
   },
   {
    "duration": 117,
    "start_time": "2024-09-14T11:25:22.157Z"
   },
   {
    "duration": 65,
    "start_time": "2024-09-14T11:28:54.754Z"
   },
   {
    "duration": 140,
    "start_time": "2024-09-14T11:30:10.126Z"
   },
   {
    "duration": 2451,
    "start_time": "2024-09-14T11:44:55.704Z"
   },
   {
    "duration": 4690,
    "start_time": "2024-09-14T11:44:58.157Z"
   },
   {
    "duration": 2225,
    "start_time": "2024-09-14T11:45:02.849Z"
   },
   {
    "duration": 2286,
    "start_time": "2024-09-14T11:45:05.077Z"
   },
   {
    "duration": 2,
    "start_time": "2024-09-14T11:45:07.365Z"
   },
   {
    "duration": 1178,
    "start_time": "2024-09-14T11:45:07.369Z"
   },
   {
    "duration": 817,
    "start_time": "2024-09-14T11:45:08.548Z"
   },
   {
    "duration": 4,
    "start_time": "2024-09-14T11:45:09.366Z"
   },
   {
    "duration": 896,
    "start_time": "2024-09-14T11:45:09.372Z"
   },
   {
    "duration": 491,
    "start_time": "2024-09-14T11:45:10.271Z"
   },
   {
    "duration": 6,
    "start_time": "2024-09-14T11:45:10.764Z"
   },
   {
    "duration": 397,
    "start_time": "2024-09-14T11:45:10.772Z"
   },
   {
    "duration": 3,
    "start_time": "2024-09-14T11:45:11.171Z"
   },
   {
    "duration": 304,
    "start_time": "2024-09-14T11:45:11.176Z"
   },
   {
    "duration": 136,
    "start_time": "2024-09-14T11:45:11.481Z"
   },
   {
    "duration": 213,
    "start_time": "2024-09-14T11:45:11.619Z"
   },
   {
    "duration": 181,
    "start_time": "2024-09-14T11:45:11.834Z"
   },
   {
    "duration": 11,
    "start_time": "2024-09-14T11:45:12.016Z"
   },
   {
    "duration": 216,
    "start_time": "2024-09-14T11:45:12.029Z"
   },
   {
    "duration": 6,
    "start_time": "2024-09-14T11:45:12.247Z"
   },
   {
    "duration": 188,
    "start_time": "2024-09-14T11:45:12.254Z"
   },
   {
    "duration": 210,
    "start_time": "2024-09-14T11:45:12.444Z"
   },
   {
    "duration": 105,
    "start_time": "2024-09-14T11:45:12.655Z"
   },
   {
    "duration": 206,
    "start_time": "2024-09-14T11:45:12.761Z"
   },
   {
    "duration": 87,
    "start_time": "2024-09-14T11:45:12.968Z"
   },
   {
    "duration": 207,
    "start_time": "2024-09-14T11:45:13.057Z"
   },
   {
    "duration": 191,
    "start_time": "2024-09-14T11:45:13.265Z"
   },
   {
    "duration": 209,
    "start_time": "2024-09-14T11:45:13.460Z"
   },
   {
    "duration": 122,
    "start_time": "2024-09-14T11:45:13.670Z"
   },
   {
    "duration": 43,
    "start_time": "2024-09-14T11:45:13.793Z"
   },
   {
    "duration": 40,
    "start_time": "2024-09-14T11:45:13.837Z"
   },
   {
    "duration": 49,
    "start_time": "2024-09-14T11:45:13.878Z"
   },
   {
    "duration": 179,
    "start_time": "2024-09-14T11:45:13.928Z"
   },
   {
    "duration": 99,
    "start_time": "2024-09-14T11:45:14.109Z"
   },
   {
    "duration": 207,
    "start_time": "2024-09-14T11:45:14.209Z"
   },
   {
    "duration": 96,
    "start_time": "2024-09-14T11:45:14.418Z"
   },
   {
    "duration": 32,
    "start_time": "2024-09-14T11:45:14.516Z"
   },
   {
    "duration": 118,
    "start_time": "2024-09-14T11:45:14.549Z"
   },
   {
    "duration": 18,
    "start_time": "2024-09-14T11:45:14.668Z"
   },
   {
    "duration": 3646,
    "start_time": "2024-09-14T11:45:14.688Z"
   },
   {
    "duration": 1124,
    "start_time": "2024-09-14T11:45:18.335Z"
   },
   {
    "duration": 19,
    "start_time": "2024-09-14T11:45:19.461Z"
   },
   {
    "duration": 323,
    "start_time": "2024-09-14T11:45:19.481Z"
   },
   {
    "duration": 134,
    "start_time": "2024-09-14T11:45:19.806Z"
   },
   {
    "duration": 46,
    "start_time": "2024-09-14T11:45:19.942Z"
   },
   {
    "duration": 122,
    "start_time": "2024-09-14T11:45:19.990Z"
   },
   {
    "duration": 0,
    "start_time": "2024-09-14T11:45:20.114Z"
   },
   {
    "duration": 0,
    "start_time": "2024-09-14T11:45:20.115Z"
   },
   {
    "duration": 0,
    "start_time": "2024-09-14T11:45:20.116Z"
   },
   {
    "duration": 0,
    "start_time": "2024-09-14T11:45:20.125Z"
   },
   {
    "duration": 0,
    "start_time": "2024-09-14T11:45:20.126Z"
   },
   {
    "duration": 0,
    "start_time": "2024-09-14T11:45:20.127Z"
   },
   {
    "duration": 0,
    "start_time": "2024-09-14T11:45:20.128Z"
   },
   {
    "duration": 0,
    "start_time": "2024-09-14T11:45:20.129Z"
   },
   {
    "duration": 0,
    "start_time": "2024-09-14T11:45:20.130Z"
   },
   {
    "duration": 0,
    "start_time": "2024-09-14T11:45:20.132Z"
   },
   {
    "duration": 4,
    "start_time": "2024-09-14T11:46:28.140Z"
   },
   {
    "duration": 886,
    "start_time": "2024-09-14T11:46:33.820Z"
   },
   {
    "duration": 1819,
    "start_time": "2024-09-14T11:48:40.740Z"
   },
   {
    "duration": 15,
    "start_time": "2024-09-14T11:49:07.043Z"
   },
   {
    "duration": 2216,
    "start_time": "2024-09-14T11:49:14.791Z"
   },
   {
    "duration": 2716,
    "start_time": "2024-09-14T11:49:17.009Z"
   },
   {
    "duration": 2239,
    "start_time": "2024-09-14T11:49:19.727Z"
   },
   {
    "duration": 2236,
    "start_time": "2024-09-14T11:49:21.968Z"
   },
   {
    "duration": 3,
    "start_time": "2024-09-14T11:49:24.206Z"
   },
   {
    "duration": 1238,
    "start_time": "2024-09-14T11:49:24.210Z"
   },
   {
    "duration": 869,
    "start_time": "2024-09-14T11:49:25.449Z"
   },
   {
    "duration": 5,
    "start_time": "2024-09-14T11:49:26.320Z"
   },
   {
    "duration": 842,
    "start_time": "2024-09-14T11:49:26.326Z"
   },
   {
    "duration": 489,
    "start_time": "2024-09-14T11:49:27.170Z"
   },
   {
    "duration": 6,
    "start_time": "2024-09-14T11:49:27.660Z"
   },
   {
    "duration": 390,
    "start_time": "2024-09-14T11:49:27.668Z"
   },
   {
    "duration": 4,
    "start_time": "2024-09-14T11:49:28.059Z"
   },
   {
    "duration": 244,
    "start_time": "2024-09-14T11:49:28.064Z"
   },
   {
    "duration": 147,
    "start_time": "2024-09-14T11:49:28.309Z"
   },
   {
    "duration": 216,
    "start_time": "2024-09-14T11:49:28.457Z"
   },
   {
    "duration": 187,
    "start_time": "2024-09-14T11:49:28.674Z"
   },
   {
    "duration": 11,
    "start_time": "2024-09-14T11:49:28.862Z"
   },
   {
    "duration": 224,
    "start_time": "2024-09-14T11:49:28.874Z"
   },
   {
    "duration": 7,
    "start_time": "2024-09-14T11:49:29.099Z"
   },
   {
    "duration": 191,
    "start_time": "2024-09-14T11:49:29.107Z"
   },
   {
    "duration": 192,
    "start_time": "2024-09-14T11:49:29.299Z"
   },
   {
    "duration": 121,
    "start_time": "2024-09-14T11:49:29.493Z"
   },
   {
    "duration": 217,
    "start_time": "2024-09-14T11:49:29.616Z"
   },
   {
    "duration": 94,
    "start_time": "2024-09-14T11:49:29.834Z"
   },
   {
    "duration": 216,
    "start_time": "2024-09-14T11:49:29.930Z"
   },
   {
    "duration": 191,
    "start_time": "2024-09-14T11:49:30.148Z"
   },
   {
    "duration": 225,
    "start_time": "2024-09-14T11:49:30.342Z"
   },
   {
    "duration": 122,
    "start_time": "2024-09-14T11:49:30.568Z"
   },
   {
    "duration": 48,
    "start_time": "2024-09-14T11:49:30.691Z"
   },
   {
    "duration": 39,
    "start_time": "2024-09-14T11:49:30.740Z"
   },
   {
    "duration": 44,
    "start_time": "2024-09-14T11:49:30.781Z"
   },
   {
    "duration": 191,
    "start_time": "2024-09-14T11:49:30.827Z"
   },
   {
    "duration": 104,
    "start_time": "2024-09-14T11:49:31.024Z"
   },
   {
    "duration": 214,
    "start_time": "2024-09-14T11:49:31.129Z"
   },
   {
    "duration": 105,
    "start_time": "2024-09-14T11:49:31.345Z"
   },
   {
    "duration": 28,
    "start_time": "2024-09-14T11:49:31.451Z"
   },
   {
    "duration": 179,
    "start_time": "2024-09-14T11:49:31.480Z"
   },
   {
    "duration": 19,
    "start_time": "2024-09-14T11:49:31.661Z"
   },
   {
    "duration": 3793,
    "start_time": "2024-09-14T11:49:31.681Z"
   },
   {
    "duration": 1183,
    "start_time": "2024-09-14T11:49:35.475Z"
   },
   {
    "duration": 14,
    "start_time": "2024-09-14T11:49:36.660Z"
   },
   {
    "duration": 288,
    "start_time": "2024-09-14T11:49:36.676Z"
   },
   {
    "duration": 122,
    "start_time": "2024-09-14T11:49:36.965Z"
   },
   {
    "duration": 48,
    "start_time": "2024-09-14T11:49:37.088Z"
   },
   {
    "duration": 1826,
    "start_time": "2024-09-14T11:49:37.138Z"
   },
   {
    "duration": 3,
    "start_time": "2024-09-14T11:49:38.966Z"
   },
   {
    "duration": 7,
    "start_time": "2024-09-14T11:49:38.970Z"
   },
   {
    "duration": 5,
    "start_time": "2024-09-14T11:49:38.978Z"
   },
   {
    "duration": 4,
    "start_time": "2024-09-14T11:49:38.984Z"
   },
   {
    "duration": 7,
    "start_time": "2024-09-14T11:49:38.989Z"
   },
   {
    "duration": 3,
    "start_time": "2024-09-14T11:49:38.998Z"
   },
   {
    "duration": 23,
    "start_time": "2024-09-14T11:49:39.002Z"
   },
   {
    "duration": 28,
    "start_time": "2024-09-14T11:49:39.027Z"
   },
   {
    "duration": 24,
    "start_time": "2024-09-14T11:49:39.057Z"
   },
   {
    "duration": 63,
    "start_time": "2024-09-14T11:49:39.083Z"
   },
   {
    "duration": 76654,
    "start_time": "2024-09-14T12:40:35.511Z"
   },
   {
    "duration": 82133,
    "start_time": "2024-09-14T12:42:29.497Z"
   }
  ],
  "kernelspec": {
   "display_name": "Python 3 (ipykernel)",
   "language": "python",
   "name": "python3"
  },
  "language_info": {
   "codemirror_mode": {
    "name": "ipython",
    "version": 3
   },
   "file_extension": ".py",
   "mimetype": "text/x-python",
   "name": "python",
   "nbconvert_exporter": "python",
   "pygments_lexer": "ipython3",
   "version": "3.9.5"
  },
  "toc": {
   "base_numbering": 1,
   "nav_menu": {},
   "number_sections": true,
   "sideBar": true,
   "skip_h1_title": true,
   "title_cell": "Table of Contents",
   "title_sidebar": "Contents",
   "toc_cell": false,
   "toc_position": {},
   "toc_section_display": true,
   "toc_window_display": false
  }
 },
 "nbformat": 4,
 "nbformat_minor": 2
}
